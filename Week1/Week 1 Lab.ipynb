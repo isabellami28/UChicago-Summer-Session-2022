{
 "cells": [
  {
   "cell_type": "markdown",
   "id": "0d147b87",
   "metadata": {},
   "source": [
    "<h1 style=\"color:Green;\">Week 1 Lab - due by 10th July, 2022 (11:59 pm CDT )</h1> "
   ]
  },
  {
   "cell_type": "markdown",
   "id": "62447f03",
   "metadata": {},
   "source": [
    "<a style=\"color:purple;\" href=\"https://docs.google.com/presentation/d/19UcHoIW3OC2Fd18_VkooiumdG5NtQpu-RoCgfz_I4nM/edit#slide=id.g11b032e97d3_0_0\">[Week 1 Lecture Link Here]</a>"
   ]
  },
  {
   "cell_type": "markdown",
   "id": "26281a02",
   "metadata": {},
   "source": [
    "<h2 style=\"color:black;\"> Objective: to perform Exploratory Data Analysis (EDA) on a multiple-asset portfolio</h2> "
   ]
  },
  {
   "cell_type": "markdown",
   "id": "28f427aa",
   "metadata": {},
   "source": [
    "<h2 style=\"color:Green;\">Setup and Loading Packages</h2> Setup and Loading Packages"
   ]
  },
  {
   "cell_type": "code",
   "execution_count": null,
   "id": "b7d7e22e",
   "metadata": {},
   "outputs": [],
   "source": [
    "# ! pip install pandas_datareader"
   ]
  },
  {
   "cell_type": "code",
   "execution_count": 61,
   "id": "c576f9f3",
   "metadata": {},
   "outputs": [],
   "source": [
    "%matplotlib inline\n",
    "import numpy as np\n",
    "import pandas as pd\n",
    "from matplotlib import pyplot as plt\n",
    "import seaborn as sns\n",
    "import scipy.stats as stats\n",
    "from datetime import datetime, timedelta\n",
    "from sklearn.preprocessing import scale\n",
    "from sklearn.model_selection import train_test_split\n",
    "from matplotlib.ticker import FuncFormatter\n",
    "import pandas_datareader as pdr"
   ]
  },
  {
   "cell_type": "markdown",
   "id": "7b726ce9",
   "metadata": {},
   "source": [
    "Months following the COVID-19 pandemic recovery, the stock market seems to slow down on its ralley and the cryptocurrency market continues to show volatility. As a quantitative analyst and an investor, you want to understand the empirical behaviors of the assets before building a predictive model and investing in them, since you believe that this can give you a statistical edge in your portfolio. You have several assets in mind and would like to conduct an initial analysis on their historical performances to see if they are a good makeup for your portfolio.<br><br>\n",
    "Please complete the following problems to perform full EDA on your stock selection."
   ]
  },
  {
   "cell_type": "markdown",
   "id": "9c66e838",
   "metadata": {},
   "source": [
    "<h2 style=\"color:Green;\">Problem 1: Preliminary Visualization</h2>"
   ]
  },
  {
   "cell_type": "markdown",
   "id": "b2121999",
   "metadata": {},
   "source": [
    "a) Select 3-5 assets of your prefernce, then specify their ticker(s), start and end dates of their price data you want to explore.<br><br>\n",
    "Notice that any assets can be selected, and not just stocks. For example, cryptocurrency and foreign exchange instruments can be suggested as well. Some relatively new cryptocurrencies (e.g., Solana, USD Coin) only have complete data dating back to three or four years ago, so setting the duration of data further back than these dates may result in inaccurate representation of their relationships."
   ]
  },
  {
   "cell_type": "code",
   "execution_count": 62,
   "id": "eb06109f",
   "metadata": {},
   "outputs": [],
   "source": [
    "################ EDIT CODE LINES HERE #################\n",
    "\n",
    "symbolList =  [] # asset ticker symbols \n",
    "START_DATE = '' # asset data start date \n",
    "END_DATE = '' # asset data end date\n",
    "\n",
    "#####################################################"
   ]
  },
  {
   "cell_type": "markdown",
   "id": "e8edb29c",
   "metadata": {},
   "source": [
    "Run the following code chunk to extract the adjusted close prices and compute log returns of Apple's stock from Yahoo Finance.<br>\n",
    "<p style=\"color:red;\">PLEASE DO NOT CHANGE THIS CODE !!!</p>"
   ]
  },
  {
   "cell_type": "code",
   "execution_count": 74,
   "id": "129b7cab",
   "metadata": {},
   "outputs": [],
   "source": [
    "stockPxList = pdr.DataReader(symbolList , 'yahoo', START_DATE, END_DATE)['Adj Close'] # retreiving asset price data from yahoo finance\n",
    "# converting prices to log returns and removing NaN values\n",
    "stockLogRetList = np.log(stockPxList).diff().dropna()"
   ]
  },
  {
   "cell_type": "markdown",
   "id": "c415c0f9",
   "metadata": {},
   "source": [
    "b) Please write a code piece to perform 2 visualizaitons on the assets' log returns you extracted from a). <br><br>\n",
    "Since there are at least 3 assets, plots such as time plot, scatter plot, box plot, and histogram would have to be plotted more than once to evaluate each asset."
   ]
  },
  {
   "cell_type": "markdown",
   "id": "861dc34d",
   "metadata": {},
   "source": [
    "Visualization #1: "
   ]
  },
  {
   "cell_type": "code",
   "execution_count": null,
   "id": "1d4aa985",
   "metadata": {},
   "outputs": [],
   "source": [
    "################ EDIT CODE LINES HERE #################\n",
    "\n",
    "\n",
    "\n",
    "#####################################################"
   ]
  },
  {
   "cell_type": "markdown",
   "id": "4e3ae7b0",
   "metadata": {},
   "source": [
    "Visualization #2:"
   ]
  },
  {
   "cell_type": "code",
   "execution_count": null,
   "id": "b9e077e2",
   "metadata": {},
   "outputs": [],
   "source": [
    "################ EDIT CODE LINES HERE #################\n",
    "\n",
    "\n",
    "\n",
    "\n",
    "#####################################################"
   ]
  },
  {
   "cell_type": "markdown",
   "id": "38e33732",
   "metadata": {},
   "source": [
    "c) Interpret the visualizations that you performed above. What can you say about them?"
   ]
  },
  {
   "cell_type": "markdown",
   "id": "dce040aa",
   "metadata": {},
   "source": [
    "[Write your answer here]"
   ]
  },
  {
   "cell_type": "markdown",
   "id": "6e2c1970",
   "metadata": {},
   "source": [
    "<h2 style=\"color:Green;\">Problem 2: Preliminary Normality Testing</h2>"
   ]
  },
  {
   "cell_type": "markdown",
   "id": "54641c0a",
   "metadata": {},
   "source": [
    "You realized that within the date range you specified, there may be some days when the assets make big directional swings, hence skewing the data or thickening the probabilities of extreme values. To keep your minds in peace, you decided to perform normality testing to understand how your assets' distribution compare to what's condered 'normal'.<br><br>\n",
    "(e.g., If your date range spans the COVID-19 pandemic, you may see more extreme tail values or outliers in your log returns, which deviates from a normal distribution because the market fluctuates a lot during this time.)<br><br>\n",
    "a) Please write a code piece to perform 1 normality test on the assets' returns you extracted from problem 1."
   ]
  },
  {
   "cell_type": "code",
   "execution_count": null,
   "id": "b1cceb2f",
   "metadata": {},
   "outputs": [],
   "source": [
    "################ EDIT CODE LINES HERE #################\n",
    "\n",
    "\n",
    "\n",
    "\n",
    "#####################################################"
   ]
  },
  {
   "cell_type": "markdown",
   "id": "61af7310",
   "metadata": {},
   "source": [
    "b) Interpret the result you obtained from the normality test you chose in part a). What can you say about it?"
   ]
  },
  {
   "cell_type": "markdown",
   "id": "79ad0b1c",
   "metadata": {},
   "source": [
    "[Write your answer here]"
   ]
  },
  {
   "cell_type": "markdown",
   "id": "473a63a3",
   "metadata": {},
   "source": [
    "<h2 style=\"color:Green;\">Problem 3: Preliminary Pre-processing </h2>"
   ]
  },
  {
   "cell_type": "markdown",
   "id": "69dbfd95",
   "metadata": {},
   "source": [
    "Imbalanced labels is a classification predictive modeling problem where the distribution of examples across the classes is not equal. For example, we may collect measurements of cats and have 80 samples of one cat species and 20 samples of a second cat species. This represents an example of an imbalanced classification problem. A 50-50 or a near-50-50 sample species would form a balanced classification problem.<br/>\n",
    "\n",
    "As a quantitative analyst, you are curious as to how the list of assets you chose above helps predict the direction of another asset. But before diving into the modeling portion, you want to investigate any label imbalance problems. <br>\n",
    "\n",
    "Please read this blog before jumping into this question: https://machinelearningmastery.com/what-is-imbalanced-classification/"
   ]
  },
  {
   "cell_type": "markdown",
   "id": "caf012d0",
   "metadata": {},
   "source": [
    "a) Specify the ticker of the asset whose direction you are interested in predicting. This stock shall be different than the ones you chose in problem 1."
   ]
  },
  {
   "cell_type": "code",
   "execution_count": 64,
   "id": "79ec8e35",
   "metadata": {},
   "outputs": [],
   "source": [
    "SYMBOL = '' # asset ticker symbol"
   ]
  },
  {
   "cell_type": "markdown",
   "id": "5829c45f",
   "metadata": {},
   "source": [
    "Run the following code chunk. This will binarize the returns for the asset that you're trying to predict over the period specified above. In other words, the asset's price will be transformed into 0's and 1's - 0 if price did not go up, 1 if price went up. A bar plot is produced to show the label distribution. For instance, there should be one bar showing how many days the stock goes up and another showing how many days the stock goes down.<br/>\n",
    "\n",
    "<p style=\"color:red;\">PLEASE DO NOT CHANGE THIS CODE CHUNK!!!</p>"
   ]
  },
  {
   "cell_type": "raw",
   "id": "75b4630d",
   "metadata": {},
   "source": [
    "FEATURES = symbolList.copy()\n",
    "stockPx = pdr.get_data_yahoo(SYMBOL, START_DATE, END_DATE)['Adj Close'] # storing adjusted stock prices into a variable \n",
    "stockPx01 = (stockPx.pct_change().dropna() > 0).astype(int)\n",
    "# visualize directional label distribution\n",
    "ax = sns.countplot(x = stockPx01)\n",
    "plt.title('Directional (Up=1/Down=0) Distribution')\n",
    "plt.xlabel(SYMBOL + ' Direction')\n",
    "plt.ylabel('Count')\n",
    "total = len(stockPx01)\n",
    "for p in ax.patches:\n",
    "        percentage = '{:.2f}%'.format(100 * p.get_height()/total)\n",
    "        x_coord = p.get_x() \n",
    "        y_coord = p.get_y() + p.get_height()+0.02\n",
    "        ax.annotate(percentage, (x_coord, y_coord))"
   ]
  },
  {
   "cell_type": "markdown",
   "id": "f52d0c3d",
   "metadata": {},
   "source": [
    "b) Are the lables balanced or imbalanced? Why?<br/>"
   ]
  },
  {
   "cell_type": "markdown",
   "id": "44929dd7",
   "metadata": {},
   "source": [
    "[Write your answer here]"
   ]
  },
  {
   "cell_type": "markdown",
   "id": "88bb57b2",
   "metadata": {},
   "source": [
    "c) How do you think they can affect our prediction? (Hint: think about what the training data will look like)"
   ]
  },
  {
   "cell_type": "markdown",
   "id": "2e5d6aa0",
   "metadata": {},
   "source": [
    "[Write your answer here]"
   ]
  },
  {
   "cell_type": "markdown",
   "id": "0a218c0e",
   "metadata": {},
   "source": [
    "d) Please suggest one way to handle imbalanced data?"
   ]
  },
  {
   "cell_type": "markdown",
   "id": "7f873754",
   "metadata": {},
   "source": [
    "[Write your answer here]"
   ]
  },
  {
   "cell_type": "markdown",
   "id": "ea27b9da",
   "metadata": {},
   "source": [
    "e) What is are the features in this problem? "
   ]
  },
  {
   "cell_type": "markdown",
   "id": "eca3de22",
   "metadata": {},
   "source": [
    "[Write your answer here]"
   ]
  },
  {
   "cell_type": "markdown",
   "id": "5cfff944",
   "metadata": {},
   "source": [
    "f) Please write a one-line code to split the data into 80% training set and 20% testing set."
   ]
  },
  {
   "cell_type": "code",
   "execution_count": 69,
   "id": "23ff8cd4",
   "metadata": {},
   "outputs": [],
   "source": [
    "################ EDIT CODE LINES HERE #################\n",
    "\n",
    "\n",
    "\n",
    "#####################################################"
   ]
  },
  {
   "cell_type": "markdown",
   "id": "67be5e75",
   "metadata": {},
   "source": [
    "g) Please write a code piece to visualize the feature importance ranking of with a bar plot. How are the features ranked by their importance scores?<br><br> \n",
    "(Hint: you would need to split the data first in part e) before computing the importance scores here)"
   ]
  },
  {
   "cell_type": "code",
   "execution_count": null,
   "id": "1a99b397",
   "metadata": {},
   "outputs": [],
   "source": [
    "################ EDIT CODE LINES HERE #################\n",
    "\n",
    "\n",
    "\n",
    "#####################################################"
   ]
  },
  {
   "cell_type": "markdown",
   "id": "c285ac1f",
   "metadata": {},
   "source": [
    "[Write your answer here]"
   ]
  }
 ],
 "metadata": {
  "kernelspec": {
   "display_name": "Python 3",
   "language": "python",
   "name": "python3"
  },
  "language_info": {
   "codemirror_mode": {
    "name": "ipython",
    "version": 3
   },
   "file_extension": ".py",
   "mimetype": "text/x-python",
   "name": "python",
   "nbconvert_exporter": "python",
   "pygments_lexer": "ipython3",
   "version": "3.7.6"
  }
 },
 "nbformat": 4,
 "nbformat_minor": 5
}
