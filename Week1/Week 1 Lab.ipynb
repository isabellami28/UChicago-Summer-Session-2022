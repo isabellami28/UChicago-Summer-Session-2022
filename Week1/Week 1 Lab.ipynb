{
 "cells": [
  {
   "cell_type": "markdown",
   "id": "0d147b87",
   "metadata": {},
   "source": [
    "<h1 style=\"color:Green;\">Week 1 Lab</h1> "
   ]
  },
  {
   "cell_type": "markdown",
   "id": "62447f03",
   "metadata": {},
   "source": [
    "<a style=\"color:purple;\" href=\"https://docs.google.com/presentation/d/19UcHoIW3OC2Fd18_VkooiumdG5NtQpu-RoCgfz_I4nM/edit#slide=id.g11b032e97d3_0_0\">[Week 1 Lecture Link Here]</a>"
   ]
  },
  {
   "cell_type": "markdown",
   "id": "9d773b96",
   "metadata": {},
   "source": [
    "<h2 style=\"color:Green;\">Setup and Loading Packages</h2> Setup and Loading Packages"
   ]
  },
  {
   "cell_type": "code",
   "execution_count": null,
   "id": "c576f9f3",
   "metadata": {},
   "outputs": [],
   "source": [
    "%matplotlib inline\n",
    "import numpy as np\n",
    "import pandas as pd\n",
    "from matplotlib import pyplot as plt\n",
    "import seaborn as sns\n",
    "import scipy.stats as stats\n",
    "from datetime import datetime, timedelta\n",
    "from sklearn.preprocessing import scale\n",
    "from matplotlib.ticker import FuncFormatter\n",
    "import pandas_datareader as pdr"
   ]
  },
  {
   "cell_type": "markdown",
   "id": "7b7be8ba",
   "metadata": {},
   "source": [
    "<h2 style=\"color:Green;\">Problem 1: </h2><br/>"
   ]
  },
  {
   "cell_type": "markdown",
   "id": "884f8985",
   "metadata": {},
   "source": [
    "<h2 style=\"color:Green;\">Problem 2: Imbalanced Labels for Stock Directions</h2><br/>"
   ]
  },
  {
   "cell_type": "markdown",
   "id": "8a61b141",
   "metadata": {},
   "source": [
    "Imbalanced labels is a classification predictive modeling problem where the distribution of examples across the classes is not equal. For example, we may collect measurements of cats and have 80 samples of one cat species and 20 samples of a second cat species. This represents an example of an imbalanced classification problem. A 50-50 or a near-50-50 sample species would form a balanced classification problem.<br/>\n",
    "\n",
    "As a quantitative analyst, you are curious as to how a stock direction behave throughout a certain period. You want to investigate any label-imbalance problems before diving into actual modeling. <br/>\n",
    "\n",
    "Please read this blog before jumping into this question: https://machinelearningmastery.com/what-is-imbalanced-classification/"
   ]
  },
  {
   "cell_type": "markdown",
   "id": "38cd4dfe",
   "metadata": {},
   "source": [
    "a) Go ahead and select a stock, then specify its ticker and the duration of the it's price data you want to explore."
   ]
  },
  {
   "cell_type": "code",
   "execution_count": null,
   "id": "3d18b0a8",
   "metadata": {},
   "outputs": [],
   "source": [
    "################ EDIT CODE LINE HERE #################\n",
    "\n",
    "SYMBOL = '' # Enter stock ticker symbol\n",
    "TAU =   # duration span (in years) of observed data\n",
    "\n",
    "#####################################################"
   ]
  },
  {
   "cell_type": "markdown",
   "id": "07faa5f7",
   "metadata": {},
   "source": [
    "Run the following code chunk. This will binarize the returns for the asset over the period you specified above. In other words, the asset's price will be transformed into 0's and 1's - 0 if price did not go up, 1 if price went up. A plot is produced to show the label distribution. For instance, there should be one bar showing how many days the stock goes up and another showing how many days the stock goes down.<br/>\n",
    "\n",
    "<p style=\"color:red;\">PLEASE DO NOT CHANGE THIS CODE CHUNK!!!</p>"
   ]
  },
  {
   "cell_type": "code",
   "execution_count": null,
   "id": "064c88c8",
   "metadata": {},
   "outputs": [],
   "source": [
    "START_DATE = (datetime.today() - timedelta(days = TAU * 365)).strftime('%Y-%m-%d') # data start date\n",
    "END_DATE = datetime.today().strftime('%Y-%m-%d') # data end date\n",
    "stockPx = pdr.get_data_yahoo(SYMBOL, START_DATE, END_DATE)['Adj Close'] # storing adjusted stock prices into a variable \n",
    "stockPx01 = pd.DataFrame((stockPx.pct_change().dropna() > 0).astype(int))\n",
    "# visualize class distribution\n",
    "ax = sns.countplot(x='Adj Close', data=stockPx01)\n",
    "plt.title('Directional (Up/Down) Distribution')\n",
    "plt.xlabel(SYMBOL + ' Direction')\n",
    "plt.ylabel('Count')\n",
    "total = len(stockPx01['Adj Close'])\n",
    "for p in ax.patches:\n",
    "        percentage = '{:.2f}%'.format(100 * p.get_height()/total)\n",
    "        x_coord = p.get_x() \n",
    "        y_coord = p.get_y() + p.get_height()+0.02\n",
    "        ax.annotate(percentage, (x_coord, y_coord))"
   ]
  },
  {
   "cell_type": "markdown",
   "id": "fa1c6bae",
   "metadata": {},
   "source": [
    "Are the lables balanced or imbalanced? <br/>"
   ]
  },
  {
   "cell_type": "code",
   "execution_count": null,
   "id": "05e23401",
   "metadata": {},
   "outputs": [],
   "source": [
    "[Write your answer here]"
   ]
  },
  {
   "cell_type": "markdown",
   "id": "35545b51",
   "metadata": {},
   "source": [
    "c) How do you think they can affect our prediction? (Hint: think about what the training data will look like)"
   ]
  },
  {
   "cell_type": "code",
   "execution_count": null,
   "id": "e9dd606a",
   "metadata": {},
   "outputs": [],
   "source": [
    "[Write your answer here]"
   ]
  },
  {
   "cell_type": "markdown",
   "id": "8e52de4f",
   "metadata": {},
   "source": [
    "d) Please suggest one way to handle imbalanced data? (Hint: think about ways to re-balance the labels, or ask google)"
   ]
  },
  {
   "cell_type": "code",
   "execution_count": null,
   "id": "43d287db",
   "metadata": {},
   "outputs": [],
   "source": [
    "[Write your answer here]"
   ]
  },
  {
   "cell_type": "markdown",
   "id": "cd218cbc",
   "metadata": {},
   "source": [
    "<h2 style=\"color:Green;\">Problem 3: </h2><br/>"
   ]
  },
  {
   "cell_type": "code",
   "execution_count": null,
   "id": "67b37652",
   "metadata": {},
   "outputs": [],
   "source": []
  },
  {
   "cell_type": "code",
   "execution_count": null,
   "id": "a7acc82c",
   "metadata": {},
   "outputs": [],
   "source": []
  },
  {
   "cell_type": "code",
   "execution_count": null,
   "id": "4efcd966",
   "metadata": {},
   "outputs": [],
   "source": []
  },
  {
   "cell_type": "code",
   "execution_count": null,
   "id": "5bce0ee0",
   "metadata": {},
   "outputs": [],
   "source": []
  }
 ],
 "metadata": {
  "kernelspec": {
   "display_name": "Python 3",
   "language": "python",
   "name": "python3"
  },
  "language_info": {
   "codemirror_mode": {
    "name": "ipython",
    "version": 3
   },
   "file_extension": ".py",
   "mimetype": "text/x-python",
   "name": "python",
   "nbconvert_exporter": "python",
   "pygments_lexer": "ipython3",
   "version": "3.7.6"
  }
 },
 "nbformat": 4,
 "nbformat_minor": 5
}
