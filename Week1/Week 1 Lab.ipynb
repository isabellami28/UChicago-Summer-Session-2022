{
 "cells": [
  {
   "cell_type": "markdown",
   "id": "0d147b87",
   "metadata": {},
   "source": [
    "<h1 style=\"color:Green;\">Week 1 Lab</h1> "
   ]
  },
  {
   "cell_type": "markdown",
   "id": "62447f03",
   "metadata": {},
   "source": [
    "<a style=\"color:purple;\" href=\"https://docs.google.com/presentation/d/19UcHoIW3OC2Fd18_VkooiumdG5NtQpu-RoCgfz_I4nM/edit#slide=id.g11b032e97d3_0_0\">[Week 1 Lecture Link Here]</a>"
   ]
  },
  {
   "cell_type": "markdown",
   "id": "c1c77fff",
   "metadata": {},
   "source": [
    "<h1 style=\"color:black;\"> Objective: to perform Exploratory Data Analysis (EDA) on a multiple-asset portfolio.</h1> "
   ]
  },
  {
   "cell_type": "markdown",
   "id": "98b367c8",
   "metadata": {},
   "source": [
    "<h2 style=\"color:Green;\">Setup and Loading Packages</h2> Setup and Loading Packages"
   ]
  },
  {
   "cell_type": "code",
   "execution_count": 15,
   "id": "c576f9f3",
   "metadata": {},
   "outputs": [],
   "source": [
    "%matplotlib inline\n",
    "import numpy as np\n",
    "import pandas as pd\n",
    "from matplotlib import pyplot as plt\n",
    "import seaborn as sns\n",
    "import scipy.stats as stats\n",
    "from datetime import datetime, timedelta\n",
    "from sklearn.preprocessing import scale\n",
    "from matplotlib.ticker import FuncFormatter\n",
    "import pandas_datareader as pdr"
   ]
  },
  {
   "cell_type": "markdown",
   "id": "f79c63b4",
   "metadata": {},
   "source": [
    "Months following the COVID-19 pandemic recovery, the stock market seems to slow down on its ralley and the cryptocurrency market continues to show volatility. As a quantitative analyst and an investor, you want to understand the empirical behaviors of the assets before building a predictive model and investing in them, since you believe that this can give you a statistical edge in your portfolio. You have several assets in mind and would like to conduct an initial analysis on their historical performances to see if they are a good makeup for your portfolio.<br><br>\n",
    "Please complete the following problems to perform full EDA on your stock selection."
   ]
  },
  {
   "cell_type": "markdown",
   "id": "2b6c97a0",
   "metadata": {},
   "source": [
    "<h2 style=\"color:Green;\">Problem 1: Preliminary Visualization</h2>"
   ]
  },
  {
   "cell_type": "markdown",
   "id": "0bd21742",
   "metadata": {},
   "source": [
    "a) Select 3-5 assets of your prefernce, then specify their ticker(s), start and end dates of their price data you want to explore.<br><br>\n",
    "Notice that any assets can be selected, and not just stocks. For example, cryptocurrency and foreign exchange instruments can be suggested as well. Some relatively new cryptocurrencies (e.g., Solana, USD Coin) only have complete data dating back to three or four years ago, so setting the duration of data further back than these dates may result in inaccurate representation of their relationships."
   ]
  },
  {
   "cell_type": "code",
   "execution_count": 16,
   "id": "3df918bf",
   "metadata": {},
   "outputs": [],
   "source": [
    "################ EDIT CODE LINE HERE #################\n",
    "\n",
    "symbolList =  ['AAPL', 'NYT', 'WFC'] # Stock ticker symbols \n",
    "START_DATE = '2012-05-01' # Stock data start date \n",
    "END_DATE = '2022-05-01' # Stock data end date\n",
    "\n",
    "#####################################################"
   ]
  },
  {
   "cell_type": "markdown",
   "id": "11d9c614",
   "metadata": {},
   "source": [
    "Run the following code chunk to extract the adjusted close prices and compute log returns of Apple's stock from Yahoo Finance.<br>\n",
    "<p style=\"color:red;\">PLEASE DO NOT CHANGE THIS CODE !!!</p>"
   ]
  },
  {
   "cell_type": "code",
   "execution_count": 17,
   "id": "749bd1dd",
   "metadata": {},
   "outputs": [],
   "source": [
    "stockPxList = pdr.DataReader(symbolList , 'yahoo', START_DATE, END_DATE)['Adj Close'] # retreiving asset price data from yahoo finance\n",
    "# converting prices to log returns and removing NaN values\n",
    "stockLogRetList = np.log(stockPxList).diff().dropna()"
   ]
  },
  {
   "cell_type": "markdown",
   "id": "55921cb5",
   "metadata": {},
   "source": [
    "b) Please write some code to perform 2 visualizaitons on the assets' log returns you extracted from a). <br><br>\n",
    "Since there are at least 3 assets, plots such as time plot, scatter plot, box plot, and histogram would have to be plotted more than once to evaluate each asset."
   ]
  },
  {
   "cell_type": "markdown",
   "id": "d8bd8a91",
   "metadata": {},
   "source": [
    "Visualization #1:"
   ]
  },
  {
   "cell_type": "code",
   "execution_count": null,
   "id": "b9e95c38",
   "metadata": {},
   "outputs": [],
   "source": [
    "################ EDIT CODE LINE HERE #################\n",
    "\n",
    "\n",
    "\n",
    "\n",
    "#####################################################"
   ]
  },
  {
   "cell_type": "markdown",
   "id": "755754d8",
   "metadata": {},
   "source": [
    "Visualization #2:"
   ]
  },
  {
   "cell_type": "code",
   "execution_count": null,
   "id": "11433e51",
   "metadata": {},
   "outputs": [],
   "source": [
    "################ EDIT CODE LINE HERE #################\n",
    "\n",
    "\n",
    "\n",
    "\n",
    "#####################################################"
   ]
  },
  {
   "cell_type": "markdown",
   "id": "1a5834bf",
   "metadata": {},
   "source": [
    "c) Interpret the visualizations that you performed above. What can you say about them?"
   ]
  },
  {
   "cell_type": "markdown",
   "id": "4d5a5294",
   "metadata": {},
   "source": [
    "[Write your answer here]"
   ]
  },
  {
   "cell_type": "markdown",
   "id": "f4500a88",
   "metadata": {},
   "source": [
    "<h2 style=\"color:Green;\">Problem 2: Preliminary Normality Testing</h2>"
   ]
  },
  {
   "cell_type": "markdown",
   "id": "d06cf631",
   "metadata": {},
   "source": [
    "You realized that within the date range you specified, there may be some days when the assets make big directional swings, hence skewing the data or thickening the probabilities of extreme values. To keep your minds in peace, you decided to perform normality testing to understand how your assets' distribution compare to what's condered 'normal'.<br><br>\n",
    "(e.g., If your date range spans the COVID-19 pandemic, you may see more extreme tail values or outliers in your log returns, which deviates from a normal distribution because the market fluctuates a lot during this time.)<br><br>\n",
    "a) Please write some code to perform 1 normality test on the assets' returns you extracted from problem 1."
   ]
  },
  {
   "cell_type": "code",
   "execution_count": null,
   "id": "a610255f",
   "metadata": {},
   "outputs": [],
   "source": [
    "################ EDIT CODE LINE HERE #################\n",
    "\n",
    "\n",
    "\n",
    "\n",
    "#####################################################"
   ]
  },
  {
   "cell_type": "markdown",
   "id": "f9ebe418",
   "metadata": {},
   "source": [
    "b) Interpret the result you obtained from the normality test you chose in part a). What can you say about it?"
   ]
  },
  {
   "cell_type": "markdown",
   "id": "11a835d3",
   "metadata": {},
   "source": [
    "[Write your answer here]"
   ]
  },
  {
   "cell_type": "markdown",
   "id": "05f79d3b",
   "metadata": {},
   "source": [
    "<h2 style=\"color:Green;\">Problem 3: Preliminary Pre-processing </h2>"
   ]
  },
  {
   "cell_type": "markdown",
   "id": "c2e9d025",
   "metadata": {},
   "source": [
    "Imbalanced labels is a classification predictive modeling problem where the distribution of examples across the classes is not equal. For example, we may collect measurements of cats and have 80 samples of one cat species and 20 samples of a second cat species. This represents an example of an imbalanced classification problem. A 50-50 or a near-50-50 sample species would form a balanced classification problem.<br/>\n",
    "\n",
    "As a quantitative analyst, you are curious as to how a stock direction behaves throughout a certain period. You want to investigate any label-imbalance problems before diving into actual modeling. <br/>\n",
    "\n",
    "Please read this blog before jumping into this question: https://machinelearningmastery.com/what-is-imbalanced-classification/"
   ]
  },
  {
   "cell_type": "markdown",
   "id": "8a8ae8f9",
   "metadata": {},
   "source": [
    "Run the following code chunk. This will binarize the returns for the asset over the period you specified above. In other words, the asset's price will be transformed into 0's and 1's - 0 if price did not go up, 1 if price went up. A plot is produced to show the label distribution. For instance, there should be one bar showing how many days the stock goes up and another showing how many days the stock goes down.<br/>\n",
    "\n",
    "<p style=\"color:red;\">PLEASE DO NOT CHANGE THIS CODE CHUNK!!!</p>"
   ]
  },
  {
   "cell_type": "code",
   "execution_count": null,
   "id": "2d019801",
   "metadata": {},
   "outputs": [],
   "source": [
    "START_DATE = (datetime.today() - timedelta(days = TAU * 365)).strftime('%Y-%m-%d') # data start date\n",
    "END_DATE = datetime.today().strftime('%Y-%m-%d') # data end date\n",
    "stockPx = pdr.get_data_yahoo(SYMBOL, START_DATE, END_DATE)['Adj Close'] # storing adjusted stock prices into a variable \n",
    "stockPx01 = pd.DataFrame((stockPx.pct_change().dropna() > 0).astype(int))\n",
    "# visualize class distribution\n",
    "ax = sns.countplot(x='Adj Close', data=stockPx01)\n",
    "plt.title('Directional (Up/Down) Distribution')\n",
    "plt.xlabel(SYMBOL + ' Direction')\n",
    "plt.ylabel('Count')\n",
    "total = len(stockPx01['Adj Close'])\n",
    "for p in ax.patches:\n",
    "        percentage = '{:.2f}%'.format(100 * p.get_height()/total)\n",
    "        x_coord = p.get_x() \n",
    "        y_coord = p.get_y() + p.get_height()+0.02\n",
    "        ax.annotate(percentage, (x_coord, y_coord))"
   ]
  },
  {
   "cell_type": "markdown",
   "id": "5a73bb33",
   "metadata": {},
   "source": [
    "Are the lables balanced or imbalanced? <br/>"
   ]
  },
  {
   "cell_type": "code",
   "execution_count": null,
   "id": "e03cfe6c",
   "metadata": {},
   "outputs": [],
   "source": [
    "[Write your answer here]"
   ]
  },
  {
   "cell_type": "markdown",
   "id": "b9dbab7f",
   "metadata": {},
   "source": [
    "c) How do you think they can affect our prediction? (Hint: think about what the training data will look like)"
   ]
  },
  {
   "cell_type": "code",
   "execution_count": null,
   "id": "bd7f27ac",
   "metadata": {},
   "outputs": [],
   "source": [
    "[Write your answer here]"
   ]
  },
  {
   "cell_type": "markdown",
   "id": "289d1d8c",
   "metadata": {},
   "source": [
    "d) Please suggest one way to handle imbalanced data? (Hint: think about ways to re-balance the labels, or ask google)"
   ]
  },
  {
   "cell_type": "code",
   "execution_count": null,
   "id": "7e22dace",
   "metadata": {},
   "outputs": [],
   "source": [
    "[Write your answer here]"
   ]
  },
  {
   "cell_type": "code",
   "execution_count": null,
   "id": "513b6b9a",
   "metadata": {},
   "outputs": [],
   "source": []
  },
  {
   "cell_type": "code",
   "execution_count": null,
   "id": "023b7ec0",
   "metadata": {},
   "outputs": [],
   "source": []
  },
  {
   "cell_type": "code",
   "execution_count": null,
   "id": "78161794",
   "metadata": {},
   "outputs": [],
   "source": []
  },
  {
   "cell_type": "code",
   "execution_count": null,
   "id": "bab5b53e",
   "metadata": {},
   "outputs": [],
   "source": []
  }
 ],
 "metadata": {
  "kernelspec": {
   "display_name": "Python 3",
   "language": "python",
   "name": "python3"
  },
  "language_info": {
   "codemirror_mode": {
    "name": "ipython",
    "version": 3
   },
   "file_extension": ".py",
   "mimetype": "text/x-python",
   "name": "python",
   "nbconvert_exporter": "python",
   "pygments_lexer": "ipython3",
   "version": "3.7.6"
  }
 },
 "nbformat": 4,
 "nbformat_minor": 5
}
