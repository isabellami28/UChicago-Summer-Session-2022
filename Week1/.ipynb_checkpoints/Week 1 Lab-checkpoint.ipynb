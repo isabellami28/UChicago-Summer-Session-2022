{
 "cells": [
  {
   "cell_type": "markdown",
   "id": "0d147b87",
   "metadata": {},
   "source": [
    "<h1 style=\"color:Green;\">Week 1 Lab</h1> "
   ]
  },
  {
   "cell_type": "markdown",
   "id": "62447f03",
   "metadata": {},
   "source": [
    "<a style=\"color:purple;\" href=\"https://docs.google.com/presentation/d/19UcHoIW3OC2Fd18_VkooiumdG5NtQpu-RoCgfz_I4nM/edit#slide=id.g11b032e97d3_0_0\">[Week 1 Lecture Link Here]</a>"
   ]
  },
  {
   "cell_type": "markdown",
   "id": "f450f776",
   "metadata": {},
   "source": [
    "<h1 style=\"color:black;\"> Objective: to perform Exploratory Data Analysis (EDA) on a multiple-asset portfolio.</h1> "
   ]
  },
  {
   "cell_type": "markdown",
   "id": "e6fbe2fc",
   "metadata": {},
   "source": [
    "<h2 style=\"color:Green;\">Setup and Loading Packages</h2> Setup and Loading Packages"
   ]
  },
  {
   "cell_type": "code",
   "execution_count": 61,
   "id": "c576f9f3",
   "metadata": {},
   "outputs": [],
   "source": [
    "%matplotlib inline\n",
    "import numpy as np\n",
    "import pandas as pd\n",
    "from matplotlib import pyplot as plt\n",
    "import seaborn as sns\n",
    "import scipy.stats as stats\n",
    "from datetime import datetime, timedelta\n",
    "from sklearn.preprocessing import scale\n",
    "from sklearn.model_selection import train_test_split\n",
    "from matplotlib.ticker import FuncFormatter\n",
    "import pandas_datareader as pdr"
   ]
  },
  {
   "cell_type": "markdown",
   "id": "76800815",
   "metadata": {},
   "source": [
    "Months following the COVID-19 pandemic recovery, the stock market seems to slow down on its ralley and the cryptocurrency market continues to show volatility. As a quantitative analyst and an investor, you want to understand the empirical behaviors of the assets before building a predictive model and investing in them, since you believe that this can give you a statistical edge in your portfolio. You have several assets in mind and would like to conduct an initial analysis on their historical performances to see if they are a good makeup for your portfolio.<br><br>\n",
    "Please complete the following problems to perform full EDA on your stock selection."
   ]
  },
  {
   "cell_type": "markdown",
   "id": "c9690b5c",
   "metadata": {},
   "source": [
    "<h2 style=\"color:Green;\">Problem 1: Preliminary Visualization</h2>"
   ]
  },
  {
   "cell_type": "markdown",
   "id": "c7165ecd",
   "metadata": {},
   "source": [
    "a) Select 3-5 assets of your prefernce, then specify their ticker(s), start and end dates of their price data you want to explore.<br><br>\n",
    "Notice that any assets can be selected, and not just stocks. For example, cryptocurrency and foreign exchange instruments can be suggested as well. Some relatively new cryptocurrencies (e.g., Solana, USD Coin) only have complete data dating back to three or four years ago, so setting the duration of data further back than these dates may result in inaccurate representation of their relationships."
   ]
  },
  {
   "cell_type": "code",
   "execution_count": 62,
   "id": "a5eeb199",
   "metadata": {},
   "outputs": [],
   "source": [
    "################ EDIT CODE LINE HERE #################\n",
    "\n",
    "symbolList =  ['AAPL', 'NYT', 'WFC'] # asset ticker symbols \n",
    "START_DATE = '2012-05-01' # asset data start date \n",
    "END_DATE = '2022-05-01' # asset data end date\n",
    "\n",
    "#####################################################"
   ]
  },
  {
   "cell_type": "markdown",
   "id": "694b1184",
   "metadata": {},
   "source": [
    "Run the following code chunk to extract the adjusted close prices and compute log returns of Apple's stock from Yahoo Finance.<br>\n",
    "<p style=\"color:red;\">PLEASE DO NOT CHANGE THIS CODE !!!</p>"
   ]
  },
  {
   "cell_type": "code",
   "execution_count": 63,
   "id": "213c58b3",
   "metadata": {},
   "outputs": [],
   "source": [
    "stockPxList = pdr.DataReader(symbolList , 'yahoo', START_DATE, END_DATE)['Adj Close'] # retreiving asset price data from yahoo finance\n",
    "# converting prices to log returns and removing NaN values\n",
    "stockLogRetList = np.log(stockPxList).diff().dropna()"
   ]
  },
  {
   "cell_type": "markdown",
   "id": "17ea5d93",
   "metadata": {},
   "source": [
    "b) Please write a code piece to perform 2 visualizaitons on the assets' log returns you extracted from a). <br><br>\n",
    "Since there are at least 3 assets, plots such as time plot, scatter plot, box plot, and histogram would have to be plotted more than once to evaluate each asset."
   ]
  },
  {
   "cell_type": "markdown",
   "id": "155e285f",
   "metadata": {},
   "source": [
    "Visualization #1:"
   ]
  },
  {
   "cell_type": "code",
   "execution_count": null,
   "id": "6842b81f",
   "metadata": {},
   "outputs": [],
   "source": [
    "################ EDIT CODE LINE HERE #################\n",
    "\n",
    "\n",
    "\n",
    "\n",
    "#####################################################"
   ]
  },
  {
   "cell_type": "markdown",
   "id": "658a65b9",
   "metadata": {},
   "source": [
    "Visualization #2:"
   ]
  },
  {
   "cell_type": "code",
   "execution_count": null,
   "id": "b01113f0",
   "metadata": {},
   "outputs": [],
   "source": [
    "################ EDIT CODE LINE HERE #################\n",
    "\n",
    "\n",
    "\n",
    "\n",
    "#####################################################"
   ]
  },
  {
   "cell_type": "markdown",
   "id": "37cb6495",
   "metadata": {},
   "source": [
    "c) Interpret the visualizations that you performed above. What can you say about them?"
   ]
  },
  {
   "cell_type": "markdown",
   "id": "201bd80f",
   "metadata": {},
   "source": [
    "[Write your answer here]"
   ]
  },
  {
   "cell_type": "markdown",
   "id": "9e2e614b",
   "metadata": {},
   "source": [
    "<h2 style=\"color:Green;\">Problem 2: Preliminary Normality Testing</h2>"
   ]
  },
  {
   "cell_type": "markdown",
   "id": "996d2dcb",
   "metadata": {},
   "source": [
    "You realized that within the date range you specified, there may be some days when the assets make big directional swings, hence skewing the data or thickening the probabilities of extreme values. To keep your minds in peace, you decided to perform normality testing to understand how your assets' distribution compare to what's condered 'normal'.<br><br>\n",
    "(e.g., If your date range spans the COVID-19 pandemic, you may see more extreme tail values or outliers in your log returns, which deviates from a normal distribution because the market fluctuates a lot during this time.)<br><br>\n",
    "a) Please write a code piece to perform 1 normality test on the assets' returns you extracted from problem 1."
   ]
  },
  {
   "cell_type": "code",
   "execution_count": null,
   "id": "d355d1f9",
   "metadata": {},
   "outputs": [],
   "source": [
    "################ EDIT CODE LINE HERE #################\n",
    "\n",
    "\n",
    "\n",
    "\n",
    "#####################################################"
   ]
  },
  {
   "cell_type": "markdown",
   "id": "968a0853",
   "metadata": {},
   "source": [
    "b) Interpret the result you obtained from the normality test you chose in part a). What can you say about it?"
   ]
  },
  {
   "cell_type": "markdown",
   "id": "f3de9abf",
   "metadata": {},
   "source": [
    "[Write your answer here]"
   ]
  },
  {
   "cell_type": "markdown",
   "id": "a7521931",
   "metadata": {},
   "source": [
    "<h2 style=\"color:Green;\">Problem 3: Preliminary Pre-processing </h2>"
   ]
  },
  {
   "cell_type": "markdown",
   "id": "8bcb8c00",
   "metadata": {},
   "source": [
    "Imbalanced labels is a classification predictive modeling problem where the distribution of examples across the classes is not equal. For example, we may collect measurements of cats and have 80 samples of one cat species and 20 samples of a second cat species. This represents an example of an imbalanced classification problem. A 50-50 or a near-50-50 sample species would form a balanced classification problem.<br/>\n",
    "\n",
    "As a quantitative analyst, you are curious as to how the list of assets you chose above helps predict the direction of another asset. But before diving into the modeling portion, you want to investigate any label imbalance problems. <br>\n",
    "\n",
    "Please read this blog before jumping into this question: https://machinelearningmastery.com/what-is-imbalanced-classification/"
   ]
  },
  {
   "cell_type": "markdown",
   "id": "235ef12b",
   "metadata": {},
   "source": [
    "a) Specify the ticker of the asset whose direction you are interested in predicting. This stock shall not be different than the ones you chose in problem 1."
   ]
  },
  {
   "cell_type": "code",
   "execution_count": 64,
   "id": "923da235",
   "metadata": {},
   "outputs": [],
   "source": [
    "SYMBOL = 'UNH' # asset ticker symbol"
   ]
  },
  {
   "cell_type": "markdown",
   "id": "17333ef6",
   "metadata": {},
   "source": [
    "Run the following code chunk. This will binarize the returns for the asset that you're trying to predict over the period specified above. In other words, the asset's price will be transformed into 0's and 1's - 0 if price did not go up, 1 if price went up. A bar plot is produced to show the label distribution. For instance, there should be one bar showing how many days the stock goes up and another showing how many days the stock goes down.<br/>\n",
    "\n",
    "<p style=\"color:red;\">PLEASE DO NOT CHANGE THIS CODE CHUNK!!!</p>"
   ]
  },
  {
   "cell_type": "code",
   "execution_count": 68,
   "id": "8c311154",
   "metadata": {},
   "outputs": [
    {
     "data": {
      "image/png": "[encoded data removed]",
      "text/plain": [
       "<Figure size 432x288 with 1 Axes>"
      ]
     },
     "metadata": {
      "needs_background": "light"
     },
     "output_type": "display_data"
    }
   ],
   "source": [
    "FEATURES = symbolList.copy()\n",
    "stockPx = pdr.get_data_yahoo(SYMBOL, START_DATE, END_DATE)['Adj Close'] # storing adjusted stock prices into a variable \n",
    "stockPx01 = (stockPx.pct_change().dropna() > 0).astype(int)\n",
    "# visualize directional label distribution\n",
    "ax = sns.countplot(x = stockPx01)\n",
    "plt.title('Directional (Up=1/Down=0) Distribution')\n",
    "plt.xlabel(SYMBOL + ' Direction')\n",
    "plt.ylabel('Count')\n",
    "total = len(stockPx01)\n",
    "for p in ax.patches:\n",
    "        percentage = '{:.2f}%'.format(100 * p.get_height()/total)\n",
    "        x_coord = p.get_x() \n",
    "        y_coord = p.get_y() + p.get_height()+0.02\n",
    "        ax.annotate(percentage, (x_coord, y_coord))"
   ]
  },
  {
   "cell_type": "markdown",
   "id": "70b3e06c",
   "metadata": {},
   "source": [
    "b) Are the lables balanced or imbalanced? Why?<br/>"
   ]
  },
  {
   "cell_type": "code",
   "execution_count": null,
   "id": "4ec973f4",
   "metadata": {},
   "outputs": [],
   "source": [
    "[Write your answer here]"
   ]
  },
  {
   "cell_type": "markdown",
   "id": "36cffb57",
   "metadata": {},
   "source": [
    "c) How do you think they can affect our prediction? (Hint: think about what the training data will look like)"
   ]
  },
  {
   "cell_type": "code",
   "execution_count": null,
   "id": "cb227724",
   "metadata": {},
   "outputs": [],
   "source": [
    "[Write your answer here]"
   ]
  },
  {
   "cell_type": "markdown",
   "id": "b1db1c1e",
   "metadata": {},
   "source": [
    "d) Please suggest one way to handle imbalanced data?"
   ]
  },
  {
   "cell_type": "code",
   "execution_count": null,
   "id": "9026eb5e",
   "metadata": {},
   "outputs": [],
   "source": [
    "[Write your answer here]"
   ]
  },
  {
   "cell_type": "markdown",
   "id": "6b965d0d",
   "metadata": {},
   "source": [
    "e) What is are the features in this problem? "
   ]
  },
  {
   "cell_type": "code",
   "execution_count": null,
   "id": "6b27e3c8",
   "metadata": {},
   "outputs": [],
   "source": [
    "[Write your answer here]"
   ]
  },
  {
   "cell_type": "markdown",
   "id": "eb6f3c24",
   "metadata": {},
   "source": [
    "f) Please write a one-line code to split the data into 80% training set and 20% testing set."
   ]
  },
  {
   "cell_type": "code",
   "execution_count": 69,
   "id": "24cac85a",
   "metadata": {},
   "outputs": [],
   "source": [
    "X_train, X_test, y_train, y_test = train_test_split(stockLogRetList, stockPx01, test_size=0.2, random_state=0)"
   ]
  },
  {
   "cell_type": "markdown",
   "id": "14c81f5e",
   "metadata": {},
   "source": [
    "g) Please write a code piece to visualize the feature importance ranking of with a bar plot. How are the features ranked by their importance scores?<br><br> \n",
    "(Hint: you would need to split the data first in part e) before computing the importance scores here)"
   ]
  },
  {
   "cell_type": "code",
   "execution_count": 73,
   "id": "a916d1af",
   "metadata": {},
   "outputs": [
    {
     "data": {
      "text/plain": [
       "Text(0.5, 0, 'Relative Importance')"
      ]
     },
     "execution_count": 73,
     "metadata": {},
     "output_type": "execute_result"
    },
    {
     "data": {
      "image/png": "[encoded data removed]",
      "text/plain": [
       "<Figure size 432x288 with 1 Axes>"
      ]
     },
     "metadata": {
      "needs_background": "light"
     },
     "output_type": "display_data"
    }
   ],
   "source": [
    "from sklearn.ensemble import RandomForestRegressor # importing the random forest module\n",
    "\n",
    "rf_model = RandomForestRegressor(random_state=0) # define the random forest model\n",
    "\n",
    "rf_model.fit(X_train, y_train) # fit the random forest model\n",
    "\n",
    "importances = rf_model.feature_importances_ # get importance\n",
    "\n",
    "indices = np.argsort(importances) # sort the features' index by their importance scores\n",
    "\n",
    "# visualizing importance scores by features (ranked)\n",
    "plt.title('Feature Importances in the Random Forest Model')\n",
    "plt.barh(range(len(indices)), importances[indices], align='center')\n",
    "plt.yticks(range(len(indices)), [FEATURES[i] for i in indices])\n",
    "plt.xlabel('Relative Importance')"
   ]
  }
 ],
 "metadata": {
  "kernelspec": {
   "display_name": "Python 3",
   "language": "python",
   "name": "python3"
  },
  "language_info": {
   "codemirror_mode": {
    "name": "ipython",
    "version": 3
   },
   "file_extension": ".py",
   "mimetype": "text/x-python",
   "name": "python",
   "nbconvert_exporter": "python",
   "pygments_lexer": "ipython3",
   "version": "3.7.6"
  }
 },
 "nbformat": 4,
 "nbformat_minor": 5
}
