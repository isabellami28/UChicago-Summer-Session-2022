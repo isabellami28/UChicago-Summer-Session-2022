{
 "cells": [
  {
   "cell_type": "markdown",
   "id": "b5e41bb2",
   "metadata": {},
   "source": [
    "# Simple Math Calculation"
   ]
  },
  {
   "cell_type": "markdown",
   "id": "1fedd489",
   "metadata": {},
   "source": [
    "## Simple Math Calculation"
   ]
  },
  {
   "cell_type": "markdown",
   "id": "051312f1",
   "metadata": {},
   "source": [
    "<h2 style=\"color:Green;\"> Simple Math Calculation </h2>"
   ]
  },
  {
   "cell_type": "markdown",
   "id": "94d60c87",
   "metadata": {},
   "source": [
    "Performing addition"
   ]
  },
  {
   "cell_type": "code",
   "execution_count": 2,
   "id": "40c187f4",
   "metadata": {},
   "outputs": [
    {
     "data": {
      "text/plain": [
       "2"
      ]
     },
     "execution_count": 2,
     "metadata": {},
     "output_type": "execute_result"
    }
   ],
   "source": [
    "1+1"
   ]
  },
  {
   "cell_type": "markdown",
   "id": "7bf07990",
   "metadata": {},
   "source": [
    "Performing multiplication"
   ]
  },
  {
   "cell_type": "code",
   "execution_count": 5,
   "id": "71f7453d",
   "metadata": {},
   "outputs": [
    {
     "data": {
      "text/plain": [
       "2"
      ]
     },
     "execution_count": 5,
     "metadata": {},
     "output_type": "execute_result"
    }
   ],
   "source": [
    "1*2"
   ]
  },
  {
   "cell_type": "code",
   "execution_count": 7,
   "id": "b8a8a6ae",
   "metadata": {},
   "outputs": [
    {
     "name": "stdout",
     "output_type": "stream",
     "text": [
      "Hello  0\n",
      "Hello  1\n",
      "Hello  2\n",
      "Hello  3\n",
      "Hello  4\n",
      "Hello  5\n",
      "Hello  6\n",
      "Hello  7\n",
      "Hello  8\n",
      "Hello  9\n"
     ]
    }
   ],
   "source": [
    "for i in range(10):\n",
    "    print('Hello ',i)"
   ]
  }
 ],
 "metadata": {
  "kernelspec": {
   "display_name": "Python 3",
   "language": "python",
   "name": "python3"
  },
  "language_info": {
   "codemirror_mode": {
    "name": "ipython",
    "version": 3
   },
   "file_extension": ".py",
   "mimetype": "text/x-python",
   "name": "python",
   "nbconvert_exporter": "python",
   "pygments_lexer": "ipython3",
   "version": "3.7.6"
  }
 },
 "nbformat": 4,
 "nbformat_minor": 5
}
