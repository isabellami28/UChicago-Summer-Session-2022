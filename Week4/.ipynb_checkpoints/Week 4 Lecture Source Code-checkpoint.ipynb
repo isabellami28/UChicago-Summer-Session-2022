{
 "cells": [
  {
   "cell_type": "markdown",
   "metadata": {},
   "source": [
    "##### <h1 style=\"color:Green;\">Week 4 Lecture Source Code</h1> "
   ]
  },
  {
   "cell_type": "markdown",
   "metadata": {},
   "source": [
    "<a style=\"color:purple;\" href=\"https://docs.google.com/presentation/d/1_jQKSrS4hiVJaxnFYhRh284AhAbPxI0CL0qAP4Iz-DE/edit#slide=id.p\">[Week 4 Lecture Link Here]</a>"
   ]
  },
  {
   "cell_type": "markdown",
   "metadata": {},
   "source": [
    "<h2 style=\"color:Green;\">Setup and Loading Packages</h2> Setup and Loading Packages"
   ]
  },
  {
   "cell_type": "code",
   "execution_count": 2,
   "metadata": {
    "ExecuteTime": {
     "end_time": "2021-04-16T00:08:32.172640Z",
     "start_time": "2021-04-16T00:08:31.635143Z"
    }
   },
   "outputs": [
    {
     "ename": "ImportError",
     "evalue": "cannot import name 'model_selection' from 'sklearn.model_selection' (C:\\Users\\user\\anaconda3\\lib\\site-packages\\sklearn\\model_selection\\__init__.py)",
     "output_type": "error",
     "traceback": [
      "\u001b[1;31m---------------------------------------------------------------------------\u001b[0m",
      "\u001b[1;31mImportError\u001b[0m                               Traceback (most recent call last)",
      "\u001b[1;32m<ipython-input-2-43a068f80427>\u001b[0m in \u001b[0;36m<module>\u001b[1;34m\u001b[0m\n\u001b[0;32m      9\u001b[0m \u001b[1;32mfrom\u001b[0m \u001b[0msklearn\u001b[0m\u001b[1;33m.\u001b[0m\u001b[0mpreprocessing\u001b[0m \u001b[1;32mimport\u001b[0m \u001b[0mLabelEncoder\u001b[0m\u001b[1;33m\u001b[0m\u001b[1;33m\u001b[0m\u001b[0m\n\u001b[0;32m     10\u001b[0m \u001b[1;32mfrom\u001b[0m \u001b[0msklearn\u001b[0m\u001b[1;33m.\u001b[0m\u001b[0mpreprocessing\u001b[0m \u001b[1;32mimport\u001b[0m \u001b[0mscale\u001b[0m\u001b[1;33m\u001b[0m\u001b[1;33m\u001b[0m\u001b[0m\n\u001b[1;32m---> 11\u001b[1;33m \u001b[1;32mfrom\u001b[0m \u001b[0msklearn\u001b[0m\u001b[1;33m.\u001b[0m\u001b[0mmodel_selection\u001b[0m \u001b[1;32mimport\u001b[0m \u001b[0mtrain_test_split\u001b[0m\u001b[1;33m,\u001b[0m \u001b[0mcross_val_score\u001b[0m\u001b[1;33m,\u001b[0m \u001b[0mmodel_selection\u001b[0m\u001b[1;33m\u001b[0m\u001b[1;33m\u001b[0m\u001b[0m\n\u001b[0m\u001b[0;32m     12\u001b[0m \u001b[1;32mfrom\u001b[0m \u001b[0msklearn\u001b[0m\u001b[1;33m.\u001b[0m\u001b[0mmetrics\u001b[0m \u001b[1;32mimport\u001b[0m \u001b[0mmean_squared_error\u001b[0m\u001b[1;33m,\u001b[0m \u001b[0mplot_confusion_matrix\u001b[0m\u001b[1;33m,\u001b[0m \u001b[0mclassification_report\u001b[0m\u001b[1;33m,\u001b[0m \u001b[0mroc_curve\u001b[0m\u001b[1;33m,\u001b[0m \u001b[0mauc\u001b[0m\u001b[1;33m,\u001b[0m \u001b[0mroc_auc_score\u001b[0m\u001b[1;33m\u001b[0m\u001b[1;33m\u001b[0m\u001b[0m\n\u001b[0;32m     13\u001b[0m \u001b[1;32mfrom\u001b[0m \u001b[0msklearn\u001b[0m\u001b[1;33m.\u001b[0m\u001b[0mmulticlass\u001b[0m \u001b[1;32mimport\u001b[0m \u001b[0mOneVsRestClassifier\u001b[0m\u001b[1;33m\u001b[0m\u001b[1;33m\u001b[0m\u001b[0m\n",
      "\u001b[1;31mImportError\u001b[0m: cannot import name 'model_selection' from 'sklearn.model_selection' (C:\\Users\\user\\anaconda3\\lib\\site-packages\\sklearn\\model_selection\\__init__.py)"
     ]
    }
   ],
   "source": [
    "%matplotlib inline\n",
    "\n",
    "import numpy as np\n",
    "import pandas as pd\n",
    "\n",
    "import matplotlib.pyplot as plt\n",
    "import seaborn as sns\n",
    "\n",
    "from sklearn.preprocessing import LabelEncoder\n",
    "from sklearn.preprocessing import scale\n",
    "from sklearn.model_selection import train_test_split, cross_val_score, model_selection\n",
    "from sklearn.metrics import mean_squared_error, plot_confusion_matrix, classification_report, roc_curve, auc, roc_auc_score\n",
    "from sklearn.multiclass import OneVsRestClassifier\n",
    "from collections import Counter\n",
    "\n",
    "from sklearn.preprocessing import StandardScaler\n",
    "from sklearn.datasets import make_multilabel_classification\n",
    "\n",
    "import pandas_datareader as pdr"
   ]
  },
  {
   "cell_type": "markdown",
   "metadata": {},
   "source": [
    "What is Classification?"
   ]
  },
  {
   "cell_type": "markdown",
   "metadata": {},
   "source": [
    "Classification is a supervised learning concept that uses one or more predictors (features, independent variables) to categorize a set of data into classes. This concept can be applied to solve two-class or multi-class calssification problems, in real-world scenarios such as:\n",
    "\n",
    "• Identifying economic cycles (e.g., expansion, peak, through, recession)\n",
    "\n",
    "• Classifying credit card transactions as legitimate or fraudulent\n",
    "\n",
    "• Classifying market strend structures as uptrend, congestion, downtrend\n",
    "\n",
    "• Categorizing news stories of finance as having positive, neutral, or negative sentiments\n",
    "\n",
    "• Recognizing handwritten checks and digits as one of {A, B, C, …, Z, 0, 1, ... 9}\n",
    "\n",
    "• Assigning trading attributes to their origin of cause (e.g., Greece, UK, Russia)\n",
    "\n",
    "\n",
    "Note that different assumptiosn are made for each classification model."
   ]
  },
  {
   "cell_type": "markdown",
   "metadata": {},
   "source": [
    "<h2 style=\"color:Green;\">Simulated Data (pg. 3)</h2>"
   ]
  },
  {
   "cell_type": "markdown",
   "metadata": {},
   "source": [
    "<b> Example of a Binary Classification Problem </b>"
   ]
  },
  {
   "cell_type": "markdown",
   "metadata": {},
   "source": [
    "Let's use the data we processed from last lecture. This contains sector ETFs, XLK (Technology) and IYC (Consumer Discretionary), as well as SPY (S&P 500) directions from 1/25/2018 to 5/31/2022, a total of 1086 trading days."
   ]
  },
  {
   "cell_type": "code",
   "execution_count": 62,
   "metadata": {},
   "outputs": [
    {
     "name": "stdout",
     "output_type": "stream",
     "text": [
      "<class 'pandas.core.frame.DataFrame'>\n",
      "RangeIndex: 1086 entries, 0 to 1085\n",
      "Data columns (total 4 columns):\n",
      " #   Column  Non-Null Count  Dtype  \n",
      "---  ------  --------------  -----  \n",
      " 0   Date    1086 non-null   object \n",
      " 1   SPY     1086 non-null   float64\n",
      " 2   XLK     1086 non-null   float64\n",
      " 3   IYC     1086 non-null   float64\n",
      "dtypes: float64(3), object(1)\n",
      "memory usage: 34.1+ KB\n"
     ]
    }
   ],
   "source": [
    "DATA1 = pd.read_csv('SPY_XLK_IYC.csv')\n",
    "DATA1.info()"
   ]
  },
  {
   "cell_type": "code",
   "execution_count": 64,
   "metadata": {},
   "outputs": [],
   "source": [
    "# converting SPY log returns into binary values 1's and 0's\n",
    "DATA1['SPY Direction'] = (DATA1.SPY > 0).astype(int)"
   ]
  },
  {
   "cell_type": "code",
   "execution_count": 70,
   "metadata": {},
   "outputs": [
    {
     "data": {
      "image/png": "[encoded data removed]",
      "text/plain": [
       "<Figure size 432x288 with 1 Axes>"
      ]
     },
     "metadata": {
      "needs_background": "light"
     },
     "output_type": "display_data"
    }
   ],
   "source": [
    "plt.scatter(DATA1.XLK[DATA1['SPY Direction'] == 1],\n",
    "            DATA1.IYC[DATA1['SPY Direction'] == 1],\n",
    "           color='green',\n",
    "           label='Up')\n",
    "plt.scatter(DATA1.XLK[DATA1['SPY Direction'] == 0],\n",
    "            DATA1.IYC[DATA1['SPY Direction'] == 0],\n",
    "           color='red',\n",
    "           label='Down')\n",
    "plt.title('SPY Directional Classes by XLK and IYC Log Returns')\n",
    "plt.xlabel('XLK')\n",
    "plt.ylabel('IYC')\n",
    "plt.legend()\n",
    "plt.show()"
   ]
  },
  {
   "cell_type": "markdown",
   "metadata": {},
   "source": [
    "From the scatter plot, besides a fairly strong linear relationship, we can see that the data points are divided into red and green colors, green representing an upward direction in SPY and red represeneting a downward direction in SPY. One of the most popular problems in quantitative finance is to find a classifier (model) that most-accurately separates the data points that indicates an upward move from those that indicate a downward move. Through this model, we will be able to predict under any given conditions of XLK and IYC log returns, which direction would SPY be expected to move in the next trading day. "
   ]
  },
  {
   "cell_type": "markdown",
   "metadata": {},
   "source": [
    "<b> Example of a Multi-class Classification Problem </b>"
   ]
  },
  {
   "cell_type": "markdown",
   "metadata": {},
   "source": [
    "Note that here, we split the data by their quantiles just so each of the 4 classes can dominate roughly 25% of the data set, hence making the data set less biased and eliminating the label imbalance issue."
   ]
  },
  {
   "cell_type": "code",
   "execution_count": 88,
   "metadata": {},
   "outputs": [],
   "source": [
    "# categorizing SPY returns into 2 directional classes\n",
    "multiInterval = [DATA1.SPY.min(), DATA1.SPY.quantile(.25), 0, DATA1.SPY.quantile(.75), DATA1.SPY.max()]\n",
    "multiLabels   = ['major loss','minor loss','minor gain','major gain']\n",
    "DATA1['SPY Return Type'] = pd.cut(DATA1.SPY, bins = multiInterval, labels=multiLabels)"
   ]
  },
  {
   "cell_type": "code",
   "execution_count": 78,
   "metadata": {},
   "outputs": [
    {
     "data": {
      "image/png": "[encoded data removed]",
      "text/plain": [
       "<Figure size 432x288 with 1 Axes>"
      ]
     },
     "metadata": {
      "needs_background": "light"
     },
     "output_type": "display_data"
    }
   ],
   "source": [
    "plt.scatter(DATA1.XLK[DATA1['SPY Return Type'] == 'major loss'],\n",
    "            DATA1.IYC[DATA1['SPY Return Type'] == 'major loss'],\n",
    "           color='red',\n",
    "           label='major loss')\n",
    "plt.scatter(DATA1.XLK[DATA1['SPY Return Type'] == 'minor loss'],\n",
    "            DATA1.IYC[DATA1['SPY Return Type'] == 'minor loss'],\n",
    "           color='orange',\n",
    "           label='minor loss')\n",
    "plt.scatter(DATA1.XLK[DATA1['SPY Return Type'] == 'minor gain'],\n",
    "            DATA1.IYC[DATA1['SPY Return Type'] == 'minor gain'],\n",
    "           color='blue',\n",
    "           label='minor gain')\n",
    "plt.scatter(DATA1.XLK[DATA1['SPY Return Type'] == 'major gain'],\n",
    "            DATA1.IYC[DATA1['SPY Return Type'] == 'major gain'],\n",
    "           color='green',\n",
    "           label='major gain')\n",
    "\n",
    "plt.title('SPY Return Type by XLK and IYC Log Returns')\n",
    "plt.xlabel('XLK')\n",
    "plt.ylabel('IYC')\n",
    "plt.legend()\n",
    "plt.show()"
   ]
  },
  {
   "cell_type": "markdown",
   "metadata": {},
   "source": [
    "This is a multi-class classification problem, one that consists of > 2 SPY return type classes. Be aware that we are no longer evaluating the asset's directional, but rather the magnitude of its daily gains/losses. Our goall is fond the classifier (model) of multiple lines that most-accurately separate the SPY return type into their corresponding classes."
   ]
  },
  {
   "cell_type": "markdown",
   "metadata": {},
   "source": [
    "<h2 style=\"color:Green;\">EDA on Trading Factors Data (pg. 17)</h2>"
   ]
  },
  {
   "cell_type": "markdown",
   "metadata": {},
   "source": [
    "Here, we examine the trading signals of the top 500 most-traded stock in the U.S. from 1/21/2013 to 9/30/2017. This data set was originally used to indicate market behaviors in the U.S. during the European struggles such as the Greece's debt crisis in 2015 and Brexit in 2017. One of the behaviors is the fluctuation of market participants, and a way to measure this is through trading volumes, in other words, the transactions of assets throughout a period in time. In our case, we will be looking at monthly volumes, specifically how they are classified to imply low, medium, or high liquidity. \n",
    "\n",
    "\n",
    "Our goal is to use the trading factors to help train the classification models to predict market liquidity. The utilization of this is to inform the concentration of the selected market a trader is trading in. We start by loading the data set and categorizing volumes into 3 respective liquidity classes."
   ]
  },
  {
   "cell_type": "code",
   "execution_count": 3,
   "metadata": {},
   "outputs": [
    {
     "name": "stdout",
     "output_type": "stream",
     "text": [
      "<class 'pandas.core.frame.DataFrame'>\n",
      "RangeIndex: 31435 entries, 0 to 31434\n",
      "Data columns (total 8 columns):\n",
      " #   Column     Non-Null Count  Dtype  \n",
      "---  ------     --------------  -----  \n",
      " 0   sector     31435 non-null  object \n",
      " 1   atr        31435 non-null  float64\n",
      " 2   macd       31435 non-null  float64\n",
      " 3   rsi        31435 non-null  float64\n",
      " 4   bb_mid     31435 non-null  float64\n",
      " 5   bb_upper   31435 non-null  float64\n",
      " 6   bb_lower   31435 non-null  float64\n",
      " 7   liquidity  31435 non-null  object \n",
      "dtypes: float64(6), object(2)\n",
      "memory usage: 1.9+ MB\n"
     ]
    }
   ],
   "source": [
    "DATA2 = pd.read_csv('trading_factors_data.csv')\n",
    "DATA2.info()"
   ]
  },
  {
   "cell_type": "markdown",
   "metadata": {},
   "source": [
    "Standardizing numerical indictors in the data set."
   ]
  },
  {
   "cell_type": "code",
   "execution_count": 4,
   "metadata": {},
   "outputs": [],
   "source": [
    "LABEL = 'liquidity'\n",
    "FEATURES = DATA2.columns\n",
    "FEATURES = [f for f in FEATURES if f not in ['liquidity','sector']]"
   ]
  },
  {
   "cell_type": "code",
   "execution_count": 5,
   "metadata": {},
   "outputs": [],
   "source": [
    "DATA2.loc[:, FEATURES] = scale(DATA2.loc[:, FEATURES]) # standardizing indicators"
   ]
  },
  {
   "cell_type": "markdown",
   "metadata": {},
   "source": [
    "Create dummy variables to covert sector categories into numerical ones."
   ]
  },
  {
   "cell_type": "code",
   "execution_count": 6,
   "metadata": {},
   "outputs": [
    {
     "data": {
      "text/html": [
       "<div>\n",
       "<style scoped>\n",
       "    .dataframe tbody tr th:only-of-type {\n",
       "        vertical-align: middle;\n",
       "    }\n",
       "\n",
       "    .dataframe tbody tr th {\n",
       "        vertical-align: top;\n",
       "    }\n",
       "\n",
       "    .dataframe thead th {\n",
       "        text-align: right;\n",
       "    }\n",
       "</style>\n",
       "<table border=\"1\" class=\"dataframe\">\n",
       "  <thead>\n",
       "    <tr style=\"text-align: right;\">\n",
       "      <th></th>\n",
       "      <th>atr</th>\n",
       "      <th>macd</th>\n",
       "      <th>rsi</th>\n",
       "      <th>bb_mid</th>\n",
       "      <th>bb_upper</th>\n",
       "      <th>bb_lower</th>\n",
       "      <th>liquidity</th>\n",
       "      <th>Basic Industries</th>\n",
       "      <th>Capital Goods</th>\n",
       "      <th>Consumer Durables</th>\n",
       "      <th>Consumer Non-Durables</th>\n",
       "      <th>Consumer Services</th>\n",
       "      <th>Energy</th>\n",
       "      <th>Finance</th>\n",
       "      <th>Health Care</th>\n",
       "      <th>Miscellaneous</th>\n",
       "      <th>Public Utilities</th>\n",
       "      <th>Technology</th>\n",
       "      <th>Transportation</th>\n",
       "    </tr>\n",
       "  </thead>\n",
       "  <tbody>\n",
       "    <tr>\n",
       "      <th>0</th>\n",
       "      <td>-1.392712</td>\n",
       "      <td>1.079815</td>\n",
       "      <td>1.008666</td>\n",
       "      <td>-0.695295</td>\n",
       "      <td>-0.716651</td>\n",
       "      <td>-0.672630</td>\n",
       "      <td>Medium</td>\n",
       "      <td>0</td>\n",
       "      <td>1</td>\n",
       "      <td>0</td>\n",
       "      <td>0</td>\n",
       "      <td>0</td>\n",
       "      <td>0</td>\n",
       "      <td>0</td>\n",
       "      <td>0</td>\n",
       "      <td>0</td>\n",
       "      <td>0</td>\n",
       "      <td>0</td>\n",
       "      <td>0</td>\n",
       "    </tr>\n",
       "    <tr>\n",
       "      <th>1</th>\n",
       "      <td>-0.084627</td>\n",
       "      <td>0.348207</td>\n",
       "      <td>-0.197922</td>\n",
       "      <td>-0.409229</td>\n",
       "      <td>-0.417685</td>\n",
       "      <td>-0.399921</td>\n",
       "      <td>Medium</td>\n",
       "      <td>0</td>\n",
       "      <td>0</td>\n",
       "      <td>0</td>\n",
       "      <td>0</td>\n",
       "      <td>0</td>\n",
       "      <td>0</td>\n",
       "      <td>0</td>\n",
       "      <td>0</td>\n",
       "      <td>0</td>\n",
       "      <td>0</td>\n",
       "      <td>0</td>\n",
       "      <td>1</td>\n",
       "    </tr>\n",
       "    <tr>\n",
       "      <th>2</th>\n",
       "      <td>-1.592250</td>\n",
       "      <td>0.071391</td>\n",
       "      <td>-0.252138</td>\n",
       "      <td>0.390414</td>\n",
       "      <td>0.363185</td>\n",
       "      <td>0.416133</td>\n",
       "      <td>Low</td>\n",
       "      <td>0</td>\n",
       "      <td>0</td>\n",
       "      <td>0</td>\n",
       "      <td>0</td>\n",
       "      <td>1</td>\n",
       "      <td>0</td>\n",
       "      <td>0</td>\n",
       "      <td>0</td>\n",
       "      <td>0</td>\n",
       "      <td>0</td>\n",
       "      <td>0</td>\n",
       "      <td>0</td>\n",
       "    </tr>\n",
       "    <tr>\n",
       "      <th>3</th>\n",
       "      <td>0.009927</td>\n",
       "      <td>-1.841691</td>\n",
       "      <td>-1.416073</td>\n",
       "      <td>0.230941</td>\n",
       "      <td>0.324129</td>\n",
       "      <td>0.139020</td>\n",
       "      <td>High</td>\n",
       "      <td>0</td>\n",
       "      <td>0</td>\n",
       "      <td>0</td>\n",
       "      <td>0</td>\n",
       "      <td>0</td>\n",
       "      <td>0</td>\n",
       "      <td>0</td>\n",
       "      <td>0</td>\n",
       "      <td>0</td>\n",
       "      <td>0</td>\n",
       "      <td>1</td>\n",
       "      <td>0</td>\n",
       "    </tr>\n",
       "    <tr>\n",
       "      <th>4</th>\n",
       "      <td>-1.302958</td>\n",
       "      <td>0.229371</td>\n",
       "      <td>0.685063</td>\n",
       "      <td>-0.307687</td>\n",
       "      <td>-0.329960</td>\n",
       "      <td>-0.285088</td>\n",
       "      <td>Medium</td>\n",
       "      <td>0</td>\n",
       "      <td>0</td>\n",
       "      <td>0</td>\n",
       "      <td>0</td>\n",
       "      <td>0</td>\n",
       "      <td>0</td>\n",
       "      <td>0</td>\n",
       "      <td>1</td>\n",
       "      <td>0</td>\n",
       "      <td>0</td>\n",
       "      <td>0</td>\n",
       "      <td>0</td>\n",
       "    </tr>\n",
       "  </tbody>\n",
       "</table>\n",
       "</div>"
      ],
      "text/plain": [
       "        atr      macd       rsi    bb_mid  bb_upper  bb_lower liquidity  \\\n",
       "0 -1.392712  1.079815  1.008666 -0.695295 -0.716651 -0.672630    Medium   \n",
       "1 -0.084627  0.348207 -0.197922 -0.409229 -0.417685 -0.399921    Medium   \n",
       "2 -1.592250  0.071391 -0.252138  0.390414  0.363185  0.416133       Low   \n",
       "3  0.009927 -1.841691 -1.416073  0.230941  0.324129  0.139020      High   \n",
       "4 -1.302958  0.229371  0.685063 -0.307687 -0.329960 -0.285088    Medium   \n",
       "\n",
       "   Basic Industries  Capital Goods  Consumer Durables  Consumer Non-Durables  \\\n",
       "0                 0              1                  0                      0   \n",
       "1                 0              0                  0                      0   \n",
       "2                 0              0                  0                      0   \n",
       "3                 0              0                  0                      0   \n",
       "4                 0              0                  0                      0   \n",
       "\n",
       "   Consumer Services  Energy  Finance  Health Care  Miscellaneous  \\\n",
       "0                  0       0        0            0              0   \n",
       "1                  0       0        0            0              0   \n",
       "2                  1       0        0            0              0   \n",
       "3                  0       0        0            0              0   \n",
       "4                  0       0        0            1              0   \n",
       "\n",
       "   Public Utilities  Technology  Transportation  \n",
       "0                 0           0               0  \n",
       "1                 0           0               1  \n",
       "2                 0           0               0  \n",
       "3                 0           1               0  \n",
       "4                 0           0               0  "
      ]
     },
     "execution_count": 6,
     "metadata": {},
     "output_type": "execute_result"
    }
   ],
   "source": [
    "# get the dummies and store it in a variable\n",
    "dummies = pd.get_dummies(DATA2.sector)\n",
    "\n",
    "# Concatenate the dummies to original dataframe\n",
    "merged = pd.concat([DATA2, dummies], axis='columns')\n",
    "    \n",
    "# drop the values\n",
    "DATA2 = merged.drop(['sector'], axis='columns')\n",
    "\n",
    "# See data info\n",
    "DATA2.head()"
   ]
  },
  {
   "cell_type": "markdown",
   "metadata": {},
   "source": [
    "As an example, we have ploted the stocks' liquidity class by the indicators macd vs bb_mid."
   ]
  },
  {
   "cell_type": "code",
   "execution_count": 7,
   "metadata": {},
   "outputs": [
    {
     "data": {
      "image/png": "[encoded data removed]",
      "text/plain": [
       "<Figure size 432x288 with 1 Axes>"
      ]
     },
     "metadata": {
      "needs_background": "light"
     },
     "output_type": "display_data"
    }
   ],
   "source": [
    "plt.scatter(DATA2['macd'][DATA2.liquidity == 'Low'],\n",
    "            DATA2['bb_mid'][DATA2.liquidity == 'Low'],\n",
    "           color='red',\n",
    "           label='Low')\n",
    "plt.scatter(DATA2['macd'][DATA2.liquidity == 'Medium'],\n",
    "            DATA2['bb_mid'][DATA2.liquidity == 'Medium'],\n",
    "           color='orange',\n",
    "           label='Medium')\n",
    "plt.scatter(DATA2['macd'][DATA2.liquidity == 'High'],\n",
    "            DATA2['bb_mid'][DATA2.liquidity == 'High'],\n",
    "           color='green',\n",
    "           label='High')\n",
    "\n",
    "plt.title('Stock liquidity class by macd vs bb_mid')\n",
    "plt.xlabel('macd')\n",
    "plt.ylabel('bb_mid')\n",
    "plt.legend()\n",
    "plt.show()"
   ]
  },
  {
   "cell_type": "markdown",
   "metadata": {},
   "source": [
    "Encoding liquidity strengths into numerical numbers. <br>\n",
    "THe Medium liquidity is encoded as 2, Low as 1, and high as 0.<br>"
   ]
  },
  {
   "cell_type": "code",
   "execution_count": 8,
   "metadata": {},
   "outputs": [],
   "source": [
    "le = LabelEncoder()\n",
    "DATA2.liquidity = le.fit_transform(DATA2.loc[:, LABEL])"
   ]
  },
  {
   "cell_type": "markdown",
   "metadata": {},
   "source": [
    "Splitting data into 80% training set and 20% testing set."
   ]
  },
  {
   "cell_type": "code",
   "execution_count": 9,
   "metadata": {},
   "outputs": [],
   "source": [
    "FEATURES = FEATURES+dummies.columns.to_list()"
   ]
  },
  {
   "cell_type": "code",
   "execution_count": 10,
   "metadata": {},
   "outputs": [],
   "source": [
    "X_train, X_test, y_train, y_test = train_test_split(DATA2.loc[:, FEATURES], DATA2.loc[:, LABEL], test_size=0.2, random_state=0)"
   ]
  },
  {
   "cell_type": "markdown",
   "metadata": {},
   "source": [
    "<b>Feature Importance</b>"
   ]
  },
  {
   "cell_type": "code",
   "execution_count": 11,
   "metadata": {},
   "outputs": [],
   "source": [
    "from sklearn.ensemble import RandomForestClassifier # importing the random forest module\n",
    "\n",
    "rf_model = RandomForestClassifier(random_state=0) # define the random forest model\n",
    "\n",
    "rf_model.fit(X_train, y_train) # fit the random forest model\n",
    "\n",
    "importances = rf_model.feature_importances_ # get importance\n",
    "\n",
    "indices = np.argsort(importances) # sort the features' index by their importance scores"
   ]
  },
  {
   "cell_type": "markdown",
   "metadata": {},
   "source": [
    "Ranking features by thier relative importance scores."
   ]
  },
  {
   "cell_type": "code",
   "execution_count": 12,
   "metadata": {},
   "outputs": [
    {
     "data": {
      "text/plain": [
       "Text(0.5, 0, 'Relative Importance')"
      ]
     },
     "execution_count": 12,
     "metadata": {},
     "output_type": "execute_result"
    },
    {
     "data": {
      "image/png": "[encoded data removed]",
      "text/plain": [
       "<Figure size 432x288 with 1 Axes>"
      ]
     },
     "metadata": {
      "needs_background": "light"
     },
     "output_type": "display_data"
    }
   ],
   "source": [
    "plt.title('Feature Importances in the Random Forest Model')\n",
    "plt.barh(range(len(indices)), importances[indices], align='center')\n",
    "plt.yticks(range(len(indices)), [FEATURES[i] for i in indices])\n",
    "plt.xlabel('Relative Importance')"
   ]
  },
  {
   "cell_type": "markdown",
   "metadata": {},
   "source": [
    "Let's keep the features with importance scores of at least 0.05. These will be bb_lower, bb_upper, bb_mid, atr, rsi, and macd . Then, we drop the remaining features with less significant scores. You can say, let's not include the sector dummies at the very beginning, but we wouldn't know their importances until we see their scores here."
   ]
  },
  {
   "cell_type": "code",
   "execution_count": 13,
   "metadata": {},
   "outputs": [],
   "source": [
    "FEATURES_TO_DROP=[FEATURES[i] for i in indices[importances[indices] < 0.05]]"
   ]
  },
  {
   "cell_type": "code",
   "execution_count": 14,
   "metadata": {},
   "outputs": [],
   "source": [
    "DATA2 = DATA2.drop(columns=FEATURES_TO_DROP) # drop feature in the original data set\n",
    "X_train = X_train.drop(columns = FEATURES_TO_DROP) # drop feature in the training data set\n",
    "X_test = X_test.drop(columns= FEATURES_TO_DROP) # drop feature in the testing data set\n",
    "FEATURES = [f for f in FEATURES if f not in FEATURES_TO_DROP] "
   ]
  },
  {
   "cell_type": "markdown",
   "metadata": {},
   "source": [
    "<b>Multicollinearity</b>"
   ]
  },
  {
   "cell_type": "markdown",
   "metadata": {},
   "source": [
    "We use VIF to test for multicollinearity since the remaining features are numerical; if the features are categorical, we would use Chi-square test to test for correlation. At first we found bb_mid, bb_upper, and bb_lower have inf values, which iindicates an R squared of 1 and a perfect correlation. "
   ]
  },
  {
   "cell_type": "code",
   "execution_count": 15,
   "metadata": {},
   "outputs": [
    {
     "name": "stderr",
     "output_type": "stream",
     "text": [
      "C:\\Users\\user\\anaconda3\\lib\\site-packages\\statsmodels\\stats\\outliers_influence.py:193: RuntimeWarning: divide by zero encountered in double_scalars\n",
      "  vif = 1. / (1. - r_squared_i)\n"
     ]
    },
    {
     "data": {
      "text/html": [
       "<div>\n",
       "<style scoped>\n",
       "    .dataframe tbody tr th:only-of-type {\n",
       "        vertical-align: middle;\n",
       "    }\n",
       "\n",
       "    .dataframe tbody tr th {\n",
       "        vertical-align: top;\n",
       "    }\n",
       "\n",
       "    .dataframe thead th {\n",
       "        text-align: right;\n",
       "    }\n",
       "</style>\n",
       "<table border=\"1\" class=\"dataframe\">\n",
       "  <thead>\n",
       "    <tr style=\"text-align: right;\">\n",
       "      <th></th>\n",
       "      <th>Features</th>\n",
       "      <th>VIF</th>\n",
       "    </tr>\n",
       "  </thead>\n",
       "  <tbody>\n",
       "    <tr>\n",
       "      <th>0</th>\n",
       "      <td>atr</td>\n",
       "      <td>1.18631</td>\n",
       "    </tr>\n",
       "    <tr>\n",
       "      <th>1</th>\n",
       "      <td>macd</td>\n",
       "      <td>2.69763</td>\n",
       "    </tr>\n",
       "    <tr>\n",
       "      <th>2</th>\n",
       "      <td>rsi</td>\n",
       "      <td>2.69259</td>\n",
       "    </tr>\n",
       "    <tr>\n",
       "      <th>3</th>\n",
       "      <td>bb_mid</td>\n",
       "      <td>inf</td>\n",
       "    </tr>\n",
       "    <tr>\n",
       "      <th>4</th>\n",
       "      <td>bb_upper</td>\n",
       "      <td>inf</td>\n",
       "    </tr>\n",
       "    <tr>\n",
       "      <th>5</th>\n",
       "      <td>bb_lower</td>\n",
       "      <td>inf</td>\n",
       "    </tr>\n",
       "  </tbody>\n",
       "</table>\n",
       "</div>"
      ],
      "text/plain": [
       "   Features      VIF\n",
       "0       atr  1.18631\n",
       "1      macd  2.69763\n",
       "2       rsi  2.69259\n",
       "3    bb_mid      inf\n",
       "4  bb_upper      inf\n",
       "5  bb_lower      inf"
      ]
     },
     "execution_count": 15,
     "metadata": {},
     "output_type": "execute_result"
    }
   ],
   "source": [
    "from statsmodels.stats.outliers_influence import variance_inflation_factor\n",
    "VIF = [variance_inflation_factor(DATA2.loc[:, FEATURES].values, i) for i in range(len(FEATURES))]\n",
    "VIF_table = pd.DataFrame({'Features': FEATURES, 'VIF': VIF})\n",
    "VIF_table"
   ]
  },
  {
   "cell_type": "markdown",
   "metadata": {},
   "source": [
    "To resolve this problem, let's keep just the bb_mid feature and discard bb_upper and bb_lower. The result shows low VIF values for this set of features because they are all < 5. Since they are not considered to have high correlations, we will keep them as our final predictors for the liquidity strength."
   ]
  },
  {
   "cell_type": "code",
   "execution_count": 16,
   "metadata": {},
   "outputs": [],
   "source": [
    "FEATURES = [f for f in FEATURES if f not in ['bb_upper', 'bb_lower']]"
   ]
  },
  {
   "cell_type": "code",
   "execution_count": 17,
   "metadata": {},
   "outputs": [
    {
     "data": {
      "text/html": [
       "<div>\n",
       "<style scoped>\n",
       "    .dataframe tbody tr th:only-of-type {\n",
       "        vertical-align: middle;\n",
       "    }\n",
       "\n",
       "    .dataframe tbody tr th {\n",
       "        vertical-align: top;\n",
       "    }\n",
       "\n",
       "    .dataframe thead th {\n",
       "        text-align: right;\n",
       "    }\n",
       "</style>\n",
       "<table border=\"1\" class=\"dataframe\">\n",
       "  <thead>\n",
       "    <tr style=\"text-align: right;\">\n",
       "      <th></th>\n",
       "      <th>Features</th>\n",
       "      <th>VIF</th>\n",
       "    </tr>\n",
       "  </thead>\n",
       "  <tbody>\n",
       "    <tr>\n",
       "      <th>0</th>\n",
       "      <td>atr</td>\n",
       "      <td>1.095002</td>\n",
       "    </tr>\n",
       "    <tr>\n",
       "      <th>1</th>\n",
       "      <td>macd</td>\n",
       "      <td>2.686477</td>\n",
       "    </tr>\n",
       "    <tr>\n",
       "      <th>2</th>\n",
       "      <td>rsi</td>\n",
       "      <td>2.688805</td>\n",
       "    </tr>\n",
       "    <tr>\n",
       "      <th>3</th>\n",
       "      <td>bb_mid</td>\n",
       "      <td>1.076711</td>\n",
       "    </tr>\n",
       "  </tbody>\n",
       "</table>\n",
       "</div>"
      ],
      "text/plain": [
       "  Features       VIF\n",
       "0      atr  1.095002\n",
       "1     macd  2.686477\n",
       "2      rsi  2.688805\n",
       "3   bb_mid  1.076711"
      ]
     },
     "execution_count": 17,
     "metadata": {},
     "output_type": "execute_result"
    }
   ],
   "source": [
    "VIF = [variance_inflation_factor(DATA2.loc[:, FEATURES].values, i) for i in range(len(FEATURES))]\n",
    "VIF_table = pd.DataFrame({'Features': FEATURES, 'VIF': VIF})\n",
    "VIF_table"
   ]
  },
  {
   "cell_type": "markdown",
   "metadata": {},
   "source": [
    "<b>Label Imbalance</b>"
   ]
  },
  {
   "cell_type": "markdown",
   "metadata": {},
   "source": [
    "Let's investigate whether there is a label imbalance issue. We count the number of observations with High, Medium, and Low liquidity, then plotted them using a barplot. The minority-to-majority ratio of SPY directions matches about a 2:1:1 ratio or 50% samples in the Medium class and 25% samples in the High and Low classes. "
   ]
  },
  {
   "cell_type": "code",
   "execution_count": 18,
   "metadata": {},
   "outputs": [
    {
     "data": {
      "image/png": "[encoded data removed]",
      "text/plain": [
       "<Figure size 432x288 with 1 Axes>"
      ]
     },
     "metadata": {
      "needs_background": "light"
     },
     "output_type": "display_data"
    }
   ],
   "source": [
    "ax = sns.countplot(x = \"liquidity\", data = DATA2, color = 'blue')\n",
    "plt.title('Distribution of Liquidity Strength')\n",
    "plt.xlabel('Liquidity Strengths')\n",
    "plt.ylabel('Frequency')\n",
    "total = len(DATA2[\"liquidity\"])\n",
    "for p in ax.patches:\n",
    "        percentage = '{:.2f}%'.format(100 * p.get_height()/total)\n",
    "        x_coord = p.get_x() \n",
    "        y_coord = p.get_y() + p.get_height()+0.02\n",
    "        ax.annotate(percentage, (x_coord, y_coord))"
   ]
  },
  {
   "cell_type": "markdown",
   "metadata": {},
   "source": [
    "Althought liquidity strenths are not perfectly baalnced, in reality, it is reasonable to allow the bias of medium liquidity in the market since the high and low levels only occur 2 to 3 hours of the 8 hours trading per day."
   ]
  },
  {
   "cell_type": "markdown",
   "metadata": {},
   "source": [
    "<h2 style=\"color:Green;\">Fitting Classification Models (pg. 24)</h2>"
   ]
  },
  {
   "cell_type": "markdown",
   "metadata": {},
   "source": [
    "<b>K-Nearest Neighbors (KNN)</b>"
   ]
  },
  {
   "cell_type": "markdown",
   "metadata": {},
   "source": [
    "How do we select the number of neighbors? We would use the a K-Fold Cross Validation (CV) approach as opposed to the validation set approach because it generates more stable MSE's.<br><br>\n",
    "Say that we want to test the performance of the 1-Nearest Neighbor, then 2-Nearest Neighbor, ..., 10-Nearest Neighbor models. We will iterate through each model to compute it's Mean Squared Error (MSE) through a 5-Fold CV. Of course you can use other fold's of CV as well. However, please note that if you use 1-Fold CV (aka Leave-One-Out CV) or some lower number of folds for a large data set, it will take a longer time for the algorithm to run because the data set has to be splitted into more groups."
   ]
  },
  {
   "cell_type": "code",
   "execution_count": 95,
   "metadata": {},
   "outputs": [
    {
     "data": {
      "image/png": "[encoded data removed]",
      "text/plain": [
       "<Figure size 432x288 with 1 Axes>"
      ]
     },
     "metadata": {
      "needs_background": "light"
     },
     "output_type": "display_data"
    }
   ],
   "source": [
    "from sklearn.neighbors import KNeighborsClassifier\n",
    "# Specifying the K in K-Fold CV\n",
    "k_cv = 5\n",
    "# choose k between 1 to 30\n",
    "k_range = range(1, 50)\n",
    "k_accuracy = []\n",
    "# use iteration to caclulator different k in models, then return the average accuracy based on the cross validation\n",
    "for k in k_range:\n",
    "    knn = KNeighborsClassifier(n_neighbors=k)\n",
    "    accuracy = cross_val_score(knn, DATA2.loc[:, FEATURES], DATA2.loc[:, LABEL], cv=k_cv, scoring='accuracy')\n",
    "    k_accuracy.append(accuracy.mean())\n",
    "    \n",
    "plt.plot(k_range, k_accuracy)\n",
    "plt.title('KNN Accuracy Score with '+str(k_cv)+'-Fold Cross Validation')\n",
    "plt.xlabel('Value of K for KNN')\n",
    "plt.ylabel('Cross-Validated Accuracy Score')\n",
    "plt.show()"
   ]
  },
  {
   "cell_type": "markdown",
   "metadata": {},
   "source": [
    "The accuracy score rises sharply from when K=1 to K=10, then seems to grow slowly, from when K=10 to K=30, then grows even more slowly after K=30. Therefore, we would choose K=30 as the number of nearest neighbor for our KNN model. Let's go ahead to fit the model with this parameter setting!"
   ]
  },
  {
   "cell_type": "code",
   "execution_count": 96,
   "metadata": {},
   "outputs": [],
   "source": [
    "# # build KNN model and choose n_neighbors\n",
    "knn = KNeighborsClassifier(n_neighbors=30)\n",
    "# train the model\n",
    "knn.fit(X_train, y_train)\n",
    "# predicted liquidity strengths \n",
    "knn_pred_train = knn.predict(X_train)\n",
    "knn_pred_test = knn.predict(X_test)"
   ]
  },
  {
   "cell_type": "markdown",
   "metadata": {},
   "source": [
    "Calculating training and testing errors."
   ]
  },
  {
   "cell_type": "code",
   "execution_count": 97,
   "metadata": {},
   "outputs": [
    {
     "name": "stdout",
     "output_type": "stream",
     "text": [
      "KNN Training Error = 0.400\n",
      "KNN Testing Error = 0.422\n"
     ]
    }
   ],
   "source": [
    "print('KNN Training Error = %.3f' % (np.mean(knn_pred_train!=y_train)))\n",
    "print('KNN Testing Error = %.3f' % (np.mean(knn_pred_test != y_test)))"
   ]
  },
  {
   "cell_type": "markdown",
   "metadata": {},
   "source": [
    "Calculating training and testing accuracy scores."
   ]
  },
  {
   "cell_type": "code",
   "execution_count": 105,
   "metadata": {},
   "outputs": [
    {
     "name": "stdout",
     "output_type": "stream",
     "text": [
      "KNN Training Accuracy Score = 0.600\n",
      "KNN Testing Accuracy Score = 0.578\n"
     ]
    }
   ],
   "source": [
    "print('KNN Training Accuracy Score = %.3f' % knn.score(X_train,y_train))\n",
    "print('KNN Testing Accuracy Score = %.3f' % knn.score(X_test,y_test))"
   ]
  },
  {
   "cell_type": "markdown",
   "metadata": {},
   "source": [
    "Visualizing a confusion matrix. \n"
   ]
  },
  {
   "cell_type": "code",
   "execution_count": 102,
   "metadata": {},
   "outputs": [
    {
     "data": {
      "text/plain": [
       "Text(0.5, 1.0, 'KNN Confusion Matrix')"
      ]
     },
     "execution_count": 102,
     "metadata": {},
     "output_type": "execute_result"
    },
    {
     "data": {
      "image/png": "[encoded data removed]",
      "text/plain": [
       "<Figure size 432x288 with 2 Axes>"
      ]
     },
     "metadata": {
      "needs_background": "light"
     },
     "output_type": "display_data"
    }
   ],
   "source": [
    "plot_confusion_matrix(knn, X_test, y_test)\n",
    "plt.title(\"KNN Confusion Matrix\")"
   ]
  },
  {
   "cell_type": "markdown",
   "metadata": {},
   "source": [
    "Summarizing Precision, Recall, F1 Score, and Support."
   ]
  },
  {
   "cell_type": "code",
   "execution_count": 103,
   "metadata": {},
   "outputs": [
    {
     "name": "stdout",
     "output_type": "stream",
     "text": [
      "              precision    recall  f1-score   support\n",
      "\n",
      "           0       0.64      0.32      0.43      1562\n",
      "           1       0.55      0.47      0.50      1549\n",
      "           2       0.57      0.76      0.65      3176\n",
      "\n",
      "    accuracy                           0.58      6287\n",
      "   macro avg       0.59      0.52      0.53      6287\n",
      "weighted avg       0.59      0.58      0.56      6287\n",
      "\n"
     ]
    }
   ],
   "source": [
    "print(classification_report(y_test, knn_pred_test))"
   ]
  },
  {
   "cell_type": "markdown",
   "metadata": {},
   "source": [
    "Calculating AUC score."
   ]
  },
  {
   "cell_type": "code",
   "execution_count": 104,
   "metadata": {},
   "outputs": [
    {
     "name": "stdout",
     "output_type": "stream",
     "text": [
      "KNN Classifier: ROC AUC=0.724\n"
     ]
    }
   ],
   "source": [
    "knn_pred_test_proba = knn.predict_proba(X_test)\n",
    "print('KNN Classifier: ROC AUC=%.3f' % roc_auc_score(y_test, knn_pred_test_proba, multi_class='ovr'))"
   ]
  },
  {
   "cell_type": "markdown",
   "metadata": {},
   "source": [
    "<b>Support Vector Machines (SVM)</b>"
   ]
  },
  {
   "cell_type": "code",
   "execution_count": 130,
   "metadata": {},
   "outputs": [],
   "source": [
    "from sklearn import svm\n",
    "# build SVC model and choose the Radial Basis Function (RBF) kernel function\n",
    "rbf = svm.SVC(kernel='rbf', gamma=0.5, C=0.1, probability=True).fit(X_train, y_train)\n",
    "# choose the Polynomial kernel function\n",
    "poly = svm.SVC(kernel='poly', degree=3, C=1, probability=True).fit(X_train, y_train)\n",
    "\n",
    "# predicted liquidity strengths \n",
    "rbf_pred_train = rbf.predict(X_train)\n",
    "rbf_pred_test = rbf.predict(X_test)\n",
    "poly_pred_train = poly.predict(X_train)\n",
    "poly_pred_test = poly.predict(X_test)"
   ]
  },
  {
   "cell_type": "markdown",
   "metadata": {},
   "source": [
    "Calculating training and testing errors."
   ]
  },
  {
   "cell_type": "code",
   "execution_count": 132,
   "metadata": {},
   "outputs": [
    {
     "name": "stdout",
     "output_type": "stream",
     "text": [
      "SVC (RBF Kernel) Training Error = 0.415\n",
      "SVC (RBF Kernel) Testing Error = 0.413\n",
      "SVC (3rd-Degree Polynomial Kernel) Training Error = 0.451\n",
      "SVC (3rd-Degree Polynomial Kernel) Testing Error = 0.447\n"
     ]
    }
   ],
   "source": [
    "print('SVC (RBF Kernel) Training Error = %.3f' % (np.mean(rbf_pred_train!=y_train)))\n",
    "print('SVC (RBF Kernel) Testing Error = %.3f' % (np.mean(rbf_pred_test != y_test)))\n",
    "print('SVC (3rd-Degree Polynomial Kernel) Training Error = %.3f' % (np.mean(poly_pred_train!=y_train)))\n",
    "print('SVC (3rd-Degree Polynomial Kernel) Testing Error = %.3f' % (np.mean(poly_pred_test != y_test)))"
   ]
  },
  {
   "cell_type": "markdown",
   "metadata": {},
   "source": [
    "Calculating training and testing accuracy scores."
   ]
  },
  {
   "cell_type": "code",
   "execution_count": 133,
   "metadata": {},
   "outputs": [
    {
     "name": "stdout",
     "output_type": "stream",
     "text": [
      "SVC (RBF Kernel) Training Accuracy Score = 0.585\n",
      "SVC (RBF Kernel) Testing Accuracy Score = 0.587\n",
      "SVC (3rd-Degree Polynomial Kernel) Training Accuracy Score = 0.549\n",
      "SVC (3rd-Degree Polynomial Kernel) Testing Accuracy Score = 0.553\n"
     ]
    }
   ],
   "source": [
    "print('SVC (RBF Kernel) Training Accuracy Score = %.3f' % rbf.score(X_train,y_train))\n",
    "print('SVC (RBF Kernel) Testing Accuracy Score = %.3f' % rbf.score(X_test,y_test))\n",
    "print('SVC (3rd-Degree Polynomial Kernel) Training Accuracy Score = %.3f' % poly.score(X_train,y_train))\n",
    "print('SVC (3rd-Degree Polynomial Kernel) Testing Accuracy Score = %.3f' % poly.score(X_test,y_test))"
   ]
  },
  {
   "cell_type": "markdown",
   "metadata": {},
   "source": [
    "Visualizing SVC-RBF confusion matrix. "
   ]
  },
  {
   "cell_type": "code",
   "execution_count": 134,
   "metadata": {},
   "outputs": [
    {
     "data": {
      "text/plain": [
       "Text(0.5, 1.0, 'SVC (RBF Kernel) Confusion Matrix')"
      ]
     },
     "execution_count": 134,
     "metadata": {},
     "output_type": "execute_result"
    },
    {
     "data": {
      "image/png": "[encoded data removed]",
      "text/plain": [
       "<Figure size 432x288 with 2 Axes>"
      ]
     },
     "metadata": {
      "needs_background": "light"
     },
     "output_type": "display_data"
    }
   ],
   "source": [
    "plot_confusion_matrix(rbf, X_test, y_test)\n",
    "plt.title(\"SVC (RBF Kernel) Confusion Matrix\")"
   ]
  },
  {
   "cell_type": "markdown",
   "metadata": {},
   "source": [
    "Visualizing SVC-Polynomial confusion matrix. "
   ]
  },
  {
   "cell_type": "code",
   "execution_count": 135,
   "metadata": {},
   "outputs": [
    {
     "data": {
      "text/plain": [
       "Text(0.5, 1.0, 'SVC (3rd-Degree Polynomial Kernel) Confusion Matrix')"
      ]
     },
     "execution_count": 135,
     "metadata": {},
     "output_type": "execute_result"
    },
    {
     "data": {
      "image/png": "[encoded data removed]",
      "text/plain": [
       "<Figure size 432x288 with 2 Axes>"
      ]
     },
     "metadata": {
      "needs_background": "light"
     },
     "output_type": "display_data"
    }
   ],
   "source": [
    "plot_confusion_matrix(poly, X_test, y_test)\n",
    "plt.title(\"SVC (3rd-Degree Polynomial Kernel) Confusion Matrix\")"
   ]
  },
  {
   "cell_type": "markdown",
   "metadata": {},
   "source": [
    "Summarizing Precision, Recall, F1 Score, and Support."
   ]
  },
  {
   "cell_type": "code",
   "execution_count": 116,
   "metadata": {},
   "outputs": [
    {
     "name": "stdout",
     "output_type": "stream",
     "text": [
      "              precision    recall  f1-score   support\n",
      "\n",
      "           0       0.71      0.27      0.39      1562\n",
      "           1       0.61      0.38      0.47      1549\n",
      "           2       0.57      0.85      0.68      3176\n",
      "\n",
      "    accuracy                           0.59      6287\n",
      "   macro avg       0.63      0.50      0.51      6287\n",
      "weighted avg       0.61      0.59      0.55      6287\n",
      "\n"
     ]
    }
   ],
   "source": [
    "print(classification_report(y_test, rbf_pred_test))"
   ]
  },
  {
   "cell_type": "code",
   "execution_count": 117,
   "metadata": {},
   "outputs": [
    {
     "name": "stdout",
     "output_type": "stream",
     "text": [
      "              precision    recall  f1-score   support\n",
      "\n",
      "           0       0.77      0.17      0.27      1562\n",
      "           1       0.70      0.12      0.20      1549\n",
      "           2       0.53      0.95      0.68      3176\n",
      "\n",
      "    accuracy                           0.55      6287\n",
      "   macro avg       0.67      0.41      0.39      6287\n",
      "weighted avg       0.63      0.55      0.46      6287\n",
      "\n"
     ]
    }
   ],
   "source": [
    "print(classification_report(y_test, poly_pred_test))"
   ]
  },
  {
   "cell_type": "markdown",
   "metadata": {},
   "source": [
    "Calculating AUC score."
   ]
  },
  {
   "cell_type": "code",
   "execution_count": 136,
   "metadata": {},
   "outputs": [
    {
     "name": "stdout",
     "output_type": "stream",
     "text": [
      "SVC (RBF Kernel) Classifier: ROC AUC=0.737\n",
      "SVC (3rd-Degree Polynomial Kernel) Classifier: ROC AUC=0.720\n"
     ]
    }
   ],
   "source": [
    "rbf_pred_test_proba = rbf.predict_proba(X_test)\n",
    "poly_pred_test_proba = poly.predict_proba(X_test)\n",
    "print('SVC (RBF Kernel) Classifier: ROC AUC=%.3f' % roc_auc_score(y_test, rbf_pred_test_proba, multi_class='ovr'))\n",
    "print('SVC (3rd-Degree Polynomial Kernel) Classifier: ROC AUC=%.3f' % roc_auc_score(y_test, poly_pred_test_proba, multi_class='ovr'))"
   ]
  },
  {
   "cell_type": "markdown",
   "metadata": {},
   "source": [
    "<b>Decision (Classification) Tree </b>"
   ]
  },
  {
   "cell_type": "code",
   "execution_count": null,
   "metadata": {},
   "outputs": [],
   "source": [
    "from sklearn.tree import DecisionTreeClassifier \n",
    "from sklearn import tree\n",
    "\n",
    "# Fit the classifier with default hyper-parameters\n",
    "dt = DecisionTreeClassifier(random_state=1234).fit(X_train,y_train)"
   ]
  },
  {
   "cell_type": "code",
   "execution_count": null,
   "metadata": {},
   "outputs": [],
   "source": []
  },
  {
   "cell_type": "markdown",
   "metadata": {},
   "source": [
    "<b>Ensemble Method: Bagging</b>"
   ]
  },
  {
   "cell_type": "code",
   "execution_count": null,
   "metadata": {},
   "outputs": [],
   "source": []
  },
  {
   "cell_type": "code",
   "execution_count": null,
   "metadata": {},
   "outputs": [],
   "source": []
  },
  {
   "cell_type": "markdown",
   "metadata": {},
   "source": [
    "<b>Ensemble Method: Random Forest</b>"
   ]
  },
  {
   "cell_type": "code",
   "execution_count": null,
   "metadata": {},
   "outputs": [],
   "source": []
  },
  {
   "cell_type": "code",
   "execution_count": null,
   "metadata": {},
   "outputs": [],
   "source": []
  },
  {
   "cell_type": "markdown",
   "metadata": {},
   "source": [
    "<b>Ensemble Method: Boosting</b>"
   ]
  },
  {
   "cell_type": "code",
   "execution_count": null,
   "metadata": {},
   "outputs": [],
   "source": []
  },
  {
   "cell_type": "code",
   "execution_count": null,
   "metadata": {},
   "outputs": [],
   "source": []
  },
  {
   "cell_type": "code",
   "execution_count": null,
   "metadata": {},
   "outputs": [],
   "source": []
  }
 ],
 "metadata": {
  "kernelspec": {
   "display_name": "Python 3",
   "language": "python",
   "name": "python3"
  },
  "language_info": {
   "codemirror_mode": {
    "name": "ipython",
    "version": 3
   },
   "file_extension": ".py",
   "mimetype": "text/x-python",
   "name": "python",
   "nbconvert_exporter": "python",
   "pygments_lexer": "ipython3",
   "version": "3.7.6"
  },
  "toc": {
   "base_numbering": 1,
   "nav_menu": {},
   "number_sections": true,
   "sideBar": true,
   "skip_h1_title": true,
   "title_cell": "Table of Contents",
   "title_sidebar": "Contents",
   "toc_cell": false,
   "toc_position": {},
   "toc_section_display": true,
   "toc_window_display": true
  }
 },
 "nbformat": 4,
 "nbformat_minor": 2
}
