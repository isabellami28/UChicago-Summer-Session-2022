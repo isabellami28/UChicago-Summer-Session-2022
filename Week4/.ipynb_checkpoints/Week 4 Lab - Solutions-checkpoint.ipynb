{
 "cells": [
  {
   "cell_type": "markdown",
   "metadata": {},
   "source": [
    "<h1 style=\"color:Green;\">Week 4 Lab - Solutions</h1> "
   ]
  },
  {
   "cell_type": "markdown",
   "metadata": {},
   "source": [
    "<a style=\"color:purple;\" href=\"https://docs.google.com/presentation/d/1_jQKSrS4hiVJaxnFYhRh284AhAbPxI0CL0qAP4Iz-DE/edit#slide=id.p\">[Week 4 Lecture Link Here]</a>"
   ]
  },
  {
   "cell_type": "markdown",
   "metadata": {},
   "source": [
    "<h2 style=\"color:black;\"> Objective: to implement machine learning methods and models on classification problems</h2> "
   ]
  },
  {
   "cell_type": "markdown",
   "metadata": {},
   "source": [
    "<h2 style=\"color:Green;\">Setup and Loading Packages</h2> Setup and Loading Packages"
   ]
  },
  {
   "cell_type": "code",
   "execution_count": 28,
   "metadata": {
    "ExecuteTime": {
     "end_time": "2021-04-16T00:08:32.172640Z",
     "start_time": "2021-04-16T00:08:31.635143Z"
    }
   },
   "outputs": [],
   "source": [
    "%matplotlib inline\n",
    "\n",
    "import numpy as np\n",
    "import pandas as pd\n",
    "\n",
    "import matplotlib.pyplot as plt\n",
    "import seaborn as sns\n",
    "\n",
    "from sklearn.preprocessing import scale\n",
    "from sklearn.model_selection import train_test_split\n",
    "\n",
    "import statsmodels.api as sm\n",
    "from sklearn.preprocessing import StandardScaler\n",
    "import pandas_datareader as pdr\n",
    "\n",
    "from sklearn.ensemble import RandomForestRegressor\n",
    "from statsmodels.stats.outliers_influence import variance_inflation_factor"
   ]
  },
  {
   "cell_type": "markdown",
   "metadata": {},
   "source": [
    "<h2 style=\"color:Green;\">Problem 1: Real GDP Growth Rate Predictions by Country</h2><br/>"
   ]
  },
  {
   "cell_type": "markdown",
   "metadata": {},
   "source": [
    "Gross Domestic Products (GDP) growth has been a hot topic in macroeconomics and an economist on your team needs your help to uncover its implications from a statistical learning perspective. The economist gathered some data from the U.S. Bureau of Economic Analysis (BEA) and OECD’s Composite Leading Indicators (CLIs) repositories. The U.S. BEA stores macro and micro-economic measures on a multinational level as the OECD CLIs screens the conditions that dictates the economic booms and busts of OECD countries. <br><br>\n",
    "\n",
    "4 indictors are gathered from each of the 10 selected OECD countries: monthly real income, employment, industrial production, and wholesale-retail sales. The countries include the United States, United Kingdom, Netherlands, Luxembourg, Japan, Korea, Germany, France, Denmark, and Canada. The data are collected over the past 240 months (20 years), from October 1999 to September 2019, so there is a total of 2400 observations. <br><br>\n",
    "\n",
    "The economist wants to examine the predictive power of these features in a linear model that forecasts the real Gross Domestic Products (GDP) growth rate for each country. \n",
    "\n",
    "<p style=\"color:red;\">PLEASE DO NOT CHANGE THIS CODE !!!</p>"
   ]
  },
  {
   "cell_type": "code",
   "execution_count": 2,
   "metadata": {},
   "outputs": [
    {
     "name": "stdout",
     "output_type": "stream",
     "text": [
      "<class 'pandas.core.frame.DataFrame'>\n",
      "Index: 2399 entries, 11/1/1999 to 9/1/2019\n",
      "Data columns (total 6 columns):\n",
      " #   Column       Non-Null Count  Dtype  \n",
      "---  ------       --------------  -----  \n",
      " 0   Country      2399 non-null   object \n",
      " 1   realGDP      2399 non-null   float64\n",
      " 2   realPersInc  2399 non-null   float64\n",
      " 3   unempRate    2399 non-null   float64\n",
      " 4   indProd      2399 non-null   float64\n",
      " 5   retailSales  2399 non-null   float64\n",
      "dtypes: float64(5), object(1)\n",
      "memory usage: 131.2+ KB\n"
     ]
    }
   ],
   "source": [
    "# loading the csv data set from local directory\n",
    "OECD = pd.read_csv('OECD_DATA.csv'); OECD = OECD.set_index('Date')\n",
    "# converting real GDP index to growth rate (we do not take the log this time)\n",
    "OECD['realGDP'] = OECD['realGDP'].pct_change()\n",
    "# drop NaN values\n",
    "OECD = OECD.dropna()\n",
    "OECD.info()"
   ]
  },
  {
   "cell_type": "markdown",
   "metadata": {},
   "source": [
    "a) Based on the economist's specified problem, please identify the explanatory and response variables in the data set."
   ]
  },
  {
   "cell_type": "markdown",
   "metadata": {},
   "source": [
    "<b style=\"color:blue;\"> Solution: </b>\n",
    "<p style=\"color:blue;\"> Explanatory variables: country, monthly real income, employment, industrial production, and wholesale-retail sales.</p>\n",
    "<p style=\"color:blue;\"> Response variable: GDP growth rate</p>"
   ]
  },
  {
   "cell_type": "markdown",
   "metadata": {},
   "source": [
    "b) To make sure the units of the features are aligned, please standardize the numerical features. (Note we cannot standardize categorical features)"
   ]
  },
  {
   "cell_type": "markdown",
   "metadata": {},
   "source": [
    "<b style=\"color:blue;\"> Solution: </b>\n",
    "<p style=\"color:blue;\"> Use the scale function to stanardize explanatory numerical varaibles on a Normal(0,1) scale.</p>"
   ]
  },
  {
   "cell_type": "code",
   "execution_count": 49,
   "metadata": {},
   "outputs": [],
   "source": [
    "################ EDIT CODE LINES HERE #################\n",
    "\n",
    "RESPONSE = 'realGDP'\n",
    "FEATURES = ['realPersInc', 'unempRate', 'indProd', 'retailSales'] # features to be standardized \n",
    "OECD.loc[:, FEATURES] = scale(OECD.loc[:, FEATURES]) # standardizing features\n",
    "\n",
    "######################################################"
   ]
  },
  {
   "cell_type": "markdown",
   "metadata": {},
   "source": [
    "c) Notice that since the Country variable is a categoirical variable, we need to use some kind of numeric indicator to replace the string values in that column. We use dummy variables. A dummy variable is a binary variable that indicates whether a separate categorical variable takes on a specific value. For example, we will add 9 columns  to the data set and name column by the syntax 'Country_[country name]'. Each column will only take on the values 0 or 1; 0 represents that the observation on that row does not belong to the country and 1 represents that the observation on that row belongs to the country. For example, the rows where the Country value is USA' will have the Country_USA column being 1, and the Country_Denmark, Country_France, and so on columns being 0. <br><br>\n",
    "\n",
    "You may ask why we added 9 columns when there are 10 countries in our original data set. This is because when all 9 dummy variables are set to 0, the regression output will represent the result for the country that doesn't have its own added column. <br><br>\n",
    "\n",
    "Read this blog for more details: https://abbynyakara.medium.com/dummy-variables-in-machine-learning-b3991367bd59\n",
    "<p style=\"color:red;\">PLEASE DO NOT CHANGE THIS CODE !!!</p>"
   ]
  },
  {
   "cell_type": "code",
   "execution_count": 5,
   "metadata": {},
   "outputs": [
    {
     "data": {
      "text/html": [
       "<div>\n",
       "<style scoped>\n",
       "    .dataframe tbody tr th:only-of-type {\n",
       "        vertical-align: middle;\n",
       "    }\n",
       "\n",
       "    .dataframe tbody tr th {\n",
       "        vertical-align: top;\n",
       "    }\n",
       "\n",
       "    .dataframe thead th {\n",
       "        text-align: right;\n",
       "    }\n",
       "</style>\n",
       "<table border=\"1\" class=\"dataframe\">\n",
       "  <thead>\n",
       "    <tr style=\"text-align: right;\">\n",
       "      <th></th>\n",
       "      <th>realGDP</th>\n",
       "      <th>realPersInc</th>\n",
       "      <th>unempRate</th>\n",
       "      <th>indProd</th>\n",
       "      <th>retailSales</th>\n",
       "      <th>Country_Denmark</th>\n",
       "      <th>Country_France</th>\n",
       "      <th>Country_Germany</th>\n",
       "      <th>Country_Japan</th>\n",
       "      <th>Country_Korea</th>\n",
       "      <th>Country_Luxembourg</th>\n",
       "      <th>Country_Netherlands</th>\n",
       "      <th>Country_UK</th>\n",
       "      <th>Country_USA</th>\n",
       "    </tr>\n",
       "    <tr>\n",
       "      <th>Date</th>\n",
       "      <th></th>\n",
       "      <th></th>\n",
       "      <th></th>\n",
       "      <th></th>\n",
       "      <th></th>\n",
       "      <th></th>\n",
       "      <th></th>\n",
       "      <th></th>\n",
       "      <th></th>\n",
       "      <th></th>\n",
       "      <th></th>\n",
       "      <th></th>\n",
       "      <th></th>\n",
       "      <th></th>\n",
       "    </tr>\n",
       "  </thead>\n",
       "  <tbody>\n",
       "    <tr>\n",
       "      <th>11/1/1999</th>\n",
       "      <td>0.000988</td>\n",
       "      <td>1.796302</td>\n",
       "      <td>-0.821803</td>\n",
       "      <td>-0.808932</td>\n",
       "      <td>-0.384360</td>\n",
       "      <td>0</td>\n",
       "      <td>0</td>\n",
       "      <td>0</td>\n",
       "      <td>0</td>\n",
       "      <td>0</td>\n",
       "      <td>0</td>\n",
       "      <td>0</td>\n",
       "      <td>0</td>\n",
       "      <td>1</td>\n",
       "    </tr>\n",
       "    <tr>\n",
       "      <th>12/1/1999</th>\n",
       "      <td>0.000691</td>\n",
       "      <td>1.775151</td>\n",
       "      <td>-0.871149</td>\n",
       "      <td>-0.748722</td>\n",
       "      <td>-0.286125</td>\n",
       "      <td>0</td>\n",
       "      <td>0</td>\n",
       "      <td>0</td>\n",
       "      <td>0</td>\n",
       "      <td>0</td>\n",
       "      <td>0</td>\n",
       "      <td>0</td>\n",
       "      <td>0</td>\n",
       "      <td>1</td>\n",
       "    </tr>\n",
       "    <tr>\n",
       "      <th>1/1/2000</th>\n",
       "      <td>0.000592</td>\n",
       "      <td>1.769032</td>\n",
       "      <td>-0.871149</td>\n",
       "      <td>-0.746977</td>\n",
       "      <td>-0.346280</td>\n",
       "      <td>0</td>\n",
       "      <td>0</td>\n",
       "      <td>0</td>\n",
       "      <td>0</td>\n",
       "      <td>0</td>\n",
       "      <td>0</td>\n",
       "      <td>0</td>\n",
       "      <td>0</td>\n",
       "      <td>1</td>\n",
       "    </tr>\n",
       "    <tr>\n",
       "      <th>2/1/2000</th>\n",
       "      <td>0.000591</td>\n",
       "      <td>1.769869</td>\n",
       "      <td>-0.821803</td>\n",
       "      <td>-0.723416</td>\n",
       "      <td>-0.288399</td>\n",
       "      <td>0</td>\n",
       "      <td>0</td>\n",
       "      <td>0</td>\n",
       "      <td>0</td>\n",
       "      <td>0</td>\n",
       "      <td>0</td>\n",
       "      <td>0</td>\n",
       "      <td>0</td>\n",
       "      <td>1</td>\n",
       "    </tr>\n",
       "    <tr>\n",
       "      <th>3/1/2000</th>\n",
       "      <td>0.000690</td>\n",
       "      <td>1.764942</td>\n",
       "      <td>-0.871149</td>\n",
       "      <td>-0.695493</td>\n",
       "      <td>-0.261159</td>\n",
       "      <td>0</td>\n",
       "      <td>0</td>\n",
       "      <td>0</td>\n",
       "      <td>0</td>\n",
       "      <td>0</td>\n",
       "      <td>0</td>\n",
       "      <td>0</td>\n",
       "      <td>0</td>\n",
       "      <td>1</td>\n",
       "    </tr>\n",
       "  </tbody>\n",
       "</table>\n",
       "</div>"
      ],
      "text/plain": [
       "            realGDP  realPersInc  unempRate   indProd  retailSales  \\\n",
       "Date                                                                 \n",
       "11/1/1999  0.000988     1.796302  -0.821803 -0.808932    -0.384360   \n",
       "12/1/1999  0.000691     1.775151  -0.871149 -0.748722    -0.286125   \n",
       "1/1/2000   0.000592     1.769032  -0.871149 -0.746977    -0.346280   \n",
       "2/1/2000   0.000591     1.769869  -0.821803 -0.723416    -0.288399   \n",
       "3/1/2000   0.000690     1.764942  -0.871149 -0.695493    -0.261159   \n",
       "\n",
       "           Country_Denmark  Country_France  Country_Germany  Country_Japan  \\\n",
       "Date                                                                         \n",
       "11/1/1999                0               0                0              0   \n",
       "12/1/1999                0               0                0              0   \n",
       "1/1/2000                 0               0                0              0   \n",
       "2/1/2000                 0               0                0              0   \n",
       "3/1/2000                 0               0                0              0   \n",
       "\n",
       "           Country_Korea  Country_Luxembourg  Country_Netherlands  Country_UK  \\\n",
       "Date                                                                            \n",
       "11/1/1999              0                   0                    0           0   \n",
       "12/1/1999              0                   0                    0           0   \n",
       "1/1/2000               0                   0                    0           0   \n",
       "2/1/2000               0                   0                    0           0   \n",
       "3/1/2000               0                   0                    0           0   \n",
       "\n",
       "           Country_USA  \n",
       "Date                    \n",
       "11/1/1999            1  \n",
       "12/1/1999            1  \n",
       "1/1/2000             1  \n",
       "2/1/2000             1  \n",
       "3/1/2000             1  "
      ]
     },
     "execution_count": 5,
     "metadata": {},
     "output_type": "execute_result"
    }
   ],
   "source": [
    "# declaring dummy variables based on the Country column\n",
    "OECD = pd.get_dummies(data=OECD, drop_first=True)\n",
    "# update the FEATURES variable\n",
    "FEATURES = OECD.columns[1:]\n",
    "# display top rows of the new data set\n",
    "OECD.head()"
   ]
  },
  {
   "cell_type": "markdown",
   "metadata": {},
   "source": [
    "Please run the above code chunk an observe that the new columns are added to the original data frame to represent the dummy variables. <br><br>\n",
    "Now, please write a code piece to split the data into 75% training and 25% testing sets."
   ]
  },
  {
   "cell_type": "markdown",
   "metadata": {},
   "source": [
    "<b style=\"color:blue;\"> Solution: </b>\n",
    "<p style=\"color:blue;\"> Use the train_test_split function imported to split the data.</p>"
   ]
  },
  {
   "cell_type": "code",
   "execution_count": 19,
   "metadata": {},
   "outputs": [],
   "source": [
    "################ EDIT CODE LINES HERE #################\n",
    "\n",
    "X_train, X_test, y_train, y_test = train_test_split(OECD.loc[:, FEATURES], OECD.loc[:, RESPONSE], test_size=0.25, random_state=0)\n",
    "\n",
    "######################################################"
   ]
  },
  {
   "cell_type": "markdown",
   "metadata": {},
   "source": [
    "d) We are told by the economist that all the features are very important predictors for the GDP growth rate, and hence, we will take his words and skip the exploration of importance scores. He also mentions that there is no multicollinearity based on his initial analysis. <br><br> \n",
    "Please validate the economist's statements, in other words, show that:\n",
    "<ul>\n",
    "  <li>All the features (excluding the dummy variables) are important</li>\n",
    "  <li>No multicollinearity exists between features </li>\n",
    "</ul>\n",
    "To respect the economist's claims, please DO NOT drop any features. (Hint: the dummy variables should not be significant, but keep them because we need them to make predictions for each country)"
   ]
  },
  {
   "cell_type": "markdown",
   "metadata": {},
   "source": [
    "<b style=\"color:blue;\"> Solution: </b>\n",
    "<p style=\"color:blue;\"> Use the Random Forest Regressor to calculate feature importance scores. </p>\n",
    "<p style=\"color:blue;\"> We found that the 4 economic indicators all have importance scores above 0.05, showing significance. The dummy variables all show importance scores below 0.05, which in theory is insignificant, but to be able to make prediction for each country, we do not drop them.</p>"
   ]
  },
  {
   "cell_type": "code",
   "execution_count": 22,
   "metadata": {},
   "outputs": [
    {
     "data": {
      "text/plain": [
       "Text(0.5, 0, 'Relative Importance')"
      ]
     },
     "execution_count": 22,
     "metadata": {},
     "output_type": "execute_result"
    },
    {
     "data": {
      "image/png": "[encoded data removed]",
      "text/plain": [
       "<Figure size 432x288 with 1 Axes>"
      ]
     },
     "metadata": {
      "needs_background": "light"
     },
     "output_type": "display_data"
    }
   ],
   "source": [
    "################ EDIT CODE LINES HERE #################\n",
    "\n",
    "rf_model = RandomForestRegressor(random_state=0) # define the random forest model\n",
    "\n",
    "rf_model.fit(X_train, y_train) # fit the random forest model\n",
    "\n",
    "importances = rf_model.feature_importances_ # get importance\n",
    "\n",
    "indices = np.argsort(importances) # sort the features' index by their importance scores\n",
    "\n",
    "# sort and plot the features by their importance scores\n",
    "plt.title('Feature Importances in the Random Forest Model')\n",
    "plt.barh(range(len(indices)), importances[indices], align='center')\n",
    "plt.yticks(range(len(indices)), [FEATURES[i] for i in indices])\n",
    "plt.xlabel('Relative Importance')\n",
    "\n",
    "######################################################"
   ]
  },
  {
   "cell_type": "markdown",
   "metadata": {},
   "source": [
    "<p style=\"color:blue;\"> We use VIF to test for multicollinearity between features, and found that all features have VIF values around 1 or 2, hence showing low to moderate correlations. It is safe not to drop any features. </p>"
   ]
  },
  {
   "cell_type": "code",
   "execution_count": 23,
   "metadata": {},
   "outputs": [
    {
     "data": {
      "text/html": [
       "<div>\n",
       "<style scoped>\n",
       "    .dataframe tbody tr th:only-of-type {\n",
       "        vertical-align: middle;\n",
       "    }\n",
       "\n",
       "    .dataframe tbody tr th {\n",
       "        vertical-align: top;\n",
       "    }\n",
       "\n",
       "    .dataframe thead th {\n",
       "        text-align: right;\n",
       "    }\n",
       "</style>\n",
       "<table border=\"1\" class=\"dataframe\">\n",
       "  <thead>\n",
       "    <tr style=\"text-align: right;\">\n",
       "      <th></th>\n",
       "      <th>Features</th>\n",
       "      <th>VIF</th>\n",
       "    </tr>\n",
       "  </thead>\n",
       "  <tbody>\n",
       "    <tr>\n",
       "      <th>0</th>\n",
       "      <td>realPersInc</td>\n",
       "      <td>1.723912</td>\n",
       "    </tr>\n",
       "    <tr>\n",
       "      <th>1</th>\n",
       "      <td>unempRate</td>\n",
       "      <td>2.435666</td>\n",
       "    </tr>\n",
       "    <tr>\n",
       "      <th>2</th>\n",
       "      <td>indProd</td>\n",
       "      <td>2.242862</td>\n",
       "    </tr>\n",
       "    <tr>\n",
       "      <th>3</th>\n",
       "      <td>retailSales</td>\n",
       "      <td>2.094585</td>\n",
       "    </tr>\n",
       "    <tr>\n",
       "      <th>4</th>\n",
       "      <td>Country_Denmark</td>\n",
       "      <td>1.166142</td>\n",
       "    </tr>\n",
       "    <tr>\n",
       "      <th>5</th>\n",
       "      <td>Country_France</td>\n",
       "      <td>1.891253</td>\n",
       "    </tr>\n",
       "    <tr>\n",
       "      <th>6</th>\n",
       "      <td>Country_Germany</td>\n",
       "      <td>1.134902</td>\n",
       "    </tr>\n",
       "    <tr>\n",
       "      <th>7</th>\n",
       "      <td>Country_Japan</td>\n",
       "      <td>1.186148</td>\n",
       "    </tr>\n",
       "    <tr>\n",
       "      <th>8</th>\n",
       "      <td>Country_Korea</td>\n",
       "      <td>1.977866</td>\n",
       "    </tr>\n",
       "    <tr>\n",
       "      <th>9</th>\n",
       "      <td>Country_Luxembourg</td>\n",
       "      <td>1.411761</td>\n",
       "    </tr>\n",
       "    <tr>\n",
       "      <th>10</th>\n",
       "      <td>Country_Netherlands</td>\n",
       "      <td>1.118034</td>\n",
       "    </tr>\n",
       "    <tr>\n",
       "      <th>11</th>\n",
       "      <td>Country_UK</td>\n",
       "      <td>1.036900</td>\n",
       "    </tr>\n",
       "    <tr>\n",
       "      <th>12</th>\n",
       "      <td>Country_USA</td>\n",
       "      <td>1.026931</td>\n",
       "    </tr>\n",
       "  </tbody>\n",
       "</table>\n",
       "</div>"
      ],
      "text/plain": [
       "               Features       VIF\n",
       "0           realPersInc  1.723912\n",
       "1             unempRate  2.435666\n",
       "2               indProd  2.242862\n",
       "3           retailSales  2.094585\n",
       "4       Country_Denmark  1.166142\n",
       "5        Country_France  1.891253\n",
       "6       Country_Germany  1.134902\n",
       "7         Country_Japan  1.186148\n",
       "8         Country_Korea  1.977866\n",
       "9    Country_Luxembourg  1.411761\n",
       "10  Country_Netherlands  1.118034\n",
       "11           Country_UK  1.036900\n",
       "12          Country_USA  1.026931"
      ]
     },
     "execution_count": 23,
     "metadata": {},
     "output_type": "execute_result"
    }
   ],
   "source": [
    "################ EDIT CODE LINES HERE #################\n",
    "\n",
    "VIF = [variance_inflation_factor(OECD.loc[:, FEATURES].values, i) for i in range(len(FEATURES))]\n",
    "VIF_table = pd.DataFrame({'Features': FEATURES, 'VIF': VIF})\n",
    "VIF_table\n",
    "\n",
    "######################################################"
   ]
  },
  {
   "cell_type": "markdown",
   "metadata": {},
   "source": [
    "e) Please wirte a code piece to fit a multiple linear regression to the data, then print the resulting Adjusted R-squared, MAE, and RMSE metrics. "
   ]
  },
  {
   "cell_type": "markdown",
   "metadata": {},
   "source": [
    "<b style=\"color:blue;\"> Solution: </b>"
   ]
  },
  {
   "cell_type": "code",
   "execution_count": 42,
   "metadata": {},
   "outputs": [
    {
     "name": "stdout",
     "output_type": "stream",
     "text": [
      "The Adjusted R-squared is:  -0.00016040239222148145\n",
      "The MAE is:  0.0011117728989690704\n",
      "The RMSE is:  0.0015994744800071979\n"
     ]
    }
   ],
   "source": [
    "################ EDIT CODE LINES HERE #################\n",
    "\n",
    "linear_model = LinearRegression()\n",
    "\n",
    "#fit regression model\n",
    "linear_model = linear_model.fit(X_train, y_train)\n",
    "\n",
    "# calculating goodness of fit metrics\n",
    "y_test_pred = linear_model.predict(X_test)\n",
    "r2 = r2_score(y_test, y_test_pred)\n",
    "mae = mean_absolute_error(y_test, y_test_pred)\n",
    "rmse = mean_squared_error(y_test, y_test_pred, squared=False)\n",
    "\n",
    "# printing goodness of fit metrics\n",
    "print('The Adjusted R-squared is: ', 1-(1-r2)*(OECD.shape[0]-1)/(OECD.shape[0]-len(FEATURES)-1))\n",
    "print('The MAE is: ', mae)\n",
    "print('The RMSE is: ', rmse)\n",
    "\n",
    "######################################################"
   ]
  },
  {
   "cell_type": "markdown",
   "metadata": {},
   "source": [
    "f) Please wirte a code piece to fit a ridge regression to the data, then print the resulting Adjusted R-squared, MAE, and RMSE metrics."
   ]
  },
  {
   "cell_type": "markdown",
   "metadata": {},
   "source": [
    "<b style=\"color:blue;\"> Solution: </b>"
   ]
  },
  {
   "cell_type": "code",
   "execution_count": 43,
   "metadata": {},
   "outputs": [
    {
     "name": "stdout",
     "output_type": "stream",
     "text": [
      "The Adjusted R-squared is:  -0.0011210804926706786\n",
      "The MAE is:  0.0011116109555797656\n",
      "The RMSE is:  0.0016002424624718444\n"
     ]
    }
   ],
   "source": [
    "################ EDIT CODE LINES HERE #################\n",
    "\n",
    "# initiate the 5-Fold cross validation \n",
    "ridge_model = RidgeCV(cv=5, scoring='r2')\n",
    "# fit the model with the best alpha\n",
    "ridge_model = ridge_model.fit(X_train, y_train)\n",
    "\n",
    "# calculating model metrics\n",
    "y_test_pred_ridge = ridge_model.predict(X_test)\n",
    "r2_ridge = r2_score(y_test, y_test_pred_ridge)\n",
    "mae_ridge = mean_absolute_error(y_test, y_test_pred_ridge)\n",
    "rmse_ridge = mean_squared_error(y_test, y_test_pred_ridge, squared=False)\n",
    "\n",
    "# printing model metrics\n",
    "print('The Adjusted R-squared is: ', 1-(1-r2_ridge)*(OECD.shape[0]-1)/(OECD.shape[0]-len(FEATURES)-1))\n",
    "print('The MAE is: ', mae_ridge)\n",
    "print('The RMSE is: ', rmse_ridge)\n",
    "\n",
    "######################################################"
   ]
  },
  {
   "cell_type": "markdown",
   "metadata": {},
   "source": [
    "g) Please wirte a code piece to fit a lasso regression to the data, then print the resulting Adjusted R-squared, MAE, and RMSE metrics."
   ]
  },
  {
   "cell_type": "markdown",
   "metadata": {},
   "source": [
    "<b style=\"color:blue;\"> Solution: </b>"
   ]
  },
  {
   "cell_type": "code",
   "execution_count": 44,
   "metadata": {},
   "outputs": [
    {
     "name": "stdout",
     "output_type": "stream",
     "text": [
      "The Adjusted R-squared is:  -0.0016100473091211764\n",
      "The MAE is:  0.0011125699424768829\n",
      "The RMSE is:  0.0016006332093845773\n"
     ]
    }
   ],
   "source": [
    "################ EDIT CODE LINES HERE #################\n",
    "\n",
    "# initiate 5-Fold cross validation \n",
    "lasso_model = LassoCV(cv=5) # uses scoring='r2'by default\n",
    "# fit the model with the best alpha\n",
    "lasso_model = lasso_model.fit(X_train, y_train)\n",
    "\n",
    "# calculating model metrics\n",
    "y_test_pred_lasso = lasso_model.predict(X_test)\n",
    "r2_lasso = r2_score(y_test, y_test_pred_lasso)\n",
    "mae_lasso = mean_absolute_error(y_test, y_test_pred_lasso)\n",
    "rmse_lasso = mean_squared_error(y_test, y_test_pred_lasso, squared=False)\n",
    "\n",
    "# printing model metrics\n",
    "print('The Adjusted R-squared is: ', 1-(1-r2_lasso)*(OECD.shape[0]-1)/(OECD.shape[0]-len(FEATURES)-1))\n",
    "print('The MAE is: ', mae_lasso)\n",
    "print('The RMSE is: ', rmse_lasso)\n",
    "\n",
    "######################################################"
   ]
  },
  {
   "cell_type": "markdown",
   "metadata": {},
   "source": [
    "h) Compare the three models you just fitted. Which one turns out to be the best and why? (Hint: since we included 9 dummy variables in the model that are not as significant, we may be overfitting, hence leading to a negative adjusted R-squared. You can ignore the adjusted R-squared if this happends, and just compare the MAE and RMSE.)"
   ]
  },
  {
   "cell_type": "markdown",
   "metadata": {},
   "source": [
    "<b style=\"color:blue;\"> Solution: </b>\n",
    "<p style=\"color:blue;\"> Based on MAE, ridge regression performs the best. However, based on RMSE, the multiple linear regression without regression performs the best. You get full credits if you select either model. </p>"
   ]
  },
  {
   "cell_type": "markdown",
   "metadata": {},
   "source": [
    "i) Based on the model you selected, write a code piece that prints the intercept and coefficient estimates, then write out the formula based on the printed output."
   ]
  },
  {
   "cell_type": "markdown",
   "metadata": {},
   "source": [
    "<b style=\"color:blue;\"> Solution: </b>\n",
    "<p style=\"color:blue;\"> For the unregularized multiple linear regression, </p>\n",
    "$\\hat{y}$ = -0.00020 + 0.00011 * (realPersInc) + 0.00037 * (unempRate) + 0.00022 * (indProd) + 0.000019 * (retailSales) + 0.000082 * (Country_Denmark) - 0.00047 * (Country_France) - 0.000053 * (Country_Germany) + 0.00038 * (Country_Japan) + 0.00094 * (Country_Korea) + 0.00032 * (Country_Luxembourg) + 0.00020 * (Country_Netherlands) + 0.000097 * (Country_UK)+ 0.00025 * (Country_USA)"
   ]
  },
  {
   "cell_type": "code",
   "execution_count": 45,
   "metadata": {},
   "outputs": [
    {
     "name": "stdout",
     "output_type": "stream",
     "text": [
      "intercept: -0.0002038638395117495\n",
      "coefficient: [ 1.05993564e-04  3.74296397e-04  2.19173918e-04  1.88501122e-05\n",
      "  8.18097003e-05 -4.74259565e-04 -5.29082145e-05  3.77789866e-04\n",
      "  9.39144404e-04  3.24067560e-04  2.02917379e-04  9.73525532e-05\n",
      "  2.50596174e-04]\n"
     ]
    }
   ],
   "source": [
    "################ EDIT CODE LINES HERE #################\n",
    "print('intercept:', linear_model.intercept_)\n",
    "print('coefficient:', linear_model.coef_)\n",
    "################ EDIT CODE LINES HERE #################"
   ]
  },
  {
   "cell_type": "markdown",
   "metadata": {},
   "source": [
    "<p style=\"color:blue;\"> For the ridge regression, </p>\n",
    "$\\hat{y}$ = -0.000012 + 0.000093 * (realPersInc) + 0.00033 * (unempRate) + 0.00019 * (indProd) + 0.000016 * (retailSales) + 0.000014 * (Country_Denmark) -0.00044 * (Country_France) - 0.00012 * (Country_Germany) + 0.00025 * (Country_Japan) + 0.00072 * (Country_Korea) + 0.00021 * (Country_Luxembourg) + 0.000099 * (Country_Netherlands)+ 0.000020 * (Country_UK)+ 0.00015 * (Country_USA)"
   ]
  },
  {
   "cell_type": "code",
   "execution_count": 46,
   "metadata": {},
   "outputs": [
    {
     "name": "stdout",
     "output_type": "stream",
     "text": [
      "intercept: -0.0001199956896715008\n",
      "coefficient: [ 9.32217522e-05  3.26494582e-04  1.89817546e-04  1.57395382e-05\n",
      "  1.44982390e-05 -4.43385299e-04 -1.21744455e-04  2.52680196e-04\n",
      "  7.24458220e-04  2.08296903e-04  9.93136904e-05  2.04885952e-05\n",
      "  1.52207985e-04]\n"
     ]
    }
   ],
   "source": [
    "################ EDIT CODE LINES HERE #################\n",
    "print('intercept:', ridge_model.intercept_)\n",
    "print('coefficient:', ridge_model.coef_)\n",
    "################ EDIT CODE LINES HERE #################"
   ]
  },
  {
   "cell_type": "markdown",
   "metadata": {},
   "source": [
    "j) What can be don't to improve the Adjusted $R^2$ ?"
   ]
  },
  {
   "cell_type": "markdown",
   "metadata": {},
   "source": [
    "<b style=\"color:blue;\"> Solution: </b>\n",
    "<p style=\"color:blue;\"> \n",
    "1) Experiment non-linear models as opposed to linear ones.<br>\n",
    "2) Increasing sample size. <br>\n",
    "3) Avoid correlated independent variables (which we did in this problem) <br>\n",
    "Other creative, yet reasonable suggestions may also be accepted.\n",
    "</p>"
   ]
  }
 ],
 "metadata": {
  "kernelspec": {
   "display_name": "Python 3",
   "language": "python",
   "name": "python3"
  },
  "language_info": {
   "codemirror_mode": {
    "name": "ipython",
    "version": 3
   },
   "file_extension": ".py",
   "mimetype": "text/x-python",
   "name": "python",
   "nbconvert_exporter": "python",
   "pygments_lexer": "ipython3",
   "version": "3.7.6"
  },
  "toc": {
   "base_numbering": 1,
   "nav_menu": {},
   "number_sections": true,
   "sideBar": true,
   "skip_h1_title": true,
   "title_cell": "Table of Contents",
   "title_sidebar": "Contents",
   "toc_cell": false,
   "toc_position": {},
   "toc_section_display": true,
   "toc_window_display": true
  }
 },
 "nbformat": 4,
 "nbformat_minor": 2
}
