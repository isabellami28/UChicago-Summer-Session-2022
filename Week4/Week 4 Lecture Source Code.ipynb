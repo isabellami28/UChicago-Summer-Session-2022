{
 "cells": [
  {
   "cell_type": "markdown",
   "metadata": {},
   "source": [
    "##### <h1 style=\"color:Green;\">Week 4 Lecture Source Code</h1> "
   ]
  },
  {
   "cell_type": "markdown",
   "metadata": {},
   "source": [
    "<a style=\"color:purple;\" href=\"https://docs.google.com/presentation/d/1_jQKSrS4hiVJaxnFYhRh284AhAbPxI0CL0qAP4Iz-DE/edit#slide=id.p\">[Week 4 Lecture Link Here]</a>"
   ]
  },
  {
   "cell_type": "markdown",
   "metadata": {},
   "source": [
    "<h2 style=\"color:Green;\">Setup and Loading Packages</h2> Setup and Loading Packages"
   ]
  },
  {
   "cell_type": "code",
   "execution_count": 3,
   "metadata": {
    "ExecuteTime": {
     "end_time": "2021-04-16T00:08:32.172640Z",
     "start_time": "2021-04-16T00:08:31.635143Z"
    }
   },
   "outputs": [],
   "source": [
    "%matplotlib inline\n",
    "\n",
    "import numpy as np\n",
    "import pandas as pd\n",
    "\n",
    "import matplotlib.pyplot as plt\n",
    "import seaborn as sns\n",
    "\n",
    "from sklearn.preprocessing import scale\n",
    "from sklearn.model_selection import train_test_split\n",
    "\n",
    "from sklearn.preprocessing import StandardScaler\n",
    "from sklearn.datasets import make_multilabel_classification\n",
    "import pandas_datareader as pdr"
   ]
  },
  {
   "cell_type": "markdown",
   "metadata": {},
   "source": [
    "What is Classification?"
   ]
  },
  {
   "cell_type": "markdown",
   "metadata": {},
   "source": [
    "Classification is a supervised learning concept that uses one or more predictors (features, independent variables) to categorize a set of data into classes. This concept can be applied to solve two-class or multi-class calssification problems, in real-world scenarios such as:\n",
    "\n",
    "• Identifying economic cycles (e.g., expansion, peak, through, recession)\n",
    "\n",
    "• Classifying credit card transactions as legitimate or fraudulent\n",
    "\n",
    "• Classifying market strend structures as uptrend, congestion, downtrend\n",
    "\n",
    "• Categorizing news stories of finance as having positive, neutral, or negative sentiments\n",
    "\n",
    "• Recognizing handwritten checks and digits as one of {A, B, C, …, Z, 0, 1, ... 9}\n",
    "\n",
    "• Assigning trading attributes to their origin of cause (e.g., Greece, UK, Russia)\n",
    "\n",
    "\n",
    "Note that different assumptiosn are made for each classification model."
   ]
  },
  {
   "cell_type": "markdown",
   "metadata": {},
   "source": [
    "<h2 style=\"color:Green;\">Simulated Data (pg. 3)</h2>"
   ]
  },
  {
   "cell_type": "markdown",
   "metadata": {},
   "source": [
    "Let's use the data we processed from last lecture. This contains sector ETFs, XLK (Technology) and IYC (Consumer Discretionary), as well as SPY (S&P 500) directions from 1/25/2018 to 5/31/2022, a total of 1086 trading days."
   ]
  },
  {
   "cell_type": "code",
   "execution_count": 31,
   "metadata": {},
   "outputs": [
    {
     "name": "stdout",
     "output_type": "stream",
     "text": [
      "<class 'pandas.core.frame.DataFrame'>\n",
      "RangeIndex: 1086 entries, 0 to 1085\n",
      "Data columns (total 4 columns):\n",
      " #   Column  Non-Null Count  Dtype  \n",
      "---  ------  --------------  -----  \n",
      " 0   Date    1086 non-null   object \n",
      " 1   SPY     1086 non-null   int64  \n",
      " 2   XLK     1086 non-null   float64\n",
      " 3   IYC     1086 non-null   float64\n",
      "dtypes: float64(2), int64(1), object(1)\n",
      "memory usage: 34.1+ KB\n"
     ]
    }
   ],
   "source": [
    "df = pd.read_csv('SPY_XLK_IYC.csv')\n",
    "df.info()"
   ]
  },
  {
   "cell_type": "code",
   "execution_count": 34,
   "metadata": {},
   "outputs": [
    {
     "data": {
      "image/png": "[encoded data removed]",
      "text/plain": [
       "<Figure size 432x288 with 1 Axes>"
      ]
     },
     "metadata": {
      "needs_background": "light"
     },
     "output_type": "display_data"
    }
   ],
   "source": [
    "plt.scatter(df.XLK[df.SPY == 1],\n",
    "            df.IYC[df.SPY == 1],\n",
    "           color='green',\n",
    "           label='Up')\n",
    "plt.scatter(df.XLK[df.SPY == 0],\n",
    "            df.IYC[df.SPY == 0],\n",
    "           color='red',\n",
    "           label='Down')\n",
    "plt.title('SPY Directional Classes by XLK and IYC Log Returns')\n",
    "plt.xlabel('XLK')\n",
    "plt.ylabel('IYC')\n",
    "plt.legend()\n",
    "plt.show()"
   ]
  },
  {
   "cell_type": "markdown",
   "metadata": {},
   "source": [
    "From the scatter plot, besides a fairly strong linear relationship, we can see that the data points are divided into red and green colors, green representing an upward direction in SPY and red represeneting a downward direction in SPY. One of the most popular problems in quantitative finance is to find a classifier (model) that most-accurately separates the data points that indicates and upward directional from those that indicate a downward move. Through this model, we will be able to predict under any given conditions of XLK and IYC log returns, which direction would SPY be expected to move in the next trading day. "
   ]
  },
  {
   "cell_type": "code",
   "execution_count": null,
   "metadata": {},
   "outputs": [],
   "source": []
  },
  {
   "cell_type": "code",
   "execution_count": null,
   "metadata": {},
   "outputs": [],
   "source": []
  },
  {
   "cell_type": "code",
   "execution_count": null,
   "metadata": {},
   "outputs": [],
   "source": []
  },
  {
   "cell_type": "code",
   "execution_count": null,
   "metadata": {},
   "outputs": [],
   "source": []
  },
  {
   "cell_type": "code",
   "execution_count": null,
   "metadata": {},
   "outputs": [],
   "source": []
  }
 ],
 "metadata": {
  "kernelspec": {
   "display_name": "Python 3",
   "language": "python",
   "name": "python3"
  },
  "language_info": {
   "codemirror_mode": {
    "name": "ipython",
    "version": 3
   },
   "file_extension": ".py",
   "mimetype": "text/x-python",
   "name": "python",
   "nbconvert_exporter": "python",
   "pygments_lexer": "ipython3",
   "version": "3.7.6"
  },
  "toc": {
   "base_numbering": 1,
   "nav_menu": {},
   "number_sections": true,
   "sideBar": true,
   "skip_h1_title": true,
   "title_cell": "Table of Contents",
   "title_sidebar": "Contents",
   "toc_cell": false,
   "toc_position": {},
   "toc_section_display": true,
   "toc_window_display": true
  }
 },
 "nbformat": 4,
 "nbformat_minor": 2
}
