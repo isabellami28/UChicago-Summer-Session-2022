{
 "cells": [
  {
   "cell_type": "markdown",
   "metadata": {},
   "source": [
    "<h1 style=\"color:Green;\">Week 5 Lab (Optional) - due by 7th August, 2022 (11:59 pm CST )</h1> "
   ]
  },
  {
   "cell_type": "markdown",
   "metadata": {},
   "source": [
    "<a style=\"color:purple;\" href=\"https://docs.google.com/presentation/d/19Obcx1-CXj9NM-W656BXElaxcn29jy2w1v3hzoSi3Rg/edit\">[Week 5 Lecture Link Here]</a>"
   ]
  },
  {
   "cell_type": "markdown",
   "metadata": {},
   "source": [
    "<h2 style=\"color:Green;\">Setup and Loading Packages</h2> Setup and Loading Packages"
   ]
  },
  {
   "cell_type": "code",
   "execution_count": 3,
   "metadata": {
    "ExecuteTime": {
     "end_time": "2021-04-16T00:08:32.172640Z",
     "start_time": "2021-04-16T00:08:31.635143Z"
    }
   },
   "outputs": [],
   "source": [
    "%matplotlib inline\n",
    "import numpy as np\n",
    "import pandas as pd\n",
    "from matplotlib import pyplot as plt\n",
    "import seaborn as sns\n",
    "import scipy.stats as stats\n",
    "from datetime import datetime, timedelta\n",
    "from sklearn.preprocessing import scale\n",
    "from matplotlib.ticker import FuncFormatter\n",
    "import pandas_datareader as pdr"
   ]
  },
  {
   "cell_type": "markdown",
   "metadata": {},
   "source": [
    "<h2 style=\"color:Green;\">Problem 1: Trials of Flipping Coins</h2><br/>\n",
    "Suppose that you tossed an unbiased coin 50 times, and got 20 heads and 30 tails. <br/>\n",
    "Let $x_{1}, x_{2}, ..., x_{50}$ be the outcomes of the coinflips and $\\theta$ be the probability of getting heads, <br/>\n",
    "Since the coin is unbiased, it is reasonable to assume a prior $\\theta \\sim$ Uniform(0,1). <br/>\n",
    "You use a multiple-trial Bernoulli as a likelihood, meaning $x_{i} \\mid \\theta \\sim$ Bernoulli($\\theta$), $i\\in\\{1,2,...,50\\}$."
   ]
  },
  {
   "cell_type": "markdown",
   "metadata": {},
   "source": [
    "a) Please name the posterior distribuition of of this experiment in the following markdown chunk. In other words, find the distribution for $\\theta \\mid x_{1}, x_{2},...,x_{50}$ Make sure the following chunk is set to 'Markdown' from the dropdown above."
   ]
  },
  {
   "cell_type": "markdown",
   "metadata": {},
   "source": [
    "[Write your code here]"
   ]
  },
  {
   "cell_type": "markdown",
   "metadata": {},
   "source": [
    "b) Please write a piece of code to graph the posterior distribution you specified in a). Make sure the following chunk is set to 'Code' from the dropdown above."
   ]
  },
  {
   "cell_type": "code",
   "execution_count": null,
   "metadata": {},
   "outputs": [],
   "source": [
    "################ EDIT CODE LINES HERE (Optional) #################\n",
    "\n",
    "\n",
    "\n",
    "\n",
    "\n",
    "\n",
    "################################################################"
   ]
  },
  {
   "cell_type": "markdown",
   "metadata": {},
   "source": [
    "<h2 style=\"color:Green;\">Problem 2: Selecting Asset Pairs with Hedge Ratio</h2>"
   ]
  },
  {
   "cell_type": "markdown",
   "metadata": {},
   "source": [
    "Seeing the impactful work that you are doing, a portfolio manager approaches you and asks for your recommendation of two assets with a positive hedge ratio to add to his portfolio. Notice that any two assets can be selected, and not just stocks. For example, cryptocurrency and foreign exchange instruments can be suggested as well. Some relatively new cryptocurrencies (e.g., Solana, USD Coin) only have complete data dating back to three or four years ago, so setting the duration of data further back than these dates may result in inaccurate representation of their relationships. (Hint: remember that hedge ratio is equivalent to the regression coefficient)"
   ]
  },
  {
   "cell_type": "markdown",
   "metadata": {},
   "source": [
    "a) Please specify your asset tickers and their data duration here. Why did you select the two assets?"
   ]
  },
  {
   "cell_type": "code",
   "execution_count": 50,
   "metadata": {},
   "outputs": [],
   "source": [
    "################ EDIT CODE LINES HERE #################\n",
    "\n",
    "PAIR = ['',''] # Enter the two assets' symbols here\n",
    "TAU =          # duration span (in years) of observed data\n",
    "\n",
    "####################################################"
   ]
  },
  {
   "cell_type": "markdown",
   "metadata": {},
   "source": [
    "Feel free to change up the asset pair as many times as you need, then re-run the following code chunks to test the hedge ratios between different pairs of assets. Stop until you find one that has a positive hedge ratio. (Hint: you don't have to calculate the exact hedge ratio, just use the scatter plot as help)\n",
    "<p style=\"color:red;\">PLEASE DO NOT CHANGE THIS CODE CHUNK!!!</p>"
   ]
  },
  {
   "cell_type": "code",
   "execution_count": null,
   "metadata": {},
   "outputs": [],
   "source": [
    "START_DATE = (datetime.today() - timedelta(days = TAU * 365)).strftime('%Y-%m-%d') # data start date\n",
    "END_DATE = datetime.today().strftime('%Y-%m-%d') # data end date\n",
    "assetPx = pdr.DataReader(PAIR, 'yahoo', START_DATE, END_DATE)['Adj Close'] # retreiving asset price data from yahoo finance\n",
    "# converting prices to log returns and removing NaN values\n",
    "assetLogRet = np.log(assetPx).diff().dropna()\n",
    "# Visualizing scatter plot (with simple regression line) to demonstrate the relaaaationship between the asset pairs\n",
    "fig, axes= plt.subplots(figsize=(8,4), ncols=1)\n",
    "points = axes.scatter(assetLogRet[PAIR[0]],\n",
    "                         assetLogRet[PAIR[1]],\n",
    "                         c=np.linspace(0.1, 1, len(assetLogRet)), \n",
    "                         s=15, \n",
    "                         cmap='winter')\n",
    "cbar = plt.colorbar(points)\n",
    "cbar.ax.set_yticklabels([str(p.year) for p in assetLogRet[::len(assetLogRet)//10].index]);\n",
    "sns.regplot(x=PAIR[0], y=PAIR[1], \n",
    "            data=assetLogRet, \n",
    "            scatter=False, \n",
    "            color='k',\n",
    "            line_kws={'lw':1, \n",
    "                      'ls':'--'})"
   ]
  },
  {
   "cell_type": "markdown",
   "metadata": {},
   "source": [
    "b) Please describe the hedge ratio between the two assets (i.e., are their strong, moderate, or weak?)"
   ]
  },
  {
   "cell_type": "markdown",
   "metadata": {},
   "source": [
    "[Write your answer here]"
   ]
  }
 ],
 "metadata": {
  "kernelspec": {
   "display_name": "Python 3",
   "language": "python",
   "name": "python3"
  },
  "language_info": {
   "codemirror_mode": {
    "name": "ipython",
    "version": 3
   },
   "file_extension": ".py",
   "mimetype": "text/x-python",
   "name": "python",
   "nbconvert_exporter": "python",
   "pygments_lexer": "ipython3",
   "version": "3.7.6"
  },
  "toc": {
   "base_numbering": 1,
   "nav_menu": {},
   "number_sections": true,
   "sideBar": true,
   "skip_h1_title": true,
   "title_cell": "Table of Contents",
   "title_sidebar": "Contents",
   "toc_cell": false,
   "toc_position": {},
   "toc_section_display": true,
   "toc_window_display": true
  }
 },
 "nbformat": 4,
 "nbformat_minor": 2
}
