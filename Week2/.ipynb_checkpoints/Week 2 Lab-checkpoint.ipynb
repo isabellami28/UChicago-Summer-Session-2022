{
 "cells": [
  {
   "cell_type": "markdown",
   "metadata": {},
   "source": [
    "<h1 style=\"color:Green;\">Week 2 Lab</h1> "
   ]
  },
  {
   "cell_type": "markdown",
   "metadata": {},
   "source": [
    "<a style=\"color:purple;\" href=\"https://docs.google.com/presentation/d/19Obcx1-CXj9NM-W656BXElaxcn29jy2w1v3hzoSi3Rg/edit\">[Week 2 Lecture Link Here]</a>"
   ]
  },
  {
   "cell_type": "markdown",
   "metadata": {},
   "source": [
    "<h2 style=\"color:Green;\">Setup and Loading Packages</h2> Setup and Loading Packages"
   ]
  },
  {
   "cell_type": "code",
   "execution_count": 3,
   "metadata": {
    "ExecuteTime": {
     "end_time": "2021-04-16T00:08:32.172640Z",
     "start_time": "2021-04-16T00:08:31.635143Z"
    }
   },
   "outputs": [],
   "source": [
    "%matplotlib inline\n",
    "import numpy as np\n",
    "import pandas as pd\n",
    "from matplotlib import pyplot as plt\n",
    "import seaborn as sns\n",
    "import scipy.stats as stats\n",
    "from datetime import datetime, timedelta\n",
    "from sklearn.preprocessing import scale\n",
    "from matplotlib.ticker import FuncFormatter\n",
    "import pandas_datareader as pdr"
   ]
  },
  {
   "cell_type": "markdown",
   "metadata": {},
   "source": [
    "<h2 style=\"color:Green;\">Question 1: Trials of Flipping Coins</h2><br/>\n",
    "Suppose that you tossed an unbiased coin 50 times, and got 20 heads and 30 tails. <br/>\n",
    "Let $x_{1}, x_{2}, ..., x_{50}$ be the outcomes of the coinflips and $\\theta$ be the probability of getting heads, <br/>\n",
    "Since the coin is unbiased, it is reasonable to assume a prior $\\theta \\sim$ Uniform(0,1). <br/>\n",
    "You use a multiple-trial Bernoulli as a likelihood, meaning $x_{i} \\mid \\theta \\sim$ Bernoulli($\\theta$), $i\\in\\{1,2,...,50\\}$."
   ]
  },
  {
   "cell_type": "markdown",
   "metadata": {},
   "source": [
    "a) Please name the posterior distribuition of of this experiment in the following markdown chunk. In other words, find the distribution for $\\theta \\mid x_{1}, x_{2},...,x_{50}$ Make sure the following chunk is set to 'Markdown' from the dropdown above."
   ]
  },
  {
   "cell_type": "markdown",
   "metadata": {},
   "source": [
    "[Write your answer here]"
   ]
  },
  {
   "cell_type": "markdown",
   "metadata": {},
   "source": [
    "b) Please write a piece of code to graph the posterior distribution you specified in a). Make sure the following chunk is set to 'Code' from the dropdown above."
   ]
  },
  {
   "cell_type": "code",
   "execution_count": null,
   "metadata": {},
   "outputs": [],
   "source": [
    "[Write your code here]"
   ]
  },
  {
   "cell_type": "markdown",
   "metadata": {},
   "source": [
    "<h2 style=\"color:Green;\">Question 2: Imbalanced Labels for Stock Directions</h2><br/>"
   ]
  },
  {
   "cell_type": "markdown",
   "metadata": {},
   "source": [
    "Imbalanced classification is a classification predictive modeling problem where the distribution of examples across the classes is not equal. For example, we may collect measurements of cats and have 80 samples of one cat species and 20 samples of a second cat species. This represents an example of an imbalanced classification problem. A 50-50 or a near-50-50 sample species would form a balanced classification problem.<br/>\n",
    "\n",
    "As a quantitative analyst, you are curious as to how a stock direction behave throughout a certian period. You want to investigate any label-imbalance problems before diving into actual modeling. <br/>\n",
    "\n",
    "Please read this blog before jumping into this question: https://machinelearningmastery.com/what-is-imbalanced-classification/"
   ]
  },
  {
   "cell_type": "markdown",
   "metadata": {},
   "source": [
    "a) Go ahead and select a stock, then specify its ticker and the duration of the it's price data you want to explore."
   ]
  },
  {
   "cell_type": "code",
   "execution_count": 29,
   "metadata": {},
   "outputs": [],
   "source": [
    "SYMBOL = '' # Enter stock ticker symbol\n",
    "TAU =   # duration span (in years) of observed data"
   ]
  },
  {
   "cell_type": "markdown",
   "metadata": {},
   "source": [
    "Run the following code chunk. This will binarize the returns for the asset over the period you specified above. In other words, the asset's price will be transformed into 0's and 1's - 0 if price did not go up, 1 if price went up. A plot is produced to show the label distribution. For instance, there should be one column showing how many days the stock goes up and another showing how many days the stock goes down.<br/>\n",
    "\n",
    "<p style=\"color:red;\">PLEASE DO NOT CHANGE THIS CODE !!!</p>"
   ]
  },
  {
   "cell_type": "code",
   "execution_count": 30,
   "metadata": {},
   "outputs": [
    {
     "data": {
      "image/png": "[encoded data removed]",
      "text/plain": [
       "<Figure size 432x288 with 1 Axes>"
      ]
     },
     "metadata": {
      "needs_background": "light"
     },
     "output_type": "display_data"
    }
   ],
   "source": [
    "START_DATE = (datetime.today() - timedelta(days = TAU * 365)).strftime('%Y-%m-%d') # data start date\n",
    "END_DATE = datetime.today().strftime('%Y-%m-%d') # data end date\n",
    "stockPx = pdr.get_data_yahoo(SYMBOL, START_DATE, END_DATE)['Adj Close'] # storing adjusted stock prices into a variable \n",
    "stockPx01 = pd.DataFrame((stockPx.pct_change().dropna() > 0).astype(int))\n",
    "# visualize class distribution\n",
    "ax = sns.countplot(x='Adj Close', data=stockPx01)\n",
    "plt.title('Directional (Up/Down) Distribution')\n",
    "plt.xlabel(SYMBOL + ' Direction')\n",
    "plt.ylabel('Count')\n",
    "total = len(stockPx01['Adj Close'])\n",
    "for p in ax.patches:\n",
    "        percentage = '{:.2f}%'.format(100 * p.get_height()/total)\n",
    "        x_coord = p.get_x() \n",
    "        y_coord = p.get_y() + p.get_height()+0.02\n",
    "        ax.annotate(percentage, (x_coord, y_coord))"
   ]
  },
  {
   "cell_type": "markdown",
   "metadata": {},
   "source": [
    "Are the lables balanced or imbalanced? <br/>"
   ]
  },
  {
   "cell_type": "markdown",
   "metadata": {},
   "source": [
    "[Write your answer here]"
   ]
  },
  {
   "cell_type": "markdown",
   "metadata": {},
   "source": [
    "c) How do you think they can affect our prediction? (Hint: think about what the training data will look like)"
   ]
  },
  {
   "cell_type": "markdown",
   "metadata": {},
   "source": [
    "[Write your answer here]"
   ]
  },
  {
   "cell_type": "markdown",
   "metadata": {},
   "source": [
    "d) Please suggest one way to handle imbalanced data? (Hint: think about ways to re-balance the labels, or ask google)"
   ]
  },
  {
   "cell_type": "markdown",
   "metadata": {},
   "source": [
    "[Write your answer here]"
   ]
  },
  {
   "cell_type": "markdown",
   "metadata": {},
   "source": [
    "<h2 style=\"color:Green;\">Question 3: Selecting Asset Pairs with Hedge Ratio</h2>"
   ]
  },
  {
   "cell_type": "markdown",
   "metadata": {},
   "source": [
    "Seeing the impactful work that you are doing, a portfolio manager approaches you and asks for your recommendation of two assets with a positive hedge ratio to add to his portfolio. Notice that any two assets can be selected, and not just stocks. For example, cryptocurrency and foreign exchange instruments can be suggested as well. Some relatively new cryptocurrencies (e.g., Solana, USD Coin) only have complete data dating back to three or four years ago, so setting the duration of data further back than these dates may result in inaccurate representation of their relationships. (Hint: remember that hedge ratio is equivalent to the regression coefficient)"
   ]
  },
  {
   "cell_type": "markdown",
   "metadata": {},
   "source": [
    "a) Please specify your asset tickers and their data duration here. "
   ]
  },
  {
   "cell_type": "code",
   "execution_count": 50,
   "metadata": {},
   "outputs": [],
   "source": [
    "PAIR = ['',''] # Enter the two stock symbols here\n",
    "TAU =          # duration span (in years) of observed data"
   ]
  },
  {
   "cell_type": "markdown",
   "metadata": {},
   "source": [
    "Feel free to change up the asset pair as many times as you need, then re-run the following code chunks to test the hedge ratios between different pairs of assets. Stop until you find one that has positive hedge ratio. (Hint: you don't have to calculate the exact hedge ratio, just use the scatter plot as help)\n",
    "<p style=\"color:red;\">PLEASE DO NOT CHANGE THIS CODE !!!</p>"
   ]
  },
  {
   "cell_type": "code",
   "execution_count": 52,
   "metadata": {},
   "outputs": [
    {
     "name": "stderr",
     "output_type": "stream",
     "text": [
      "C:\\Users\\user\\anaconda3\\lib\\site-packages\\ipykernel_launcher.py:14: UserWarning: FixedFormatter should only be used together with FixedLocator\n",
      "  \n"
     ]
    },
    {
     "data": {
      "text/plain": [
       "<AxesSubplot:xlabel='JPY=X', ylabel='USDC-USD'>"
      ]
     },
     "execution_count": 52,
     "metadata": {},
     "output_type": "execute_result"
    },
    {
     "data": {
      "image/png": "[encoded data removed]",
      "text/plain": [
       "<Figure size 576x288 with 2 Axes>"
      ]
     },
     "metadata": {
      "needs_background": "light"
     },
     "output_type": "display_data"
    }
   ],
   "source": [
    "START_DATE = (datetime.today() - timedelta(days = TAU * 365)).strftime('%Y-%m-%d') # data start date\n",
    "END_DATE = datetime.today().strftime('%Y-%m-%d') # data end date\n",
    "assetPx = pdr.DataReader(PAIR, 'yahoo', START_DATE, END_DATE)['Adj Close'] # retreiving asset price data from yahoo finance\n",
    "# converting prices to log returns and removing NaN values\n",
    "assetLogRet = np.log(assetPx).diff().dropna()\n",
    "# Visualizing scatter plot (with simple regression line) to demonstrate the relaaaationship between the asset pairs\n",
    "fig, axes= plt.subplots(figsize=(8,4), ncols=1)\n",
    "points = axes.scatter(assetLogRet[PAIR[0]],\n",
    "                         assetLogRet[PAIR[1]],\n",
    "                         c=np.linspace(0.1, 1, len(assetLogRet)), \n",
    "                         s=15, \n",
    "                         cmap='winter')\n",
    "cbar = plt.colorbar(points)\n",
    "cbar.ax.set_yticklabels([str(p.year) for p in assetLogRet[::len(assetLogRet)//10].index]);\n",
    "sns.regplot(x=PAIR[0], y=PAIR[1], \n",
    "            data=assetLogRet, \n",
    "            scatter=False, \n",
    "            color='k',\n",
    "            line_kws={'lw':1, \n",
    "                      'ls':'--'})"
   ]
  },
  {
   "cell_type": "markdown",
   "metadata": {},
   "source": [
    "b) Why did you select the two assets above? Please describe the hedge ratio between the two assets (i.e., are their strong or weak?)"
   ]
  },
  {
   "cell_type": "markdown",
   "metadata": {},
   "source": [
    "[Write your answer here]"
   ]
  }
 ],
 "metadata": {
  "kernelspec": {
   "display_name": "Python 3",
   "language": "python",
   "name": "python3"
  },
  "language_info": {
   "codemirror_mode": {
    "name": "ipython",
    "version": 3
   },
   "file_extension": ".py",
   "mimetype": "text/x-python",
   "name": "python",
   "nbconvert_exporter": "python",
   "pygments_lexer": "ipython3",
   "version": "3.7.6"
  },
  "toc": {
   "base_numbering": 1,
   "nav_menu": {},
   "number_sections": true,
   "sideBar": true,
   "skip_h1_title": true,
   "title_cell": "Table of Contents",
   "title_sidebar": "Contents",
   "toc_cell": false,
   "toc_position": {},
   "toc_section_display": true,
   "toc_window_display": true
  }
 },
 "nbformat": 4,
 "nbformat_minor": 2
}
