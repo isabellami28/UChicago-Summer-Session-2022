{
 "cells": [
  {
   "cell_type": "markdown",
   "metadata": {},
   "source": [
    "<h1 style=\"color:Green;\">Week 2 Lab</h1> "
   ]
  },
  {
   "cell_type": "markdown",
   "metadata": {},
   "source": [
    "<a style=\"color:purple;\" href=\"https://docs.google.com/presentation/d/1IsoKGNILvIqfo_yzBJYTCIf9qg4YysTIOFrJix6jYDI/edit#slide=id.g11b032e97d3_0_0\">[Week 2 Lecture Link Here]</a>"
   ]
  },
  {
   "cell_type": "markdown",
   "metadata": {},
   "source": [
    "<h2 style=\"color:Green;\">Setup and Loading Packages</h2> Setup and Loading Packages"
   ]
  },
  {
   "cell_type": "code",
   "execution_count": 2,
   "metadata": {
    "ExecuteTime": {
     "end_time": "2021-04-16T00:08:32.172640Z",
     "start_time": "2021-04-16T00:08:31.635143Z"
    }
   },
   "outputs": [],
   "source": [
    "%matplotlib inline\n",
    "import numpy as np\n",
    "import pandas as pd\n",
    "from matplotlib import pyplot as plt\n",
    "import seaborn as sns\n",
    "import scipy.stats as stats\n",
    "from datetime import datetime, timedelta\n",
    "from sklearn.preprocessing import scale\n",
    "from matplotlib.ticker import FuncFormatter\n",
    "import pandas_datareader as pdr"
   ]
  },
  {
   "cell_type": "markdown",
   "metadata": {},
   "source": [
    "<h2 style=\"color:Green;\">Question 1: Exploring Sector ETFs</h2><br/>"
   ]
  },
  {
   "cell_type": "markdown",
   "metadata": {},
   "source": [
    "Suppose that an analyst would like to invest in a sector "
   ]
  },
  {
   "cell_type": "code",
   "execution_count": 3,
   "metadata": {},
   "outputs": [
    {
     "data": {
      "text/html": [
       "<div>\n",
       "<style scoped>\n",
       "    .dataframe tbody tr th:only-of-type {\n",
       "        vertical-align: middle;\n",
       "    }\n",
       "\n",
       "    .dataframe tbody tr th {\n",
       "        vertical-align: top;\n",
       "    }\n",
       "\n",
       "    .dataframe thead th {\n",
       "        text-align: right;\n",
       "    }\n",
       "</style>\n",
       "<table border=\"1\" class=\"dataframe\">\n",
       "  <thead>\n",
       "    <tr style=\"text-align: right;\">\n",
       "      <th></th>\n",
       "      <th>mean</th>\n",
       "      <th>sd</th>\n",
       "      <th>skewness</th>\n",
       "      <th>excess kurtosis</th>\n",
       "    </tr>\n",
       "    <tr>\n",
       "      <th>Symbols</th>\n",
       "      <th></th>\n",
       "      <th></th>\n",
       "      <th></th>\n",
       "      <th></th>\n",
       "    </tr>\n",
       "  </thead>\n",
       "  <tbody>\n",
       "    <tr>\n",
       "      <th>XLV</th>\n",
       "      <td>0.000507</td>\n",
       "      <td>0.012507</td>\n",
       "      <td>-0.440490</td>\n",
       "      <td>11.389598</td>\n",
       "    </tr>\n",
       "    <tr>\n",
       "      <th>XLU</th>\n",
       "      <td>0.000479</td>\n",
       "      <td>0.014530</td>\n",
       "      <td>-0.230215</td>\n",
       "      <td>18.618983</td>\n",
       "    </tr>\n",
       "    <tr>\n",
       "      <th>XLP</th>\n",
       "      <td>0.000515</td>\n",
       "      <td>0.011093</td>\n",
       "      <td>-0.390271</td>\n",
       "      <td>17.225999</td>\n",
       "    </tr>\n",
       "    <tr>\n",
       "      <th>XLB</th>\n",
       "      <td>0.000472</td>\n",
       "      <td>0.015593</td>\n",
       "      <td>-0.661276</td>\n",
       "      <td>10.833710</td>\n",
       "    </tr>\n",
       "    <tr>\n",
       "      <th>XLF</th>\n",
       "      <td>0.000337</td>\n",
       "      <td>0.017692</td>\n",
       "      <td>-0.640619</td>\n",
       "      <td>14.234887</td>\n",
       "    </tr>\n",
       "    <tr>\n",
       "      <th>XLE</th>\n",
       "      <td>0.000257</td>\n",
       "      <td>0.023936</td>\n",
       "      <td>-0.959742</td>\n",
       "      <td>14.803473</td>\n",
       "    </tr>\n",
       "    <tr>\n",
       "      <th>XLRE</th>\n",
       "      <td>0.000513</td>\n",
       "      <td>0.015499</td>\n",
       "      <td>-1.564739</td>\n",
       "      <td>22.357210</td>\n",
       "    </tr>\n",
       "    <tr>\n",
       "      <th>XLK</th>\n",
       "      <td>0.000763</td>\n",
       "      <td>0.017573</td>\n",
       "      <td>-0.579404</td>\n",
       "      <td>10.160101</td>\n",
       "    </tr>\n",
       "    <tr>\n",
       "      <th>XLY</th>\n",
       "      <td>0.000438</td>\n",
       "      <td>0.015341</td>\n",
       "      <td>-1.042057</td>\n",
       "      <td>11.425446</td>\n",
       "    </tr>\n",
       "    <tr>\n",
       "      <th>XLI</th>\n",
       "      <td>0.000350</td>\n",
       "      <td>0.015632</td>\n",
       "      <td>-0.670062</td>\n",
       "      <td>13.067386</td>\n",
       "    </tr>\n",
       "    <tr>\n",
       "      <th>XLC</th>\n",
       "      <td>0.000240</td>\n",
       "      <td>0.015149</td>\n",
       "      <td>-0.797124</td>\n",
       "      <td>8.489250</td>\n",
       "    </tr>\n",
       "  </tbody>\n",
       "</table>\n",
       "</div>"
      ],
      "text/plain": [
       "             mean        sd  skewness  excess kurtosis\n",
       "Symbols                                               \n",
       "XLV      0.000507  0.012507 -0.440490        11.389598\n",
       "XLU      0.000479  0.014530 -0.230215        18.618983\n",
       "XLP      0.000515  0.011093 -0.390271        17.225999\n",
       "XLB      0.000472  0.015593 -0.661276        10.833710\n",
       "XLF      0.000337  0.017692 -0.640619        14.234887\n",
       "XLE      0.000257  0.023936 -0.959742        14.803473\n",
       "XLRE     0.000513  0.015499 -1.564739        22.357210\n",
       "XLK      0.000763  0.017573 -0.579404        10.160101\n",
       "XLY      0.000438  0.015341 -1.042057        11.425446\n",
       "XLI      0.000350  0.015632 -0.670062        13.067386\n",
       "XLC      0.000240  0.015149 -0.797124         8.489250"
      ]
     },
     "execution_count": 3,
     "metadata": {},
     "output_type": "execute_result"
    }
   ],
   "source": [
    "ETF_SYMBOLS = ['XLV','XLU','XLP','XLB','XLF','XLE','XLRE','XLK','XLY','XLI','XLC'] # Enter the two ticker symbols here\n",
    "TAU = 5         # Enter duration of data you want from Yahoo Finance\n",
    "START_DATE = (datetime.today() - timedelta(days = TAU * 365)).strftime('%Y-%m-%d') # data start date\n",
    "END_DATE = datetime.today().strftime('%Y-%m-%d') # data end date\n",
    "etfPxList = pdr.DataReader(ETF_SYMBOLS, 'yahoo', START_DATE, END_DATE)['Adj Close'] # retreiving asset price data from yahoo finance\n",
    "# converting prices to log returns and removing NaN values\n",
    "etfLogRetList = np.log(etfPxList).diff().dropna()\n",
    "sum_stats = pd.DataFrame({'mean':etfLogRetList.mean(), 'sd': etfLogRetList.std(), 'skewness':etfLogRetList.skew(), 'excess kurtosis':etfLogRetList.kurtosis()})\n",
    "sum_stats "
   ]
  },
  {
   "cell_type": "markdown",
   "metadata": {},
   "source": [
    "a) Based on the summary statistics of the ETF's log returns, which ETF would you recommend if the analyst's objective is to maximize return with minimized risk? (Hint: consider reward-to-risk ratio like the Sharpe Ratio to make a decision)"
   ]
  },
  {
   "cell_type": "markdown",
   "metadata": {},
   "source": [
    "[Write your answer here]"
   ]
  }
 ],
 "metadata": {
  "kernelspec": {
   "display_name": "Python 3",
   "language": "python",
   "name": "python3"
  },
  "language_info": {
   "codemirror_mode": {
    "name": "ipython",
    "version": 3
   },
   "file_extension": ".py",
   "mimetype": "text/x-python",
   "name": "python",
   "nbconvert_exporter": "python",
   "pygments_lexer": "ipython3",
   "version": "3.7.6"
  },
  "toc": {
   "base_numbering": 1,
   "nav_menu": {},
   "number_sections": true,
   "sideBar": true,
   "skip_h1_title": true,
   "title_cell": "Table of Contents",
   "title_sidebar": "Contents",
   "toc_cell": false,
   "toc_position": {},
   "toc_section_display": true,
   "toc_window_display": true
  }
 },
 "nbformat": 4,
 "nbformat_minor": 2
}
