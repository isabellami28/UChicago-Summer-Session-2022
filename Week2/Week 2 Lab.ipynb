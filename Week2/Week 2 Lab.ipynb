{
 "cells": [
  {
   "cell_type": "markdown",
   "metadata": {},
   "source": [
    "<h1 style=\"color:Green;\">Week 2 Lab - due by 17th July, 2022 (11:59 pm CST )</h1> "
   ]
  },
  {
   "cell_type": "markdown",
   "metadata": {},
   "source": [
    "<a style=\"color:purple;\" href=\"https://docs.google.com/presentation/d/1IsoKGNILvIqfo_yzBJYTCIf9qg4YysTIOFrJix6jYDI/edit#slide=id.g11b032e97d3_0_0\">[Week 2 Lecture Link Here]</a>"
   ]
  },
  {
   "cell_type": "markdown",
   "metadata": {},
   "source": [
    "<h2 style=\"color:black;\"> Objective: to practice portfolio hedging and risk management</h2> "
   ]
  },
  {
   "cell_type": "markdown",
   "metadata": {},
   "source": [
    "<h2 style=\"color:Green;\">Setup and Loading Packages</h2> Setup and Loading Packages"
   ]
  },
  {
   "cell_type": "code",
   "execution_count": 4,
   "metadata": {
    "ExecuteTime": {
     "end_time": "2021-04-16T00:08:32.172640Z",
     "start_time": "2021-04-16T00:08:31.635143Z"
    }
   },
   "outputs": [],
   "source": [
    "%matplotlib inline\n",
    "import numpy as np\n",
    "import pandas as pd\n",
    "from matplotlib import pyplot as plt\n",
    "import seaborn as sns\n",
    "import scipy.stats as stats\n",
    "from datetime import datetime, timedelta\n",
    "from sklearn.preprocessing import scale\n",
    "from matplotlib.ticker import FuncFormatter\n",
    "from scipy.stats import t, laplace, expon, uniform, norm\n",
    "import statsmodels.api as sm\n",
    "import random\n",
    "import pandas_datareader as pdr"
   ]
  },
  {
   "cell_type": "markdown",
   "metadata": {},
   "source": [
    "<h2 style=\"color:Green;\">Problem 1: Exploring Sector ETFs</h2><br/>"
   ]
  },
  {
   "cell_type": "markdown",
   "metadata": {},
   "source": [
    "A sector exchange-traded fund (ETF) is a pooled investment vehicle that invests specifically in the stocks and securities of a particular industry or sector, typically identified in the fund's title. For instance, a sector ETF may track a representative basket of stocks from a specific economic sector.<br>\n",
    "<br>\n",
    "Here is the list of sector ETFs:\n",
    "<ul>\n",
    "  <li>Healthcare: XLV</li>\n",
    "  <li>Utilities: XLU</li>\n",
    "  <li>Consumer Staples: XLP</li>\n",
    "  <li>Materials: XLB</li>\n",
    "  <li>Financials: XLF</li>\n",
    "  <li>Energy: XLE</li>\n",
    "  <li>Real Estate: XLRE</li>\n",
    "  <li>Information Technology: XLK</li>\n",
    "  <li>Consumer Discretionary: XLY</li>\n",
    "  <li>Communication Services: XLC</li>\n",
    "  <li>Industrials: XLI</li>\n",
    "</ul>\n",
    "\n",
    "Suppose that a portfolio manager is interested in concentrating the clients' assets in two sector ETFs. You, as a quantitative analyst generated the summary statistics table below to help with the manager's decision.\n",
    "<p style=\"color:red;\">PLEASE DO NOT CHANGE THIS CODE !!!</p>"
   ]
  },
  {
   "cell_type": "code",
   "execution_count": null,
   "metadata": {},
   "outputs": [],
   "source": [
    "ETF_SYMBOLS = ['XLV','XLU','XLP','XLB','XLF','XLE','XLRE','XLK','XLY','XLI','XLC'] # Enter the ticker symbols here\n",
    "TAU = 5         # Enter duration of data you want from Yahoo Finance\n",
    "START_DATE = (datetime.today() - timedelta(days = TAU * 365)).strftime('%Y-%m-%d') # data start date\n",
    "END_DATE = datetime.today().strftime('%Y-%m-%d') # data end date\n",
    "etfPxList = pdr.DataReader(ETF_SYMBOLS, 'yahoo', START_DATE, END_DATE)['Adj Close'] # retreiving asset price data from yahoo finance\n",
    "# converting prices to log returns and removing NaN values\n",
    "etfLogRetList = np.log(etfPxList).diff().dropna()\n",
    "sum_stats = pd.DataFrame({'mean':etfLogRetList.mean(), 'sd': etfLogRetList.std(), 'skewness':etfLogRetList.skew(), 'excess kurtosis':etfLogRetList.kurtosis()})\n",
    "sum_stats"
   ]
  },
  {
   "cell_type": "markdown",
   "metadata": {},
   "source": [
    "a) Based on the summary statistics of the ETF's log returns, which two sector ETFs would you recommend to the portfolio manager? (Hint: compare the mean, sd, skewness, and excess kurtosis of each ETF's log return)"
   ]
  },
  {
   "cell_type": "markdown",
   "metadata": {},
   "source": [
    "[Write your answer here]"
   ]
  },
  {
   "cell_type": "markdown",
   "metadata": {},
   "source": [
    "b) If the portfolio manager's objective is to achieve the maximum return with minimum risk, which two sector ETFs would you recommend to her? How does this differ from your recommendation in a)? <br>\n",
    "(Hint 1: consider reward-to-risk ratio)<br>\n",
    "(Hint 2:You can save time by using the following code chunk to automate any metric computation)"
   ]
  },
  {
   "cell_type": "code",
   "execution_count": null,
   "metadata": {},
   "outputs": [],
   "source": [
    "################ EDIT CODE LINES HERE #################\n",
    "# Create an addition column in the summary table containing the risk-to-reward  ratios for each ETF and call it 'RR'\n",
    "# It should only be a one line code\n",
    "# After you create the column, run this code chunk to output the new summary statistics table\n",
    "\n",
    "\n",
    "\n",
    "  \n",
    "#####################################################"
   ]
  },
  {
   "cell_type": "markdown",
   "metadata": {},
   "source": [
    "[Write your answer here]"
   ]
  },
  {
   "cell_type": "markdown",
   "metadata": {},
   "source": [
    "c) What is one visualiztions that you can use to evaluate multiple ETF's before including any of them in your portfolio? (Hint: visualization techniques are suggested in earlier chapters)<br>\n",
    "You can just name the visualization method. Extra credit is given to those who implement the visuaization in the following code chunk."
   ]
  },
  {
   "cell_type": "markdown",
   "metadata": {},
   "source": [
    "[Write your answer here]"
   ]
  },
  {
   "cell_type": "code",
   "execution_count": null,
   "metadata": {},
   "outputs": [],
   "source": [
    "################ EDIT CODE LINES HERE (Optional) #################\n",
    "\n",
    "\n",
    "\n",
    "################################################################"
   ]
  },
  {
   "cell_type": "markdown",
   "metadata": {},
   "source": [
    "<h2 style=\"color:Green;\">Problem 2: Evaluating Portfolio Risks</h2><br/>"
   ]
  },
  {
   "cell_type": "markdown",
   "metadata": {},
   "source": [
    "After adding two sector ETFs from part a), the portoflio manager wants to add one more asset into her portfolio, but this time, she wants an asset with daily risks no more than 3% at a 10% significance level. You have become the portoflio manager's favorite quantitative analyst since the previous task, and have been asked to suggest an asset to add to her portfolio with follow-through analysis. Please follow the instructions specified in each part of this problem to deliver your suggestion and analysis.\n",
    "<br><br>\n",
    "Notice that any assets can be selected, and not just stocks. For example, cryptocurrency and foreign exchange instruments can be suggested as well. Some relatively new cryptocurrencies (e.g., Solana, USD Coin) only have complete data dating back to three or four years ago, so setting the duration of data further back than these dates may result in inaccurate representation of their relationships."
   ]
  },
  {
   "cell_type": "markdown",
   "metadata": {},
   "source": [
    "a) Please specify your asset's ticker and their data duration here. "
   ]
  },
  {
   "cell_type": "code",
   "execution_count": 97,
   "metadata": {},
   "outputs": [],
   "source": [
    "################ EDIT CODE LINES HERE #################\n",
    "\n",
    "ASSET_TICKER = ''     # Enter the asset's ticker here\n",
    "TAU =              # duration span (in years) of observed data\n",
    "\n",
    "###################################################"
   ]
  },
  {
   "cell_type": "markdown",
   "metadata": {},
   "source": [
    "Run the following code chunk. <br>\n",
    "<p style=\"color:red;\">PLEASE DO NOT CHANGE THIS CODE CHUNK!!!</p>"
   ]
  },
  {
   "cell_type": "code",
   "execution_count": 98,
   "metadata": {},
   "outputs": [],
   "source": [
    "START_DATE = (datetime.today() - timedelta(days = TAU * 365)).strftime('%Y-%m-%d') # data start date\n",
    "END_DATE = datetime.today().strftime('%Y-%m-%d') # data end date\n",
    "# storing adjusted stock prices into a variable \n",
    "assetPx = pdr.get_data_yahoo(ASSET_TICKER, START_DATE, END_DATE)['Adj Close'] \n",
    "# converting prices to log returns and removing NaN values\n",
    "assetLogRet = np.log(assetPx).diff().dropna()"
   ]
  },
  {
   "cell_type": "markdown",
   "metadata": {},
   "source": [
    "b) Run the following code chunk and observe the histogram for the asset's log returns. Describe its mean, standard deviation, and shape.\n",
    "<br>\n",
    "<p style=\"color:red;\">PLEASE DO NOT CHANGE THIS CODE CHUNK!!!</p>"
   ]
  },
  {
   "cell_type": "code",
   "execution_count": null,
   "metadata": {},
   "outputs": [],
   "source": [
    "_, bins, _= plt.hist(assetLogRet, bins=50, density=1, alpha=0.5)\n",
    "plt.title(\"Histogram of \" + ASSET_TICKER + \"'s Log Return\")\n",
    "plt.xlabel(\"Log Returns\"); plt.ylabel(\"Density\")"
   ]
  },
  {
   "cell_type": "markdown",
   "metadata": {},
   "source": [
    "[Write your answer here]"
   ]
  },
  {
   "cell_type": "markdown",
   "metadata": {},
   "source": [
    "c) Run the following code chunk and select one of the three probabiltiy distribution curves that you think best fits the histogram. Name the probability distribution and its parameters (e.g., degrees of freedom, location, scale).<br>\n",
    "<p style=\"color:red;\">PLEASE DO NOT CHANGE THIS CODE CHUNK!!!</p>"
   ]
  },
  {
   "cell_type": "code",
   "execution_count": null,
   "metadata": {},
   "outputs": [],
   "source": [
    "fig, axs = plt.subplots(1, 3, figsize=(18,5))\n",
    "\n",
    "# storing histogram bins and plotting the first histogram\n",
    "_, bins, _ = axs[0].hist(assetLogRet, bins=50, density=1, alpha=0.5)\n",
    "\n",
    "#---------------------------w/ Normal PDF-----------------------------\n",
    "mu, sigma = stats.norm.fit(assetLogRet)\n",
    "axs[0].plot(bins, stats.norm.pdf(bins, mu, sigma), label='normal pdf')\n",
    "axs[0].set_title(\"Normal(\"+str(np.round(mu, 4))+', '+str(np.round(sigma, 4))+\") Fit\")\n",
    "\n",
    "#---------------------------w/ Double Exponential PDF-----------------------------\n",
    "axs[1].hist(assetLogRet, bins=50, density=1, alpha=0.5)\n",
    "loc_dexp, scale_dexp = stats.laplace.fit(assetLogRet)\n",
    "axs[1].plot(bins, laplace.pdf(bins, loc_dexp, scale_dexp), label='double exponential pdf')\n",
    "axs[1].set_title(\"DExp(\"+str(np.round(loc_dexp, 4))+', '+str(np.round(scale_dexp, 4))+\") Fit\")\n",
    "\n",
    "#---------------------------w/ Student-t PDF-----------------------------\n",
    "axs[2].hist(assetLogRet, bins=50, density=1, alpha=0.5)\n",
    "df_t, loc_t, scale_t = stats.t.fit(assetLogRet)\n",
    "axs[2].plot(bins, t.pdf(bins, df_t, loc_t, scale_t), label='student-t pdf')\n",
    "axs[2].set_title(\"$t_{\"+str(np.round(df_t, 4))+\"}$\"+\"(\"+str(np.round(loc_t, 4))+', '+str(np.round(scale_t, 4))+\") Fit\")\n",
    "\n",
    "# labeling x and y axes\n",
    "for ax in axs.flat:\n",
    "    ax.set(xlabel='Log Returns', ylabel='Density')"
   ]
  },
  {
   "cell_type": "markdown",
   "metadata": {},
   "source": [
    "[Write your answer here]"
   ]
  },
  {
   "cell_type": "markdown",
   "metadata": {},
   "source": [
    "d)  If you cannot differentiate which distribution is a better fit from part b), run the follow code to fit QQ plots to the asset's log return quantiles. Then select one of the three QQ plots that you think best fits the log return quantiles. What is the theoretical distribution in this QQ plot? Is this distribution same as the one you selected in part b)?<br>\n",
    "<p style=\"color:red;\">PLEASE DO NOT CHANGE THIS CODE CHUNK!!!</p>"
   ]
  },
  {
   "cell_type": "code",
   "execution_count": null,
   "metadata": {},
   "outputs": [],
   "source": [
    "fig, axs = plt.subplots(1, 3, figsize=(18, 5))\n",
    "\n",
    "#---------------------------w/ Normal QQ Plot-----------------------------\n",
    "sm.qqplot(assetLogRet, stats.norm, fit=True, line='45', ax=axs[0])\n",
    "axs[0].set_title(\"Normal QQ Plot of \" + ASSET_TICKER + \"'s Log Return\")\n",
    "\n",
    "#---------------------------w/ Double Exponential QQ Plot-----------------------------\n",
    "sm.qqplot(assetLogRet, stats.laplace, fit=True, line='45', ax=axs[1])\n",
    "axs[1].set_title(\"Double Exponential QQ Plot of \" + ASSET_TICKER + \"'s Log Return\")\n",
    "\n",
    "#---------------------------w/ Student-t QQ Plot-----------------------------\n",
    "sm.qqplot(assetLogRet, stats.t, fit=True, line='45', ax=axs[2])\n",
    "axs[2].set_title(\"Student-t QQ Plot of \" + ASSET_TICKER + \"'s Log Return\")"
   ]
  },
  {
   "cell_type": "markdown",
   "metadata": {},
   "source": [
    "[Write your answer here]"
   ]
  },
  {
   "cell_type": "markdown",
   "metadata": {},
   "source": [
    "e)You are going to make a table summarizing the rVaR and rES at each significant levels with their respective quantiles. Of the code chunks (i), (ii), and (iii), run the appropriate code chunk to get the correct risk information.\n",
    "<ul>\n",
    "  <li type = \"i\">Run if Normal Distribution is selected in part c)</li>\n",
    "  <li type = \"i\">Run if Double Exponential Distribution is selected in part c)</li>\n",
    "  <li type = \"i\">Run if Student-t Distribution is selected in part c)</li>\n",
    "</ul>"
   ]
  },
  {
   "cell_type": "markdown",
   "metadata": {},
   "source": [
    "(i) <p style=\"color:blue;\">IF YOU SELECTED THE NORMAL DISTRIBUTION IN PART c), THEN RUN THIS CHUNK.</p>\n",
    "<p style=\"color:red;\">PLEASE DO NOT CHANGE THIS CODE CHUNK!!!</p>"
   ]
  },
  {
   "cell_type": "code",
   "execution_count": 84,
   "metadata": {},
   "outputs": [],
   "source": [
    "quantile_10 = norm.ppf(0.1, mu, sigma)\n",
    "quantile_5 = norm.ppf(0.05, mu, sigma)\n",
    "quantile_1 = norm.ppf(0.01, mu, sigma)\n",
    "quantile = [quantile_10, quantile_5, quantile_1] \n",
    "random.seed(10) # set a random seed so that anyone who re-runs this will get the same generated outcome\n",
    "simLoss = -(np.exp(norm.rvs(loc = mu, scale = sigma, size = 10000000))-1)      # enter code before this comment"
   ]
  },
  {
   "cell_type": "markdown",
   "metadata": {},
   "source": [
    "(ii) <p style=\"color:blue;\">IF YOU SELECTED THE DOUBLE EXPONENTIAL DISTRIBUTION IN PART c), THEN RUN THIS CHUNK.</p>\n",
    "<p style=\"color:red;\">PLEASE DO NOT CHANGE THIS CODE CHUNK!!!</p>"
   ]
  },
  {
   "cell_type": "code",
   "execution_count": 104,
   "metadata": {},
   "outputs": [],
   "source": [
    "quantile_10 = laplace.ppf(0.1, loc_dexp, scale_dexp)\n",
    "quantile_5 = laplace.ppf(0.05, loc_dexp, scale_dexp)\n",
    "quantile_1 = laplace.ppf(0.01, loc_dexp, scale_dexp)\n",
    "quantile = [quantile_10, quantile_5, quantile_1] \n",
    "random.seed(10) # set a random seed so that anyone who re-runs this will get the same generated outcome\n",
    "simLoss = -(np.exp(laplace.rvs(loc = loc_dexp, scale = scale_dexp, size = 10000000))-1)      # enter code before this comment"
   ]
  },
  {
   "cell_type": "markdown",
   "metadata": {},
   "source": [
    "(iii) <p style=\"color:blue;\">IF YOU SELECTED THE STUDENT-T DISTRIBUTION IN PART c), THEN RUN THIS CHUNK.</p>\n",
    "<p style=\"color:red;\">PLEASE DO NOT CHANGE THIS CODE CHUNK!!!</p>"
   ]
  },
  {
   "cell_type": "code",
   "execution_count": 86,
   "metadata": {},
   "outputs": [],
   "source": [
    "quantile_10 = t.ppf(0.1, df_t, loc_t, scale_t)\n",
    "quantile_5 = t.ppf(0.05, df_t, loc_t, scale_t)\n",
    "quantile_1 = t.ppf(0.01, df_t, loc_t, scale_t)\n",
    "quantile = [quantile_10, quantile_5, quantile_1] \n",
    "random.seed(10) # set a random seed so that anyone who re-runs this will get the same generated outcome\n",
    "simLoss = -(np.exp(t.rvs(df = df_t, loc = loc_t, scale = scale_t, size = 10000000))-1)      "
   ]
  },
  {
   "cell_type": "markdown",
   "metadata": {},
   "source": [
    "Run the following code chunk to get the relative Value-at-Risk (rVaR) at each significance level.\n",
    "<br>\n",
    "<p style=\"color:red;\">PLEASE DO NOT CHANGE THIS CODE CHUNK!!!</p>"
   ]
  },
  {
   "cell_type": "code",
   "execution_count": 87,
   "metadata": {},
   "outputs": [],
   "source": [
    "rVaR_10 = -(np.exp(quantile_10)-1)     \n",
    "rVaR_5 = -(np.exp(quantile_5)-1)     \n",
    "rVaR_1 = -(np.exp(quantile_1)-1)    \n",
    "rVaR = [rVaR_10, rVaR_5, rVaR_1] "
   ]
  },
  {
   "cell_type": "markdown",
   "metadata": {},
   "source": [
    "Run the following code chunk to get the relative Expected Shortfall (ES) at each significance level.\n",
    "<br>\n",
    "<p style=\"color:red;\">PLEASE DO NOT CHANGE THIS CODE CHUNK!!!</p>"
   ]
  },
  {
   "cell_type": "code",
   "execution_count": 105,
   "metadata": {},
   "outputs": [],
   "source": [
    "rES_10 = np.mean(simLoss[simLoss>rVaR_10])   \n",
    "rES_5 = np.mean(simLoss[simLoss>rVaR_5])      \n",
    "rES_1 = np.mean(simLoss[simLoss>rVaR_1])      \n",
    "rES = [rES_10, rES_5, rES_1] "
   ]
  },
  {
   "cell_type": "markdown",
   "metadata": {},
   "source": [
    "Run the following code chunk to output the risk summary table."
   ]
  },
  {
   "cell_type": "code",
   "execution_count": null,
   "metadata": {},
   "outputs": [],
   "source": [
    "pd.DataFrame({'Significance Level': ['10%', '5%', '1%'], 'Quantile': [quantile_10, quantile_5, quantile_1], 'rVaR': [rVaR_10, rVaR_5, rVaR_1], 'rES':[rES_10, rES_5, rES_1]})"
   ]
  },
  {
   "cell_type": "markdown",
   "metadata": {},
   "source": [
    "f) The portfolio manager tells you that she is planning to invest $95000 into the stock that you recommended in this problem, and wants to know at least how much (in dollar amount) she has to set aside to sustain the loss that occurrs at a 10% significance level. What would you tell her?"
   ]
  },
  {
   "cell_type": "markdown",
   "metadata": {},
   "source": [
    "[Write your answer here]"
   ]
  },
  {
   "cell_type": "markdown",
   "metadata": {},
   "source": [
    "g) She also wants to know on average, how much (in percentage) of her portfolio should she size in to sustain the loss that occurrs at a 5% significance level. What would you tell her?"
   ]
  },
  {
   "cell_type": "markdown",
   "metadata": {},
   "source": [
    "[Write your answer here]"
   ]
  }
 ],
 "metadata": {
  "kernelspec": {
   "display_name": "Python 3",
   "language": "python",
   "name": "python3"
  },
  "language_info": {
   "codemirror_mode": {
    "name": "ipython",
    "version": 3
   },
   "file_extension": ".py",
   "mimetype": "text/x-python",
   "name": "python",
   "nbconvert_exporter": "python",
   "pygments_lexer": "ipython3",
   "version": "3.7.6"
  },
  "toc": {
   "base_numbering": 1,
   "nav_menu": {},
   "number_sections": true,
   "sideBar": true,
   "skip_h1_title": true,
   "title_cell": "Table of Contents",
   "title_sidebar": "Contents",
   "toc_cell": false,
   "toc_position": {},
   "toc_section_display": true,
   "toc_window_display": true
  }
 },
 "nbformat": 4,
 "nbformat_minor": 2
}
