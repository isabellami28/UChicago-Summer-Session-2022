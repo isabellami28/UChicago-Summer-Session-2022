{
 "cells": [
  {
   "cell_type": "markdown",
   "metadata": {},
   "source": [
    "<h1 style=\"color:Green;\">Week 2 Lab</h1> "
   ]
  },
  {
   "cell_type": "markdown",
   "metadata": {},
   "source": [
    "<a style=\"color:purple;\" href=\"https://docs.google.com/presentation/d/1IsoKGNILvIqfo_yzBJYTCIf9qg4YysTIOFrJix6jYDI/edit#slide=id.g11b032e97d3_0_0\">[Week 2 Lecture Link Here]</a>"
   ]
  },
  {
   "cell_type": "markdown",
   "metadata": {},
   "source": [
    "<h2 style=\"color:Green;\">Setup and Loading Packages</h2> Setup and Loading Packages"
   ]
  },
  {
   "cell_type": "code",
   "execution_count": 2,
   "metadata": {
    "ExecuteTime": {
     "end_time": "2021-04-16T00:08:32.172640Z",
     "start_time": "2021-04-16T00:08:31.635143Z"
    }
   },
   "outputs": [],
   "source": [
    "%matplotlib inline\n",
    "import numpy as np\n",
    "import pandas as pd\n",
    "from matplotlib import pyplot as plt\n",
    "import seaborn as sns\n",
    "import scipy.stats as stats\n",
    "from datetime import datetime, timedelta\n",
    "from sklearn.preprocessing import scale\n",
    "from matplotlib.ticker import FuncFormatter\n",
    "import pandas_datareader as pdr"
   ]
  },
  {
   "cell_type": "markdown",
   "metadata": {},
   "source": [
    "<h2 style=\"color:Green;\">Question 1: Exploring Sector ETFs</h2><br/>"
   ]
  },
  {
   "cell_type": "markdown",
   "metadata": {},
   "source": [
    "A sector exchange-traded fund (ETF) is a pooled investment vehicle that invests specifically in the stocks and securities of a particular industry or sector, typically identified in the fund's title. For instance, a sector ETF may track a representative basket of stocks from a specific economic sector.<br>\n",
    "<br>\n",
    "Here is the list of sector ETFs:\n",
    "<ul>\n",
    "  <li>Healthcare: XLV</li>\n",
    "  <li>Utilities: XLU</li>\n",
    "  <li>Consumer Staples: XLP</li>\n",
    "  <li>Materials: XLB</li>\n",
    "  <li>Financials: XLF</li>\n",
    "  <li>Energy: XLE</li>\n",
    "  <li>Real Estate: XLRE</li>\n",
    "  <li>Information Technology: XLK</li>\n",
    "  <li>Consumer Discretionary: XLY</li>\n",
    "  <li>Communication Services: XLC</li>\n",
    "  <li>Industrials: XLI</li>\n",
    "</ul>\n",
    "\n",
    "Suppose that a portfolio manager is interested in concentrating the clients' assets in two sector ETFs. You, as a quantitative analyst generated the summary statistics table below to help with the manager's decision.\n",
    "<p style=\"color:red;\">PLEASE DO NOT CHANGE THIS CODE !!!</p>"
   ]
  },
  {
   "cell_type": "code",
   "execution_count": 10,
   "metadata": {
    "scrolled": false
   },
   "outputs": [
    {
     "data": {
      "text/html": [
       "<div>\n",
       "<style scoped>\n",
       "    .dataframe tbody tr th:only-of-type {\n",
       "        vertical-align: middle;\n",
       "    }\n",
       "\n",
       "    .dataframe tbody tr th {\n",
       "        vertical-align: top;\n",
       "    }\n",
       "\n",
       "    .dataframe thead th {\n",
       "        text-align: right;\n",
       "    }\n",
       "</style>\n",
       "<table border=\"1\" class=\"dataframe\">\n",
       "  <thead>\n",
       "    <tr style=\"text-align: right;\">\n",
       "      <th></th>\n",
       "      <th>mean</th>\n",
       "      <th>sd</th>\n",
       "      <th>skewness</th>\n",
       "      <th>excess kurtosis</th>\n",
       "    </tr>\n",
       "    <tr>\n",
       "      <th>Symbols</th>\n",
       "      <th></th>\n",
       "      <th></th>\n",
       "      <th></th>\n",
       "      <th></th>\n",
       "    </tr>\n",
       "  </thead>\n",
       "  <tbody>\n",
       "    <tr>\n",
       "      <th>XLV</th>\n",
       "      <td>0.000504</td>\n",
       "      <td>0.012507</td>\n",
       "      <td>-0.440063</td>\n",
       "      <td>11.392408</td>\n",
       "    </tr>\n",
       "    <tr>\n",
       "      <th>XLU</th>\n",
       "      <td>0.000477</td>\n",
       "      <td>0.014529</td>\n",
       "      <td>-0.229842</td>\n",
       "      <td>18.622735</td>\n",
       "    </tr>\n",
       "    <tr>\n",
       "      <th>XLP</th>\n",
       "      <td>0.000516</td>\n",
       "      <td>0.011093</td>\n",
       "      <td>-0.390604</td>\n",
       "      <td>17.229294</td>\n",
       "    </tr>\n",
       "    <tr>\n",
       "      <th>XLB</th>\n",
       "      <td>0.000470</td>\n",
       "      <td>0.015591</td>\n",
       "      <td>-0.661300</td>\n",
       "      <td>10.838504</td>\n",
       "    </tr>\n",
       "    <tr>\n",
       "      <th>XLF</th>\n",
       "      <td>0.000332</td>\n",
       "      <td>0.017688</td>\n",
       "      <td>-0.640803</td>\n",
       "      <td>14.248296</td>\n",
       "    </tr>\n",
       "    <tr>\n",
       "      <th>XLE</th>\n",
       "      <td>0.000256</td>\n",
       "      <td>0.023935</td>\n",
       "      <td>-0.959939</td>\n",
       "      <td>14.806696</td>\n",
       "    </tr>\n",
       "    <tr>\n",
       "      <th>XLRE</th>\n",
       "      <td>0.000514</td>\n",
       "      <td>0.015499</td>\n",
       "      <td>-1.564626</td>\n",
       "      <td>22.353386</td>\n",
       "    </tr>\n",
       "    <tr>\n",
       "      <th>XLK</th>\n",
       "      <td>0.000762</td>\n",
       "      <td>0.017573</td>\n",
       "      <td>-0.579194</td>\n",
       "      <td>10.160279</td>\n",
       "    </tr>\n",
       "    <tr>\n",
       "      <th>XLY</th>\n",
       "      <td>0.000439</td>\n",
       "      <td>0.015341</td>\n",
       "      <td>-1.042303</td>\n",
       "      <td>11.426613</td>\n",
       "    </tr>\n",
       "    <tr>\n",
       "      <th>XLI</th>\n",
       "      <td>0.000347</td>\n",
       "      <td>0.015630</td>\n",
       "      <td>-0.669812</td>\n",
       "      <td>13.073085</td>\n",
       "    </tr>\n",
       "    <tr>\n",
       "      <th>XLC</th>\n",
       "      <td>0.000236</td>\n",
       "      <td>0.015148</td>\n",
       "      <td>-0.796617</td>\n",
       "      <td>8.491592</td>\n",
       "    </tr>\n",
       "  </tbody>\n",
       "</table>\n",
       "</div>"
      ],
      "text/plain": [
       "             mean        sd  skewness  excess kurtosis\n",
       "Symbols                                               \n",
       "XLV      0.000504  0.012507 -0.440063        11.392408\n",
       "XLU      0.000477  0.014529 -0.229842        18.622735\n",
       "XLP      0.000516  0.011093 -0.390604        17.229294\n",
       "XLB      0.000470  0.015591 -0.661300        10.838504\n",
       "XLF      0.000332  0.017688 -0.640803        14.248296\n",
       "XLE      0.000256  0.023935 -0.959939        14.806696\n",
       "XLRE     0.000514  0.015499 -1.564626        22.353386\n",
       "XLK      0.000762  0.017573 -0.579194        10.160279\n",
       "XLY      0.000439  0.015341 -1.042303        11.426613\n",
       "XLI      0.000347  0.015630 -0.669812        13.073085\n",
       "XLC      0.000236  0.015148 -0.796617         8.491592"
      ]
     },
     "execution_count": 10,
     "metadata": {},
     "output_type": "execute_result"
    }
   ],
   "source": [
    "ETF_SYMBOLS = ['XLV','XLU','XLP','XLB','XLF','XLE','XLRE','XLK','XLY','XLI','XLC'] # Enter the two ticker symbols here\n",
    "TAU = 5         # Enter duration of data you want from Yahoo Finance\n",
    "START_DATE = (datetime.today() - timedelta(days = TAU * 365)).strftime('%Y-%m-%d') # data start date\n",
    "END_DATE = datetime.today().strftime('%Y-%m-%d') # data end date\n",
    "etfPxList = pdr.DataReader(ETF_SYMBOLS, 'yahoo', START_DATE, END_DATE)['Adj Close'] # retreiving asset price data from yahoo finance\n",
    "# converting prices to log returns and removing NaN values\n",
    "etfLogRetList = np.log(etfPxList).diff().dropna()\n",
    "sum_stats = pd.DataFrame({'mean':etfLogRetList.mean(), 'sd': etfLogRetList.std(), 'skewness':etfLogRetList.skew(), 'excess kurtosis':etfLogRetList.kurtosis()})\n",
    "sum_stats"
   ]
  },
  {
   "cell_type": "markdown",
   "metadata": {},
   "source": [
    "a) Based on the summary statistics of the ETF's log returns, which two ETFs would you recommend to the portfolio manager? (Hint: compare the mean, sd, skewness, and excess kurtosis of each ETF's log return)"
   ]
  },
  {
   "cell_type": "markdown",
   "metadata": {},
   "source": [
    "[Write your answer here]"
   ]
  },
  {
   "cell_type": "markdown",
   "metadata": {},
   "source": [
    "b) If the portfolio manager's objective is to achieve the maximum return with minimum risk, which two ETFs would you recommend to her? How does this differ from your recommendation in a)? <br>\n",
    "(Hint 1: consider reward-to-risk ratio)<br>\n",
    "(Hint 2:You can save time by using the following code chunk to automate any metric computation)"
   ]
  },
  {
   "cell_type": "code",
   "execution_count": 9,
   "metadata": {},
   "outputs": [],
   "source": [
    "################ ADD CODE LINE HERE #################\n",
    "# Create an addition column in the summary table containing the risk-to-reward  ratios for each ETF and call it 'RR'\n",
    "# It should only be a one line code\n",
    "# After you create the column, run this code chunk to output the new summary statistics table\n",
    "\n",
    "# write your code here #\n",
    "\n",
    "sum_stats  \n",
    "#####################################################"
   ]
  },
  {
   "cell_type": "markdown",
   "metadata": {},
   "source": [
    "[Write your answer here]"
   ]
  },
  {
   "cell_type": "markdown",
   "metadata": {},
   "source": [
    "c) What is one visualiztions that you can use to evaluate multiple ETF's before including any them in your portfolio? (Hint: visualization techniques are suggested in earlier chapters)<br>\n",
    "You can just name the visualization method. Extra credit is given to those who implement the visuaization in the following code chunk."
   ]
  },
  {
   "cell_type": "markdown",
   "metadata": {},
   "source": [
    "[Write your answer here]"
   ]
  },
  {
   "cell_type": "code",
   "execution_count": null,
   "metadata": {},
   "outputs": [],
   "source": [
    "################ ADD CODE LINE HERE (Optional) #################\n",
    "\n",
    "\n",
    "\n",
    "################################################################"
   ]
  },
  {
   "cell_type": "markdown",
   "metadata": {},
   "source": [
    "<h2 style=\"color:Green;\">Question 2: Become a Quantitative Modeler</h2><br/>"
   ]
  },
  {
   "cell_type": "code",
   "execution_count": null,
   "metadata": {},
   "outputs": [],
   "source": []
  },
  {
   "cell_type": "code",
   "execution_count": null,
   "metadata": {},
   "outputs": [],
   "source": []
  },
  {
   "cell_type": "code",
   "execution_count": null,
   "metadata": {},
   "outputs": [],
   "source": []
  }
 ],
 "metadata": {
  "kernelspec": {
   "display_name": "Python 3",
   "language": "python",
   "name": "python3"
  },
  "language_info": {
   "codemirror_mode": {
    "name": "ipython",
    "version": 3
   },
   "file_extension": ".py",
   "mimetype": "text/x-python",
   "name": "python",
   "nbconvert_exporter": "python",
   "pygments_lexer": "ipython3",
   "version": "3.7.6"
  },
  "toc": {
   "base_numbering": 1,
   "nav_menu": {},
   "number_sections": true,
   "sideBar": true,
   "skip_h1_title": true,
   "title_cell": "Table of Contents",
   "title_sidebar": "Contents",
   "toc_cell": false,
   "toc_position": {},
   "toc_section_display": true,
   "toc_window_display": true
  }
 },
 "nbformat": 4,
 "nbformat_minor": 2
}
